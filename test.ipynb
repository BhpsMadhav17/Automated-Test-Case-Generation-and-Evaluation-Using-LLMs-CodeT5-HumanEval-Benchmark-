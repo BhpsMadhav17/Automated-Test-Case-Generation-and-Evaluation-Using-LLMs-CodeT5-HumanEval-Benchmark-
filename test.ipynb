{
  "nbformat": 4,
  "nbformat_minor": 0,
  "metadata": {
    "colab": {
      "provenance": [],
      "gpuType": "V28"
    },
    "kernelspec": {
      "name": "python3",
      "display_name": "Python 3"
    },
    "language_info": {
      "name": "python"
    },
    "widgets": {
      "application/vnd.jupyter.widget-state+json": {
        "eb1375109c8b4da19d12d316b974cdbb": {
          "model_module": "@jupyter-widgets/controls",
          "model_name": "HBoxModel",
          "model_module_version": "1.5.0",
          "state": {
            "_dom_classes": [],
            "_model_module": "@jupyter-widgets/controls",
            "_model_module_version": "1.5.0",
            "_model_name": "HBoxModel",
            "_view_count": null,
            "_view_module": "@jupyter-widgets/controls",
            "_view_module_version": "1.5.0",
            "_view_name": "HBoxView",
            "box_style": "",
            "children": [
              "IPY_MODEL_c6376807e744460495eabf70bf26f796",
              "IPY_MODEL_a841ad22700b4676843ca97437763596",
              "IPY_MODEL_d81b9c14deac4b3ba9daa26e296c6dd0"
            ],
            "layout": "IPY_MODEL_706569984966494aa353b7d683621b90"
          }
        },
        "c6376807e744460495eabf70bf26f796": {
          "model_module": "@jupyter-widgets/controls",
          "model_name": "HTMLModel",
          "model_module_version": "1.5.0",
          "state": {
            "_dom_classes": [],
            "_model_module": "@jupyter-widgets/controls",
            "_model_module_version": "1.5.0",
            "_model_name": "HTMLModel",
            "_view_count": null,
            "_view_module": "@jupyter-widgets/controls",
            "_view_module_version": "1.5.0",
            "_view_name": "HTMLView",
            "description": "",
            "description_tooltip": null,
            "layout": "IPY_MODEL_7aa8a383771c46839d136d6d9e3aea9e",
            "placeholder": "​",
            "style": "IPY_MODEL_cc14bc6ed4a446b9ab5e9511e318ad0e",
            "value": "tokenizer_config.json: 100%"
          }
        },
        "a841ad22700b4676843ca97437763596": {
          "model_module": "@jupyter-widgets/controls",
          "model_name": "FloatProgressModel",
          "model_module_version": "1.5.0",
          "state": {
            "_dom_classes": [],
            "_model_module": "@jupyter-widgets/controls",
            "_model_module_version": "1.5.0",
            "_model_name": "FloatProgressModel",
            "_view_count": null,
            "_view_module": "@jupyter-widgets/controls",
            "_view_module_version": "1.5.0",
            "_view_name": "ProgressView",
            "bar_style": "success",
            "description": "",
            "description_tooltip": null,
            "layout": "IPY_MODEL_01dde8c85a2e47f9bc18c95af05052a7",
            "max": 1477,
            "min": 0,
            "orientation": "horizontal",
            "style": "IPY_MODEL_648bac17638d41c088a49c33034cb7bf",
            "value": 1477
          }
        },
        "d81b9c14deac4b3ba9daa26e296c6dd0": {
          "model_module": "@jupyter-widgets/controls",
          "model_name": "HTMLModel",
          "model_module_version": "1.5.0",
          "state": {
            "_dom_classes": [],
            "_model_module": "@jupyter-widgets/controls",
            "_model_module_version": "1.5.0",
            "_model_name": "HTMLModel",
            "_view_count": null,
            "_view_module": "@jupyter-widgets/controls",
            "_view_module_version": "1.5.0",
            "_view_name": "HTMLView",
            "description": "",
            "description_tooltip": null,
            "layout": "IPY_MODEL_20adefde507143628fd2f5bf7126ee46",
            "placeholder": "​",
            "style": "IPY_MODEL_b76d4e32e0d343b682568cb50f7b8f16",
            "value": " 1.48k/1.48k [00:00&lt;00:00, 96.8kB/s]"
          }
        },
        "706569984966494aa353b7d683621b90": {
          "model_module": "@jupyter-widgets/base",
          "model_name": "LayoutModel",
          "model_module_version": "1.2.0",
          "state": {
            "_model_module": "@jupyter-widgets/base",
            "_model_module_version": "1.2.0",
            "_model_name": "LayoutModel",
            "_view_count": null,
            "_view_module": "@jupyter-widgets/base",
            "_view_module_version": "1.2.0",
            "_view_name": "LayoutView",
            "align_content": null,
            "align_items": null,
            "align_self": null,
            "border": null,
            "bottom": null,
            "display": null,
            "flex": null,
            "flex_flow": null,
            "grid_area": null,
            "grid_auto_columns": null,
            "grid_auto_flow": null,
            "grid_auto_rows": null,
            "grid_column": null,
            "grid_gap": null,
            "grid_row": null,
            "grid_template_areas": null,
            "grid_template_columns": null,
            "grid_template_rows": null,
            "height": null,
            "justify_content": null,
            "justify_items": null,
            "left": null,
            "margin": null,
            "max_height": null,
            "max_width": null,
            "min_height": null,
            "min_width": null,
            "object_fit": null,
            "object_position": null,
            "order": null,
            "overflow": null,
            "overflow_x": null,
            "overflow_y": null,
            "padding": null,
            "right": null,
            "top": null,
            "visibility": null,
            "width": null
          }
        },
        "7aa8a383771c46839d136d6d9e3aea9e": {
          "model_module": "@jupyter-widgets/base",
          "model_name": "LayoutModel",
          "model_module_version": "1.2.0",
          "state": {
            "_model_module": "@jupyter-widgets/base",
            "_model_module_version": "1.2.0",
            "_model_name": "LayoutModel",
            "_view_count": null,
            "_view_module": "@jupyter-widgets/base",
            "_view_module_version": "1.2.0",
            "_view_name": "LayoutView",
            "align_content": null,
            "align_items": null,
            "align_self": null,
            "border": null,
            "bottom": null,
            "display": null,
            "flex": null,
            "flex_flow": null,
            "grid_area": null,
            "grid_auto_columns": null,
            "grid_auto_flow": null,
            "grid_auto_rows": null,
            "grid_column": null,
            "grid_gap": null,
            "grid_row": null,
            "grid_template_areas": null,
            "grid_template_columns": null,
            "grid_template_rows": null,
            "height": null,
            "justify_content": null,
            "justify_items": null,
            "left": null,
            "margin": null,
            "max_height": null,
            "max_width": null,
            "min_height": null,
            "min_width": null,
            "object_fit": null,
            "object_position": null,
            "order": null,
            "overflow": null,
            "overflow_x": null,
            "overflow_y": null,
            "padding": null,
            "right": null,
            "top": null,
            "visibility": null,
            "width": null
          }
        },
        "cc14bc6ed4a446b9ab5e9511e318ad0e": {
          "model_module": "@jupyter-widgets/controls",
          "model_name": "DescriptionStyleModel",
          "model_module_version": "1.5.0",
          "state": {
            "_model_module": "@jupyter-widgets/controls",
            "_model_module_version": "1.5.0",
            "_model_name": "DescriptionStyleModel",
            "_view_count": null,
            "_view_module": "@jupyter-widgets/base",
            "_view_module_version": "1.2.0",
            "_view_name": "StyleView",
            "description_width": ""
          }
        },
        "01dde8c85a2e47f9bc18c95af05052a7": {
          "model_module": "@jupyter-widgets/base",
          "model_name": "LayoutModel",
          "model_module_version": "1.2.0",
          "state": {
            "_model_module": "@jupyter-widgets/base",
            "_model_module_version": "1.2.0",
            "_model_name": "LayoutModel",
            "_view_count": null,
            "_view_module": "@jupyter-widgets/base",
            "_view_module_version": "1.2.0",
            "_view_name": "LayoutView",
            "align_content": null,
            "align_items": null,
            "align_self": null,
            "border": null,
            "bottom": null,
            "display": null,
            "flex": null,
            "flex_flow": null,
            "grid_area": null,
            "grid_auto_columns": null,
            "grid_auto_flow": null,
            "grid_auto_rows": null,
            "grid_column": null,
            "grid_gap": null,
            "grid_row": null,
            "grid_template_areas": null,
            "grid_template_columns": null,
            "grid_template_rows": null,
            "height": null,
            "justify_content": null,
            "justify_items": null,
            "left": null,
            "margin": null,
            "max_height": null,
            "max_width": null,
            "min_height": null,
            "min_width": null,
            "object_fit": null,
            "object_position": null,
            "order": null,
            "overflow": null,
            "overflow_x": null,
            "overflow_y": null,
            "padding": null,
            "right": null,
            "top": null,
            "visibility": null,
            "width": null
          }
        },
        "648bac17638d41c088a49c33034cb7bf": {
          "model_module": "@jupyter-widgets/controls",
          "model_name": "ProgressStyleModel",
          "model_module_version": "1.5.0",
          "state": {
            "_model_module": "@jupyter-widgets/controls",
            "_model_module_version": "1.5.0",
            "_model_name": "ProgressStyleModel",
            "_view_count": null,
            "_view_module": "@jupyter-widgets/base",
            "_view_module_version": "1.2.0",
            "_view_name": "StyleView",
            "bar_color": null,
            "description_width": ""
          }
        },
        "20adefde507143628fd2f5bf7126ee46": {
          "model_module": "@jupyter-widgets/base",
          "model_name": "LayoutModel",
          "model_module_version": "1.2.0",
          "state": {
            "_model_module": "@jupyter-widgets/base",
            "_model_module_version": "1.2.0",
            "_model_name": "LayoutModel",
            "_view_count": null,
            "_view_module": "@jupyter-widgets/base",
            "_view_module_version": "1.2.0",
            "_view_name": "LayoutView",
            "align_content": null,
            "align_items": null,
            "align_self": null,
            "border": null,
            "bottom": null,
            "display": null,
            "flex": null,
            "flex_flow": null,
            "grid_area": null,
            "grid_auto_columns": null,
            "grid_auto_flow": null,
            "grid_auto_rows": null,
            "grid_column": null,
            "grid_gap": null,
            "grid_row": null,
            "grid_template_areas": null,
            "grid_template_columns": null,
            "grid_template_rows": null,
            "height": null,
            "justify_content": null,
            "justify_items": null,
            "left": null,
            "margin": null,
            "max_height": null,
            "max_width": null,
            "min_height": null,
            "min_width": null,
            "object_fit": null,
            "object_position": null,
            "order": null,
            "overflow": null,
            "overflow_x": null,
            "overflow_y": null,
            "padding": null,
            "right": null,
            "top": null,
            "visibility": null,
            "width": null
          }
        },
        "b76d4e32e0d343b682568cb50f7b8f16": {
          "model_module": "@jupyter-widgets/controls",
          "model_name": "DescriptionStyleModel",
          "model_module_version": "1.5.0",
          "state": {
            "_model_module": "@jupyter-widgets/controls",
            "_model_module_version": "1.5.0",
            "_model_name": "DescriptionStyleModel",
            "_view_count": null,
            "_view_module": "@jupyter-widgets/base",
            "_view_module_version": "1.2.0",
            "_view_name": "StyleView",
            "description_width": ""
          }
        },
        "fa001d5118e5472888c8112fdc49bc3c": {
          "model_module": "@jupyter-widgets/controls",
          "model_name": "HBoxModel",
          "model_module_version": "1.5.0",
          "state": {
            "_dom_classes": [],
            "_model_module": "@jupyter-widgets/controls",
            "_model_module_version": "1.5.0",
            "_model_name": "HBoxModel",
            "_view_count": null,
            "_view_module": "@jupyter-widgets/controls",
            "_view_module_version": "1.5.0",
            "_view_name": "HBoxView",
            "box_style": "",
            "children": [
              "IPY_MODEL_f922c5150d7843c1bc03ff0fd19ecfee",
              "IPY_MODEL_38576105f7814799a87d43a59cc31c23",
              "IPY_MODEL_cfd0e9d67a384732a2d74f71d60c8cc0"
            ],
            "layout": "IPY_MODEL_1ebfbdfeca364578a43d8df202f37f11"
          }
        },
        "f922c5150d7843c1bc03ff0fd19ecfee": {
          "model_module": "@jupyter-widgets/controls",
          "model_name": "HTMLModel",
          "model_module_version": "1.5.0",
          "state": {
            "_dom_classes": [],
            "_model_module": "@jupyter-widgets/controls",
            "_model_module_version": "1.5.0",
            "_model_name": "HTMLModel",
            "_view_count": null,
            "_view_module": "@jupyter-widgets/controls",
            "_view_module_version": "1.5.0",
            "_view_name": "HTMLView",
            "description": "",
            "description_tooltip": null,
            "layout": "IPY_MODEL_1c953b6662884c8ca5bb7bb830ba8ded",
            "placeholder": "​",
            "style": "IPY_MODEL_bf9b109740c548a29cf23bc0bf7f57be",
            "value": "vocab.json: 100%"
          }
        },
        "38576105f7814799a87d43a59cc31c23": {
          "model_module": "@jupyter-widgets/controls",
          "model_name": "FloatProgressModel",
          "model_module_version": "1.5.0",
          "state": {
            "_dom_classes": [],
            "_model_module": "@jupyter-widgets/controls",
            "_model_module_version": "1.5.0",
            "_model_name": "FloatProgressModel",
            "_view_count": null,
            "_view_module": "@jupyter-widgets/controls",
            "_view_module_version": "1.5.0",
            "_view_name": "ProgressView",
            "bar_style": "success",
            "description": "",
            "description_tooltip": null,
            "layout": "IPY_MODEL_37c97bb9ebf945fc95ec3df11f2c6518",
            "max": 703051,
            "min": 0,
            "orientation": "horizontal",
            "style": "IPY_MODEL_da24431f081b400884583a6e4c210024",
            "value": 703051
          }
        },
        "cfd0e9d67a384732a2d74f71d60c8cc0": {
          "model_module": "@jupyter-widgets/controls",
          "model_name": "HTMLModel",
          "model_module_version": "1.5.0",
          "state": {
            "_dom_classes": [],
            "_model_module": "@jupyter-widgets/controls",
            "_model_module_version": "1.5.0",
            "_model_name": "HTMLModel",
            "_view_count": null,
            "_view_module": "@jupyter-widgets/controls",
            "_view_module_version": "1.5.0",
            "_view_name": "HTMLView",
            "description": "",
            "description_tooltip": null,
            "layout": "IPY_MODEL_b0f80269ab7742658312a8ba81630e75",
            "placeholder": "​",
            "style": "IPY_MODEL_d93bb94b6c4a4a2d84aaebe301c30f6c",
            "value": " 703k/703k [00:00&lt;00:00, 3.28MB/s]"
          }
        },
        "1ebfbdfeca364578a43d8df202f37f11": {
          "model_module": "@jupyter-widgets/base",
          "model_name": "LayoutModel",
          "model_module_version": "1.2.0",
          "state": {
            "_model_module": "@jupyter-widgets/base",
            "_model_module_version": "1.2.0",
            "_model_name": "LayoutModel",
            "_view_count": null,
            "_view_module": "@jupyter-widgets/base",
            "_view_module_version": "1.2.0",
            "_view_name": "LayoutView",
            "align_content": null,
            "align_items": null,
            "align_self": null,
            "border": null,
            "bottom": null,
            "display": null,
            "flex": null,
            "flex_flow": null,
            "grid_area": null,
            "grid_auto_columns": null,
            "grid_auto_flow": null,
            "grid_auto_rows": null,
            "grid_column": null,
            "grid_gap": null,
            "grid_row": null,
            "grid_template_areas": null,
            "grid_template_columns": null,
            "grid_template_rows": null,
            "height": null,
            "justify_content": null,
            "justify_items": null,
            "left": null,
            "margin": null,
            "max_height": null,
            "max_width": null,
            "min_height": null,
            "min_width": null,
            "object_fit": null,
            "object_position": null,
            "order": null,
            "overflow": null,
            "overflow_x": null,
            "overflow_y": null,
            "padding": null,
            "right": null,
            "top": null,
            "visibility": null,
            "width": null
          }
        },
        "1c953b6662884c8ca5bb7bb830ba8ded": {
          "model_module": "@jupyter-widgets/base",
          "model_name": "LayoutModel",
          "model_module_version": "1.2.0",
          "state": {
            "_model_module": "@jupyter-widgets/base",
            "_model_module_version": "1.2.0",
            "_model_name": "LayoutModel",
            "_view_count": null,
            "_view_module": "@jupyter-widgets/base",
            "_view_module_version": "1.2.0",
            "_view_name": "LayoutView",
            "align_content": null,
            "align_items": null,
            "align_self": null,
            "border": null,
            "bottom": null,
            "display": null,
            "flex": null,
            "flex_flow": null,
            "grid_area": null,
            "grid_auto_columns": null,
            "grid_auto_flow": null,
            "grid_auto_rows": null,
            "grid_column": null,
            "grid_gap": null,
            "grid_row": null,
            "grid_template_areas": null,
            "grid_template_columns": null,
            "grid_template_rows": null,
            "height": null,
            "justify_content": null,
            "justify_items": null,
            "left": null,
            "margin": null,
            "max_height": null,
            "max_width": null,
            "min_height": null,
            "min_width": null,
            "object_fit": null,
            "object_position": null,
            "order": null,
            "overflow": null,
            "overflow_x": null,
            "overflow_y": null,
            "padding": null,
            "right": null,
            "top": null,
            "visibility": null,
            "width": null
          }
        },
        "bf9b109740c548a29cf23bc0bf7f57be": {
          "model_module": "@jupyter-widgets/controls",
          "model_name": "DescriptionStyleModel",
          "model_module_version": "1.5.0",
          "state": {
            "_model_module": "@jupyter-widgets/controls",
            "_model_module_version": "1.5.0",
            "_model_name": "DescriptionStyleModel",
            "_view_count": null,
            "_view_module": "@jupyter-widgets/base",
            "_view_module_version": "1.2.0",
            "_view_name": "StyleView",
            "description_width": ""
          }
        },
        "37c97bb9ebf945fc95ec3df11f2c6518": {
          "model_module": "@jupyter-widgets/base",
          "model_name": "LayoutModel",
          "model_module_version": "1.2.0",
          "state": {
            "_model_module": "@jupyter-widgets/base",
            "_model_module_version": "1.2.0",
            "_model_name": "LayoutModel",
            "_view_count": null,
            "_view_module": "@jupyter-widgets/base",
            "_view_module_version": "1.2.0",
            "_view_name": "LayoutView",
            "align_content": null,
            "align_items": null,
            "align_self": null,
            "border": null,
            "bottom": null,
            "display": null,
            "flex": null,
            "flex_flow": null,
            "grid_area": null,
            "grid_auto_columns": null,
            "grid_auto_flow": null,
            "grid_auto_rows": null,
            "grid_column": null,
            "grid_gap": null,
            "grid_row": null,
            "grid_template_areas": null,
            "grid_template_columns": null,
            "grid_template_rows": null,
            "height": null,
            "justify_content": null,
            "justify_items": null,
            "left": null,
            "margin": null,
            "max_height": null,
            "max_width": null,
            "min_height": null,
            "min_width": null,
            "object_fit": null,
            "object_position": null,
            "order": null,
            "overflow": null,
            "overflow_x": null,
            "overflow_y": null,
            "padding": null,
            "right": null,
            "top": null,
            "visibility": null,
            "width": null
          }
        },
        "da24431f081b400884583a6e4c210024": {
          "model_module": "@jupyter-widgets/controls",
          "model_name": "ProgressStyleModel",
          "model_module_version": "1.5.0",
          "state": {
            "_model_module": "@jupyter-widgets/controls",
            "_model_module_version": "1.5.0",
            "_model_name": "ProgressStyleModel",
            "_view_count": null,
            "_view_module": "@jupyter-widgets/base",
            "_view_module_version": "1.2.0",
            "_view_name": "StyleView",
            "bar_color": null,
            "description_width": ""
          }
        },
        "b0f80269ab7742658312a8ba81630e75": {
          "model_module": "@jupyter-widgets/base",
          "model_name": "LayoutModel",
          "model_module_version": "1.2.0",
          "state": {
            "_model_module": "@jupyter-widgets/base",
            "_model_module_version": "1.2.0",
            "_model_name": "LayoutModel",
            "_view_count": null,
            "_view_module": "@jupyter-widgets/base",
            "_view_module_version": "1.2.0",
            "_view_name": "LayoutView",
            "align_content": null,
            "align_items": null,
            "align_self": null,
            "border": null,
            "bottom": null,
            "display": null,
            "flex": null,
            "flex_flow": null,
            "grid_area": null,
            "grid_auto_columns": null,
            "grid_auto_flow": null,
            "grid_auto_rows": null,
            "grid_column": null,
            "grid_gap": null,
            "grid_row": null,
            "grid_template_areas": null,
            "grid_template_columns": null,
            "grid_template_rows": null,
            "height": null,
            "justify_content": null,
            "justify_items": null,
            "left": null,
            "margin": null,
            "max_height": null,
            "max_width": null,
            "min_height": null,
            "min_width": null,
            "object_fit": null,
            "object_position": null,
            "order": null,
            "overflow": null,
            "overflow_x": null,
            "overflow_y": null,
            "padding": null,
            "right": null,
            "top": null,
            "visibility": null,
            "width": null
          }
        },
        "d93bb94b6c4a4a2d84aaebe301c30f6c": {
          "model_module": "@jupyter-widgets/controls",
          "model_name": "DescriptionStyleModel",
          "model_module_version": "1.5.0",
          "state": {
            "_model_module": "@jupyter-widgets/controls",
            "_model_module_version": "1.5.0",
            "_model_name": "DescriptionStyleModel",
            "_view_count": null,
            "_view_module": "@jupyter-widgets/base",
            "_view_module_version": "1.2.0",
            "_view_name": "StyleView",
            "description_width": ""
          }
        },
        "265fe809d58e434d84f1b3fd01c8f912": {
          "model_module": "@jupyter-widgets/controls",
          "model_name": "HBoxModel",
          "model_module_version": "1.5.0",
          "state": {
            "_dom_classes": [],
            "_model_module": "@jupyter-widgets/controls",
            "_model_module_version": "1.5.0",
            "_model_name": "HBoxModel",
            "_view_count": null,
            "_view_module": "@jupyter-widgets/controls",
            "_view_module_version": "1.5.0",
            "_view_name": "HBoxView",
            "box_style": "",
            "children": [
              "IPY_MODEL_9a6427b7dade4dce8a62c442e5c412e0",
              "IPY_MODEL_f81946aeef284a5589f0dd336a2be04c",
              "IPY_MODEL_a200da5231bb4e2caeddb332c91dfe93"
            ],
            "layout": "IPY_MODEL_3a87712452284a5aa11357a7c40f4ee3"
          }
        },
        "9a6427b7dade4dce8a62c442e5c412e0": {
          "model_module": "@jupyter-widgets/controls",
          "model_name": "HTMLModel",
          "model_module_version": "1.5.0",
          "state": {
            "_dom_classes": [],
            "_model_module": "@jupyter-widgets/controls",
            "_model_module_version": "1.5.0",
            "_model_name": "HTMLModel",
            "_view_count": null,
            "_view_module": "@jupyter-widgets/controls",
            "_view_module_version": "1.5.0",
            "_view_name": "HTMLView",
            "description": "",
            "description_tooltip": null,
            "layout": "IPY_MODEL_678899e0326f464692179c329c727470",
            "placeholder": "​",
            "style": "IPY_MODEL_99427bc6c57649d9bc34949988b22134",
            "value": "merges.txt: 100%"
          }
        },
        "f81946aeef284a5589f0dd336a2be04c": {
          "model_module": "@jupyter-widgets/controls",
          "model_name": "FloatProgressModel",
          "model_module_version": "1.5.0",
          "state": {
            "_dom_classes": [],
            "_model_module": "@jupyter-widgets/controls",
            "_model_module_version": "1.5.0",
            "_model_name": "FloatProgressModel",
            "_view_count": null,
            "_view_module": "@jupyter-widgets/controls",
            "_view_module_version": "1.5.0",
            "_view_name": "ProgressView",
            "bar_style": "success",
            "description": "",
            "description_tooltip": null,
            "layout": "IPY_MODEL_e66e62b98cbe4803a24758a47ad1327d",
            "max": 294364,
            "min": 0,
            "orientation": "horizontal",
            "style": "IPY_MODEL_e8b8db0ddc4a4010a34611b17f068dc0",
            "value": 294364
          }
        },
        "a200da5231bb4e2caeddb332c91dfe93": {
          "model_module": "@jupyter-widgets/controls",
          "model_name": "HTMLModel",
          "model_module_version": "1.5.0",
          "state": {
            "_dom_classes": [],
            "_model_module": "@jupyter-widgets/controls",
            "_model_module_version": "1.5.0",
            "_model_name": "HTMLModel",
            "_view_count": null,
            "_view_module": "@jupyter-widgets/controls",
            "_view_module_version": "1.5.0",
            "_view_name": "HTMLView",
            "description": "",
            "description_tooltip": null,
            "layout": "IPY_MODEL_7561af76f6a4407281320b3bbb0e6a3f",
            "placeholder": "​",
            "style": "IPY_MODEL_710fcfb4fc9b4cb6aee51ae690e7e539",
            "value": " 294k/294k [00:00&lt;00:00, 17.9MB/s]"
          }
        },
        "3a87712452284a5aa11357a7c40f4ee3": {
          "model_module": "@jupyter-widgets/base",
          "model_name": "LayoutModel",
          "model_module_version": "1.2.0",
          "state": {
            "_model_module": "@jupyter-widgets/base",
            "_model_module_version": "1.2.0",
            "_model_name": "LayoutModel",
            "_view_count": null,
            "_view_module": "@jupyter-widgets/base",
            "_view_module_version": "1.2.0",
            "_view_name": "LayoutView",
            "align_content": null,
            "align_items": null,
            "align_self": null,
            "border": null,
            "bottom": null,
            "display": null,
            "flex": null,
            "flex_flow": null,
            "grid_area": null,
            "grid_auto_columns": null,
            "grid_auto_flow": null,
            "grid_auto_rows": null,
            "grid_column": null,
            "grid_gap": null,
            "grid_row": null,
            "grid_template_areas": null,
            "grid_template_columns": null,
            "grid_template_rows": null,
            "height": null,
            "justify_content": null,
            "justify_items": null,
            "left": null,
            "margin": null,
            "max_height": null,
            "max_width": null,
            "min_height": null,
            "min_width": null,
            "object_fit": null,
            "object_position": null,
            "order": null,
            "overflow": null,
            "overflow_x": null,
            "overflow_y": null,
            "padding": null,
            "right": null,
            "top": null,
            "visibility": null,
            "width": null
          }
        },
        "678899e0326f464692179c329c727470": {
          "model_module": "@jupyter-widgets/base",
          "model_name": "LayoutModel",
          "model_module_version": "1.2.0",
          "state": {
            "_model_module": "@jupyter-widgets/base",
            "_model_module_version": "1.2.0",
            "_model_name": "LayoutModel",
            "_view_count": null,
            "_view_module": "@jupyter-widgets/base",
            "_view_module_version": "1.2.0",
            "_view_name": "LayoutView",
            "align_content": null,
            "align_items": null,
            "align_self": null,
            "border": null,
            "bottom": null,
            "display": null,
            "flex": null,
            "flex_flow": null,
            "grid_area": null,
            "grid_auto_columns": null,
            "grid_auto_flow": null,
            "grid_auto_rows": null,
            "grid_column": null,
            "grid_gap": null,
            "grid_row": null,
            "grid_template_areas": null,
            "grid_template_columns": null,
            "grid_template_rows": null,
            "height": null,
            "justify_content": null,
            "justify_items": null,
            "left": null,
            "margin": null,
            "max_height": null,
            "max_width": null,
            "min_height": null,
            "min_width": null,
            "object_fit": null,
            "object_position": null,
            "order": null,
            "overflow": null,
            "overflow_x": null,
            "overflow_y": null,
            "padding": null,
            "right": null,
            "top": null,
            "visibility": null,
            "width": null
          }
        },
        "99427bc6c57649d9bc34949988b22134": {
          "model_module": "@jupyter-widgets/controls",
          "model_name": "DescriptionStyleModel",
          "model_module_version": "1.5.0",
          "state": {
            "_model_module": "@jupyter-widgets/controls",
            "_model_module_version": "1.5.0",
            "_model_name": "DescriptionStyleModel",
            "_view_count": null,
            "_view_module": "@jupyter-widgets/base",
            "_view_module_version": "1.2.0",
            "_view_name": "StyleView",
            "description_width": ""
          }
        },
        "e66e62b98cbe4803a24758a47ad1327d": {
          "model_module": "@jupyter-widgets/base",
          "model_name": "LayoutModel",
          "model_module_version": "1.2.0",
          "state": {
            "_model_module": "@jupyter-widgets/base",
            "_model_module_version": "1.2.0",
            "_model_name": "LayoutModel",
            "_view_count": null,
            "_view_module": "@jupyter-widgets/base",
            "_view_module_version": "1.2.0",
            "_view_name": "LayoutView",
            "align_content": null,
            "align_items": null,
            "align_self": null,
            "border": null,
            "bottom": null,
            "display": null,
            "flex": null,
            "flex_flow": null,
            "grid_area": null,
            "grid_auto_columns": null,
            "grid_auto_flow": null,
            "grid_auto_rows": null,
            "grid_column": null,
            "grid_gap": null,
            "grid_row": null,
            "grid_template_areas": null,
            "grid_template_columns": null,
            "grid_template_rows": null,
            "height": null,
            "justify_content": null,
            "justify_items": null,
            "left": null,
            "margin": null,
            "max_height": null,
            "max_width": null,
            "min_height": null,
            "min_width": null,
            "object_fit": null,
            "object_position": null,
            "order": null,
            "overflow": null,
            "overflow_x": null,
            "overflow_y": null,
            "padding": null,
            "right": null,
            "top": null,
            "visibility": null,
            "width": null
          }
        },
        "e8b8db0ddc4a4010a34611b17f068dc0": {
          "model_module": "@jupyter-widgets/controls",
          "model_name": "ProgressStyleModel",
          "model_module_version": "1.5.0",
          "state": {
            "_model_module": "@jupyter-widgets/controls",
            "_model_module_version": "1.5.0",
            "_model_name": "ProgressStyleModel",
            "_view_count": null,
            "_view_module": "@jupyter-widgets/base",
            "_view_module_version": "1.2.0",
            "_view_name": "StyleView",
            "bar_color": null,
            "description_width": ""
          }
        },
        "7561af76f6a4407281320b3bbb0e6a3f": {
          "model_module": "@jupyter-widgets/base",
          "model_name": "LayoutModel",
          "model_module_version": "1.2.0",
          "state": {
            "_model_module": "@jupyter-widgets/base",
            "_model_module_version": "1.2.0",
            "_model_name": "LayoutModel",
            "_view_count": null,
            "_view_module": "@jupyter-widgets/base",
            "_view_module_version": "1.2.0",
            "_view_name": "LayoutView",
            "align_content": null,
            "align_items": null,
            "align_self": null,
            "border": null,
            "bottom": null,
            "display": null,
            "flex": null,
            "flex_flow": null,
            "grid_area": null,
            "grid_auto_columns": null,
            "grid_auto_flow": null,
            "grid_auto_rows": null,
            "grid_column": null,
            "grid_gap": null,
            "grid_row": null,
            "grid_template_areas": null,
            "grid_template_columns": null,
            "grid_template_rows": null,
            "height": null,
            "justify_content": null,
            "justify_items": null,
            "left": null,
            "margin": null,
            "max_height": null,
            "max_width": null,
            "min_height": null,
            "min_width": null,
            "object_fit": null,
            "object_position": null,
            "order": null,
            "overflow": null,
            "overflow_x": null,
            "overflow_y": null,
            "padding": null,
            "right": null,
            "top": null,
            "visibility": null,
            "width": null
          }
        },
        "710fcfb4fc9b4cb6aee51ae690e7e539": {
          "model_module": "@jupyter-widgets/controls",
          "model_name": "DescriptionStyleModel",
          "model_module_version": "1.5.0",
          "state": {
            "_model_module": "@jupyter-widgets/controls",
            "_model_module_version": "1.5.0",
            "_model_name": "DescriptionStyleModel",
            "_view_count": null,
            "_view_module": "@jupyter-widgets/base",
            "_view_module_version": "1.2.0",
            "_view_name": "StyleView",
            "description_width": ""
          }
        },
        "062146dd8da54ad2a283ffdbf49a9589": {
          "model_module": "@jupyter-widgets/controls",
          "model_name": "HBoxModel",
          "model_module_version": "1.5.0",
          "state": {
            "_dom_classes": [],
            "_model_module": "@jupyter-widgets/controls",
            "_model_module_version": "1.5.0",
            "_model_name": "HBoxModel",
            "_view_count": null,
            "_view_module": "@jupyter-widgets/controls",
            "_view_module_version": "1.5.0",
            "_view_name": "HBoxView",
            "box_style": "",
            "children": [
              "IPY_MODEL_30ba7cc1c2de4751810c1aa477f7e196",
              "IPY_MODEL_55c7efe8e0664e6b911572f90a64d1e1",
              "IPY_MODEL_23067fadf72d4924914ec5848298dc28"
            ],
            "layout": "IPY_MODEL_2fde9a8f5e444598a3685477f0ff3f53"
          }
        },
        "30ba7cc1c2de4751810c1aa477f7e196": {
          "model_module": "@jupyter-widgets/controls",
          "model_name": "HTMLModel",
          "model_module_version": "1.5.0",
          "state": {
            "_dom_classes": [],
            "_model_module": "@jupyter-widgets/controls",
            "_model_module_version": "1.5.0",
            "_model_name": "HTMLModel",
            "_view_count": null,
            "_view_module": "@jupyter-widgets/controls",
            "_view_module_version": "1.5.0",
            "_view_name": "HTMLView",
            "description": "",
            "description_tooltip": null,
            "layout": "IPY_MODEL_e40e0b964ccd4e7b9eaecb6ffb6b002d",
            "placeholder": "​",
            "style": "IPY_MODEL_8e413e20864d44649c21df7b7ea61b4c",
            "value": "added_tokens.json: 100%"
          }
        },
        "55c7efe8e0664e6b911572f90a64d1e1": {
          "model_module": "@jupyter-widgets/controls",
          "model_name": "FloatProgressModel",
          "model_module_version": "1.5.0",
          "state": {
            "_dom_classes": [],
            "_model_module": "@jupyter-widgets/controls",
            "_model_module_version": "1.5.0",
            "_model_name": "FloatProgressModel",
            "_view_count": null,
            "_view_module": "@jupyter-widgets/controls",
            "_view_module_version": "1.5.0",
            "_view_name": "ProgressView",
            "bar_style": "success",
            "description": "",
            "description_tooltip": null,
            "layout": "IPY_MODEL_64f8832790204050a53ea6e10c846eef",
            "max": 2,
            "min": 0,
            "orientation": "horizontal",
            "style": "IPY_MODEL_d3c4fe19cb5f4f248f47c9745ee67820",
            "value": 2
          }
        },
        "23067fadf72d4924914ec5848298dc28": {
          "model_module": "@jupyter-widgets/controls",
          "model_name": "HTMLModel",
          "model_module_version": "1.5.0",
          "state": {
            "_dom_classes": [],
            "_model_module": "@jupyter-widgets/controls",
            "_model_module_version": "1.5.0",
            "_model_name": "HTMLModel",
            "_view_count": null,
            "_view_module": "@jupyter-widgets/controls",
            "_view_module_version": "1.5.0",
            "_view_name": "HTMLView",
            "description": "",
            "description_tooltip": null,
            "layout": "IPY_MODEL_44fcd02db945441b82a53c29ea3b6755",
            "placeholder": "​",
            "style": "IPY_MODEL_935cb51ef293411d9cdf3946237c95af",
            "value": " 2.00/2.00 [00:00&lt;00:00, 182B/s]"
          }
        },
        "2fde9a8f5e444598a3685477f0ff3f53": {
          "model_module": "@jupyter-widgets/base",
          "model_name": "LayoutModel",
          "model_module_version": "1.2.0",
          "state": {
            "_model_module": "@jupyter-widgets/base",
            "_model_module_version": "1.2.0",
            "_model_name": "LayoutModel",
            "_view_count": null,
            "_view_module": "@jupyter-widgets/base",
            "_view_module_version": "1.2.0",
            "_view_name": "LayoutView",
            "align_content": null,
            "align_items": null,
            "align_self": null,
            "border": null,
            "bottom": null,
            "display": null,
            "flex": null,
            "flex_flow": null,
            "grid_area": null,
            "grid_auto_columns": null,
            "grid_auto_flow": null,
            "grid_auto_rows": null,
            "grid_column": null,
            "grid_gap": null,
            "grid_row": null,
            "grid_template_areas": null,
            "grid_template_columns": null,
            "grid_template_rows": null,
            "height": null,
            "justify_content": null,
            "justify_items": null,
            "left": null,
            "margin": null,
            "max_height": null,
            "max_width": null,
            "min_height": null,
            "min_width": null,
            "object_fit": null,
            "object_position": null,
            "order": null,
            "overflow": null,
            "overflow_x": null,
            "overflow_y": null,
            "padding": null,
            "right": null,
            "top": null,
            "visibility": null,
            "width": null
          }
        },
        "e40e0b964ccd4e7b9eaecb6ffb6b002d": {
          "model_module": "@jupyter-widgets/base",
          "model_name": "LayoutModel",
          "model_module_version": "1.2.0",
          "state": {
            "_model_module": "@jupyter-widgets/base",
            "_model_module_version": "1.2.0",
            "_model_name": "LayoutModel",
            "_view_count": null,
            "_view_module": "@jupyter-widgets/base",
            "_view_module_version": "1.2.0",
            "_view_name": "LayoutView",
            "align_content": null,
            "align_items": null,
            "align_self": null,
            "border": null,
            "bottom": null,
            "display": null,
            "flex": null,
            "flex_flow": null,
            "grid_area": null,
            "grid_auto_columns": null,
            "grid_auto_flow": null,
            "grid_auto_rows": null,
            "grid_column": null,
            "grid_gap": null,
            "grid_row": null,
            "grid_template_areas": null,
            "grid_template_columns": null,
            "grid_template_rows": null,
            "height": null,
            "justify_content": null,
            "justify_items": null,
            "left": null,
            "margin": null,
            "max_height": null,
            "max_width": null,
            "min_height": null,
            "min_width": null,
            "object_fit": null,
            "object_position": null,
            "order": null,
            "overflow": null,
            "overflow_x": null,
            "overflow_y": null,
            "padding": null,
            "right": null,
            "top": null,
            "visibility": null,
            "width": null
          }
        },
        "8e413e20864d44649c21df7b7ea61b4c": {
          "model_module": "@jupyter-widgets/controls",
          "model_name": "DescriptionStyleModel",
          "model_module_version": "1.5.0",
          "state": {
            "_model_module": "@jupyter-widgets/controls",
            "_model_module_version": "1.5.0",
            "_model_name": "DescriptionStyleModel",
            "_view_count": null,
            "_view_module": "@jupyter-widgets/base",
            "_view_module_version": "1.2.0",
            "_view_name": "StyleView",
            "description_width": ""
          }
        },
        "64f8832790204050a53ea6e10c846eef": {
          "model_module": "@jupyter-widgets/base",
          "model_name": "LayoutModel",
          "model_module_version": "1.2.0",
          "state": {
            "_model_module": "@jupyter-widgets/base",
            "_model_module_version": "1.2.0",
            "_model_name": "LayoutModel",
            "_view_count": null,
            "_view_module": "@jupyter-widgets/base",
            "_view_module_version": "1.2.0",
            "_view_name": "LayoutView",
            "align_content": null,
            "align_items": null,
            "align_self": null,
            "border": null,
            "bottom": null,
            "display": null,
            "flex": null,
            "flex_flow": null,
            "grid_area": null,
            "grid_auto_columns": null,
            "grid_auto_flow": null,
            "grid_auto_rows": null,
            "grid_column": null,
            "grid_gap": null,
            "grid_row": null,
            "grid_template_areas": null,
            "grid_template_columns": null,
            "grid_template_rows": null,
            "height": null,
            "justify_content": null,
            "justify_items": null,
            "left": null,
            "margin": null,
            "max_height": null,
            "max_width": null,
            "min_height": null,
            "min_width": null,
            "object_fit": null,
            "object_position": null,
            "order": null,
            "overflow": null,
            "overflow_x": null,
            "overflow_y": null,
            "padding": null,
            "right": null,
            "top": null,
            "visibility": null,
            "width": null
          }
        },
        "d3c4fe19cb5f4f248f47c9745ee67820": {
          "model_module": "@jupyter-widgets/controls",
          "model_name": "ProgressStyleModel",
          "model_module_version": "1.5.0",
          "state": {
            "_model_module": "@jupyter-widgets/controls",
            "_model_module_version": "1.5.0",
            "_model_name": "ProgressStyleModel",
            "_view_count": null,
            "_view_module": "@jupyter-widgets/base",
            "_view_module_version": "1.2.0",
            "_view_name": "StyleView",
            "bar_color": null,
            "description_width": ""
          }
        },
        "44fcd02db945441b82a53c29ea3b6755": {
          "model_module": "@jupyter-widgets/base",
          "model_name": "LayoutModel",
          "model_module_version": "1.2.0",
          "state": {
            "_model_module": "@jupyter-widgets/base",
            "_model_module_version": "1.2.0",
            "_model_name": "LayoutModel",
            "_view_count": null,
            "_view_module": "@jupyter-widgets/base",
            "_view_module_version": "1.2.0",
            "_view_name": "LayoutView",
            "align_content": null,
            "align_items": null,
            "align_self": null,
            "border": null,
            "bottom": null,
            "display": null,
            "flex": null,
            "flex_flow": null,
            "grid_area": null,
            "grid_auto_columns": null,
            "grid_auto_flow": null,
            "grid_auto_rows": null,
            "grid_column": null,
            "grid_gap": null,
            "grid_row": null,
            "grid_template_areas": null,
            "grid_template_columns": null,
            "grid_template_rows": null,
            "height": null,
            "justify_content": null,
            "justify_items": null,
            "left": null,
            "margin": null,
            "max_height": null,
            "max_width": null,
            "min_height": null,
            "min_width": null,
            "object_fit": null,
            "object_position": null,
            "order": null,
            "overflow": null,
            "overflow_x": null,
            "overflow_y": null,
            "padding": null,
            "right": null,
            "top": null,
            "visibility": null,
            "width": null
          }
        },
        "935cb51ef293411d9cdf3946237c95af": {
          "model_module": "@jupyter-widgets/controls",
          "model_name": "DescriptionStyleModel",
          "model_module_version": "1.5.0",
          "state": {
            "_model_module": "@jupyter-widgets/controls",
            "_model_module_version": "1.5.0",
            "_model_name": "DescriptionStyleModel",
            "_view_count": null,
            "_view_module": "@jupyter-widgets/base",
            "_view_module_version": "1.2.0",
            "_view_name": "StyleView",
            "description_width": ""
          }
        },
        "e63765da764147d1823735ddf4a04b77": {
          "model_module": "@jupyter-widgets/controls",
          "model_name": "HBoxModel",
          "model_module_version": "1.5.0",
          "state": {
            "_dom_classes": [],
            "_model_module": "@jupyter-widgets/controls",
            "_model_module_version": "1.5.0",
            "_model_name": "HBoxModel",
            "_view_count": null,
            "_view_module": "@jupyter-widgets/controls",
            "_view_module_version": "1.5.0",
            "_view_name": "HBoxView",
            "box_style": "",
            "children": [
              "IPY_MODEL_64b68a661a354f9ab16fac4efced400c",
              "IPY_MODEL_3630de430e93468a8ed7b70dc920190b",
              "IPY_MODEL_d303d7ee8b0f468784175489b4f7f470"
            ],
            "layout": "IPY_MODEL_5a3dc6856b0c41719110ed6a67dcb185"
          }
        },
        "64b68a661a354f9ab16fac4efced400c": {
          "model_module": "@jupyter-widgets/controls",
          "model_name": "HTMLModel",
          "model_module_version": "1.5.0",
          "state": {
            "_dom_classes": [],
            "_model_module": "@jupyter-widgets/controls",
            "_model_module_version": "1.5.0",
            "_model_name": "HTMLModel",
            "_view_count": null,
            "_view_module": "@jupyter-widgets/controls",
            "_view_module_version": "1.5.0",
            "_view_name": "HTMLView",
            "description": "",
            "description_tooltip": null,
            "layout": "IPY_MODEL_4909f04925a34a11be2ba996e50ac9a8",
            "placeholder": "​",
            "style": "IPY_MODEL_8d042f02a081419cb13ea3f60d90a032",
            "value": "special_tokens_map.json: 100%"
          }
        },
        "3630de430e93468a8ed7b70dc920190b": {
          "model_module": "@jupyter-widgets/controls",
          "model_name": "FloatProgressModel",
          "model_module_version": "1.5.0",
          "state": {
            "_dom_classes": [],
            "_model_module": "@jupyter-widgets/controls",
            "_model_module_version": "1.5.0",
            "_model_name": "FloatProgressModel",
            "_view_count": null,
            "_view_module": "@jupyter-widgets/controls",
            "_view_module_version": "1.5.0",
            "_view_name": "ProgressView",
            "bar_style": "success",
            "description": "",
            "description_tooltip": null,
            "layout": "IPY_MODEL_e75c29a3e0184e2c894202094ef71f30",
            "max": 12512,
            "min": 0,
            "orientation": "horizontal",
            "style": "IPY_MODEL_d886dba815814723b56bc925e66c1675",
            "value": 12512
          }
        },
        "d303d7ee8b0f468784175489b4f7f470": {
          "model_module": "@jupyter-widgets/controls",
          "model_name": "HTMLModel",
          "model_module_version": "1.5.0",
          "state": {
            "_dom_classes": [],
            "_model_module": "@jupyter-widgets/controls",
            "_model_module_version": "1.5.0",
            "_model_name": "HTMLModel",
            "_view_count": null,
            "_view_module": "@jupyter-widgets/controls",
            "_view_module_version": "1.5.0",
            "_view_name": "HTMLView",
            "description": "",
            "description_tooltip": null,
            "layout": "IPY_MODEL_d844d92de7a64b8a9edd43d834b6dddc",
            "placeholder": "​",
            "style": "IPY_MODEL_e25689a6728647c59655ffcb4af59086",
            "value": " 12.5k/12.5k [00:00&lt;00:00, 1.42MB/s]"
          }
        },
        "5a3dc6856b0c41719110ed6a67dcb185": {
          "model_module": "@jupyter-widgets/base",
          "model_name": "LayoutModel",
          "model_module_version": "1.2.0",
          "state": {
            "_model_module": "@jupyter-widgets/base",
            "_model_module_version": "1.2.0",
            "_model_name": "LayoutModel",
            "_view_count": null,
            "_view_module": "@jupyter-widgets/base",
            "_view_module_version": "1.2.0",
            "_view_name": "LayoutView",
            "align_content": null,
            "align_items": null,
            "align_self": null,
            "border": null,
            "bottom": null,
            "display": null,
            "flex": null,
            "flex_flow": null,
            "grid_area": null,
            "grid_auto_columns": null,
            "grid_auto_flow": null,
            "grid_auto_rows": null,
            "grid_column": null,
            "grid_gap": null,
            "grid_row": null,
            "grid_template_areas": null,
            "grid_template_columns": null,
            "grid_template_rows": null,
            "height": null,
            "justify_content": null,
            "justify_items": null,
            "left": null,
            "margin": null,
            "max_height": null,
            "max_width": null,
            "min_height": null,
            "min_width": null,
            "object_fit": null,
            "object_position": null,
            "order": null,
            "overflow": null,
            "overflow_x": null,
            "overflow_y": null,
            "padding": null,
            "right": null,
            "top": null,
            "visibility": null,
            "width": null
          }
        },
        "4909f04925a34a11be2ba996e50ac9a8": {
          "model_module": "@jupyter-widgets/base",
          "model_name": "LayoutModel",
          "model_module_version": "1.2.0",
          "state": {
            "_model_module": "@jupyter-widgets/base",
            "_model_module_version": "1.2.0",
            "_model_name": "LayoutModel",
            "_view_count": null,
            "_view_module": "@jupyter-widgets/base",
            "_view_module_version": "1.2.0",
            "_view_name": "LayoutView",
            "align_content": null,
            "align_items": null,
            "align_self": null,
            "border": null,
            "bottom": null,
            "display": null,
            "flex": null,
            "flex_flow": null,
            "grid_area": null,
            "grid_auto_columns": null,
            "grid_auto_flow": null,
            "grid_auto_rows": null,
            "grid_column": null,
            "grid_gap": null,
            "grid_row": null,
            "grid_template_areas": null,
            "grid_template_columns": null,
            "grid_template_rows": null,
            "height": null,
            "justify_content": null,
            "justify_items": null,
            "left": null,
            "margin": null,
            "max_height": null,
            "max_width": null,
            "min_height": null,
            "min_width": null,
            "object_fit": null,
            "object_position": null,
            "order": null,
            "overflow": null,
            "overflow_x": null,
            "overflow_y": null,
            "padding": null,
            "right": null,
            "top": null,
            "visibility": null,
            "width": null
          }
        },
        "8d042f02a081419cb13ea3f60d90a032": {
          "model_module": "@jupyter-widgets/controls",
          "model_name": "DescriptionStyleModel",
          "model_module_version": "1.5.0",
          "state": {
            "_model_module": "@jupyter-widgets/controls",
            "_model_module_version": "1.5.0",
            "_model_name": "DescriptionStyleModel",
            "_view_count": null,
            "_view_module": "@jupyter-widgets/base",
            "_view_module_version": "1.2.0",
            "_view_name": "StyleView",
            "description_width": ""
          }
        },
        "e75c29a3e0184e2c894202094ef71f30": {
          "model_module": "@jupyter-widgets/base",
          "model_name": "LayoutModel",
          "model_module_version": "1.2.0",
          "state": {
            "_model_module": "@jupyter-widgets/base",
            "_model_module_version": "1.2.0",
            "_model_name": "LayoutModel",
            "_view_count": null,
            "_view_module": "@jupyter-widgets/base",
            "_view_module_version": "1.2.0",
            "_view_name": "LayoutView",
            "align_content": null,
            "align_items": null,
            "align_self": null,
            "border": null,
            "bottom": null,
            "display": null,
            "flex": null,
            "flex_flow": null,
            "grid_area": null,
            "grid_auto_columns": null,
            "grid_auto_flow": null,
            "grid_auto_rows": null,
            "grid_column": null,
            "grid_gap": null,
            "grid_row": null,
            "grid_template_areas": null,
            "grid_template_columns": null,
            "grid_template_rows": null,
            "height": null,
            "justify_content": null,
            "justify_items": null,
            "left": null,
            "margin": null,
            "max_height": null,
            "max_width": null,
            "min_height": null,
            "min_width": null,
            "object_fit": null,
            "object_position": null,
            "order": null,
            "overflow": null,
            "overflow_x": null,
            "overflow_y": null,
            "padding": null,
            "right": null,
            "top": null,
            "visibility": null,
            "width": null
          }
        },
        "d886dba815814723b56bc925e66c1675": {
          "model_module": "@jupyter-widgets/controls",
          "model_name": "ProgressStyleModel",
          "model_module_version": "1.5.0",
          "state": {
            "_model_module": "@jupyter-widgets/controls",
            "_model_module_version": "1.5.0",
            "_model_name": "ProgressStyleModel",
            "_view_count": null,
            "_view_module": "@jupyter-widgets/base",
            "_view_module_version": "1.2.0",
            "_view_name": "StyleView",
            "bar_color": null,
            "description_width": ""
          }
        },
        "d844d92de7a64b8a9edd43d834b6dddc": {
          "model_module": "@jupyter-widgets/base",
          "model_name": "LayoutModel",
          "model_module_version": "1.2.0",
          "state": {
            "_model_module": "@jupyter-widgets/base",
            "_model_module_version": "1.2.0",
            "_model_name": "LayoutModel",
            "_view_count": null,
            "_view_module": "@jupyter-widgets/base",
            "_view_module_version": "1.2.0",
            "_view_name": "LayoutView",
            "align_content": null,
            "align_items": null,
            "align_self": null,
            "border": null,
            "bottom": null,
            "display": null,
            "flex": null,
            "flex_flow": null,
            "grid_area": null,
            "grid_auto_columns": null,
            "grid_auto_flow": null,
            "grid_auto_rows": null,
            "grid_column": null,
            "grid_gap": null,
            "grid_row": null,
            "grid_template_areas": null,
            "grid_template_columns": null,
            "grid_template_rows": null,
            "height": null,
            "justify_content": null,
            "justify_items": null,
            "left": null,
            "margin": null,
            "max_height": null,
            "max_width": null,
            "min_height": null,
            "min_width": null,
            "object_fit": null,
            "object_position": null,
            "order": null,
            "overflow": null,
            "overflow_x": null,
            "overflow_y": null,
            "padding": null,
            "right": null,
            "top": null,
            "visibility": null,
            "width": null
          }
        },
        "e25689a6728647c59655ffcb4af59086": {
          "model_module": "@jupyter-widgets/controls",
          "model_name": "DescriptionStyleModel",
          "model_module_version": "1.5.0",
          "state": {
            "_model_module": "@jupyter-widgets/controls",
            "_model_module_version": "1.5.0",
            "_model_name": "DescriptionStyleModel",
            "_view_count": null,
            "_view_module": "@jupyter-widgets/base",
            "_view_module_version": "1.2.0",
            "_view_name": "StyleView",
            "description_width": ""
          }
        },
        "7b5ad549a0024efaab810168f33e5cb9": {
          "model_module": "@jupyter-widgets/controls",
          "model_name": "HBoxModel",
          "model_module_version": "1.5.0",
          "state": {
            "_dom_classes": [],
            "_model_module": "@jupyter-widgets/controls",
            "_model_module_version": "1.5.0",
            "_model_name": "HBoxModel",
            "_view_count": null,
            "_view_module": "@jupyter-widgets/controls",
            "_view_module_version": "1.5.0",
            "_view_name": "HBoxView",
            "box_style": "",
            "children": [
              "IPY_MODEL_4206ee111aa64aa8bb0f9d4721cd5667",
              "IPY_MODEL_f181871780c3428d828178e2d4151b09",
              "IPY_MODEL_7d55d95cdcb644fd98149939021026f9"
            ],
            "layout": "IPY_MODEL_56cc02d4036b4c9799f1589ca27308bb"
          }
        },
        "4206ee111aa64aa8bb0f9d4721cd5667": {
          "model_module": "@jupyter-widgets/controls",
          "model_name": "HTMLModel",
          "model_module_version": "1.5.0",
          "state": {
            "_dom_classes": [],
            "_model_module": "@jupyter-widgets/controls",
            "_model_module_version": "1.5.0",
            "_model_name": "HTMLModel",
            "_view_count": null,
            "_view_module": "@jupyter-widgets/controls",
            "_view_module_version": "1.5.0",
            "_view_name": "HTMLView",
            "description": "",
            "description_tooltip": null,
            "layout": "IPY_MODEL_13e8c848f3d1458fac76ced2f56e6ba7",
            "placeholder": "​",
            "style": "IPY_MODEL_54cb4baebf414ac392ad543e98c67efd",
            "value": "config.json: 100%"
          }
        },
        "f181871780c3428d828178e2d4151b09": {
          "model_module": "@jupyter-widgets/controls",
          "model_name": "FloatProgressModel",
          "model_module_version": "1.5.0",
          "state": {
            "_dom_classes": [],
            "_model_module": "@jupyter-widgets/controls",
            "_model_module_version": "1.5.0",
            "_model_name": "FloatProgressModel",
            "_view_count": null,
            "_view_module": "@jupyter-widgets/controls",
            "_view_module_version": "1.5.0",
            "_view_name": "ProgressView",
            "bar_style": "success",
            "description": "",
            "description_tooltip": null,
            "layout": "IPY_MODEL_2f01ac0faefd44b1a5c83b8ed9213b75",
            "max": 770,
            "min": 0,
            "orientation": "horizontal",
            "style": "IPY_MODEL_5fe75e8b87484e1cb8b559ee4f6599d7",
            "value": 770
          }
        },
        "7d55d95cdcb644fd98149939021026f9": {
          "model_module": "@jupyter-widgets/controls",
          "model_name": "HTMLModel",
          "model_module_version": "1.5.0",
          "state": {
            "_dom_classes": [],
            "_model_module": "@jupyter-widgets/controls",
            "_model_module_version": "1.5.0",
            "_model_name": "HTMLModel",
            "_view_count": null,
            "_view_module": "@jupyter-widgets/controls",
            "_view_module_version": "1.5.0",
            "_view_name": "HTMLView",
            "description": "",
            "description_tooltip": null,
            "layout": "IPY_MODEL_0e8799044033404b8d7ac310b7860d6d",
            "placeholder": "​",
            "style": "IPY_MODEL_bdec46410ce940f081f1920f040a99b8",
            "value": " 770/770 [00:00&lt;00:00, 70.2kB/s]"
          }
        },
        "56cc02d4036b4c9799f1589ca27308bb": {
          "model_module": "@jupyter-widgets/base",
          "model_name": "LayoutModel",
          "model_module_version": "1.2.0",
          "state": {
            "_model_module": "@jupyter-widgets/base",
            "_model_module_version": "1.2.0",
            "_model_name": "LayoutModel",
            "_view_count": null,
            "_view_module": "@jupyter-widgets/base",
            "_view_module_version": "1.2.0",
            "_view_name": "LayoutView",
            "align_content": null,
            "align_items": null,
            "align_self": null,
            "border": null,
            "bottom": null,
            "display": null,
            "flex": null,
            "flex_flow": null,
            "grid_area": null,
            "grid_auto_columns": null,
            "grid_auto_flow": null,
            "grid_auto_rows": null,
            "grid_column": null,
            "grid_gap": null,
            "grid_row": null,
            "grid_template_areas": null,
            "grid_template_columns": null,
            "grid_template_rows": null,
            "height": null,
            "justify_content": null,
            "justify_items": null,
            "left": null,
            "margin": null,
            "max_height": null,
            "max_width": null,
            "min_height": null,
            "min_width": null,
            "object_fit": null,
            "object_position": null,
            "order": null,
            "overflow": null,
            "overflow_x": null,
            "overflow_y": null,
            "padding": null,
            "right": null,
            "top": null,
            "visibility": null,
            "width": null
          }
        },
        "13e8c848f3d1458fac76ced2f56e6ba7": {
          "model_module": "@jupyter-widgets/base",
          "model_name": "LayoutModel",
          "model_module_version": "1.2.0",
          "state": {
            "_model_module": "@jupyter-widgets/base",
            "_model_module_version": "1.2.0",
            "_model_name": "LayoutModel",
            "_view_count": null,
            "_view_module": "@jupyter-widgets/base",
            "_view_module_version": "1.2.0",
            "_view_name": "LayoutView",
            "align_content": null,
            "align_items": null,
            "align_self": null,
            "border": null,
            "bottom": null,
            "display": null,
            "flex": null,
            "flex_flow": null,
            "grid_area": null,
            "grid_auto_columns": null,
            "grid_auto_flow": null,
            "grid_auto_rows": null,
            "grid_column": null,
            "grid_gap": null,
            "grid_row": null,
            "grid_template_areas": null,
            "grid_template_columns": null,
            "grid_template_rows": null,
            "height": null,
            "justify_content": null,
            "justify_items": null,
            "left": null,
            "margin": null,
            "max_height": null,
            "max_width": null,
            "min_height": null,
            "min_width": null,
            "object_fit": null,
            "object_position": null,
            "order": null,
            "overflow": null,
            "overflow_x": null,
            "overflow_y": null,
            "padding": null,
            "right": null,
            "top": null,
            "visibility": null,
            "width": null
          }
        },
        "54cb4baebf414ac392ad543e98c67efd": {
          "model_module": "@jupyter-widgets/controls",
          "model_name": "DescriptionStyleModel",
          "model_module_version": "1.5.0",
          "state": {
            "_model_module": "@jupyter-widgets/controls",
            "_model_module_version": "1.5.0",
            "_model_name": "DescriptionStyleModel",
            "_view_count": null,
            "_view_module": "@jupyter-widgets/base",
            "_view_module_version": "1.2.0",
            "_view_name": "StyleView",
            "description_width": ""
          }
        },
        "2f01ac0faefd44b1a5c83b8ed9213b75": {
          "model_module": "@jupyter-widgets/base",
          "model_name": "LayoutModel",
          "model_module_version": "1.2.0",
          "state": {
            "_model_module": "@jupyter-widgets/base",
            "_model_module_version": "1.2.0",
            "_model_name": "LayoutModel",
            "_view_count": null,
            "_view_module": "@jupyter-widgets/base",
            "_view_module_version": "1.2.0",
            "_view_name": "LayoutView",
            "align_content": null,
            "align_items": null,
            "align_self": null,
            "border": null,
            "bottom": null,
            "display": null,
            "flex": null,
            "flex_flow": null,
            "grid_area": null,
            "grid_auto_columns": null,
            "grid_auto_flow": null,
            "grid_auto_rows": null,
            "grid_column": null,
            "grid_gap": null,
            "grid_row": null,
            "grid_template_areas": null,
            "grid_template_columns": null,
            "grid_template_rows": null,
            "height": null,
            "justify_content": null,
            "justify_items": null,
            "left": null,
            "margin": null,
            "max_height": null,
            "max_width": null,
            "min_height": null,
            "min_width": null,
            "object_fit": null,
            "object_position": null,
            "order": null,
            "overflow": null,
            "overflow_x": null,
            "overflow_y": null,
            "padding": null,
            "right": null,
            "top": null,
            "visibility": null,
            "width": null
          }
        },
        "5fe75e8b87484e1cb8b559ee4f6599d7": {
          "model_module": "@jupyter-widgets/controls",
          "model_name": "ProgressStyleModel",
          "model_module_version": "1.5.0",
          "state": {
            "_model_module": "@jupyter-widgets/controls",
            "_model_module_version": "1.5.0",
            "_model_name": "ProgressStyleModel",
            "_view_count": null,
            "_view_module": "@jupyter-widgets/base",
            "_view_module_version": "1.2.0",
            "_view_name": "StyleView",
            "bar_color": null,
            "description_width": ""
          }
        },
        "0e8799044033404b8d7ac310b7860d6d": {
          "model_module": "@jupyter-widgets/base",
          "model_name": "LayoutModel",
          "model_module_version": "1.2.0",
          "state": {
            "_model_module": "@jupyter-widgets/base",
            "_model_module_version": "1.2.0",
            "_model_name": "LayoutModel",
            "_view_count": null,
            "_view_module": "@jupyter-widgets/base",
            "_view_module_version": "1.2.0",
            "_view_name": "LayoutView",
            "align_content": null,
            "align_items": null,
            "align_self": null,
            "border": null,
            "bottom": null,
            "display": null,
            "flex": null,
            "flex_flow": null,
            "grid_area": null,
            "grid_auto_columns": null,
            "grid_auto_flow": null,
            "grid_auto_rows": null,
            "grid_column": null,
            "grid_gap": null,
            "grid_row": null,
            "grid_template_areas": null,
            "grid_template_columns": null,
            "grid_template_rows": null,
            "height": null,
            "justify_content": null,
            "justify_items": null,
            "left": null,
            "margin": null,
            "max_height": null,
            "max_width": null,
            "min_height": null,
            "min_width": null,
            "object_fit": null,
            "object_position": null,
            "order": null,
            "overflow": null,
            "overflow_x": null,
            "overflow_y": null,
            "padding": null,
            "right": null,
            "top": null,
            "visibility": null,
            "width": null
          }
        },
        "bdec46410ce940f081f1920f040a99b8": {
          "model_module": "@jupyter-widgets/controls",
          "model_name": "DescriptionStyleModel",
          "model_module_version": "1.5.0",
          "state": {
            "_model_module": "@jupyter-widgets/controls",
            "_model_module_version": "1.5.0",
            "_model_name": "DescriptionStyleModel",
            "_view_count": null,
            "_view_module": "@jupyter-widgets/base",
            "_view_module_version": "1.2.0",
            "_view_name": "StyleView",
            "description_width": ""
          }
        },
        "f4fd47bccf3a4e6a868396739cb9374a": {
          "model_module": "@jupyter-widgets/controls",
          "model_name": "HBoxModel",
          "model_module_version": "1.5.0",
          "state": {
            "_dom_classes": [],
            "_model_module": "@jupyter-widgets/controls",
            "_model_module_version": "1.5.0",
            "_model_name": "HBoxModel",
            "_view_count": null,
            "_view_module": "@jupyter-widgets/controls",
            "_view_module_version": "1.5.0",
            "_view_name": "HBoxView",
            "box_style": "",
            "children": [
              "IPY_MODEL_913bb92cadfe4a968a669a2d821e372e",
              "IPY_MODEL_1243402d1d934a9bb91a2187da517f12",
              "IPY_MODEL_9d61450124ea4b3c8c97fc4d5a80cf34"
            ],
            "layout": "IPY_MODEL_a95124aa80f54cd9821383398ac91af9"
          }
        },
        "913bb92cadfe4a968a669a2d821e372e": {
          "model_module": "@jupyter-widgets/controls",
          "model_name": "HTMLModel",
          "model_module_version": "1.5.0",
          "state": {
            "_dom_classes": [],
            "_model_module": "@jupyter-widgets/controls",
            "_model_module_version": "1.5.0",
            "_model_name": "HTMLModel",
            "_view_count": null,
            "_view_module": "@jupyter-widgets/controls",
            "_view_module_version": "1.5.0",
            "_view_name": "HTMLView",
            "description": "",
            "description_tooltip": null,
            "layout": "IPY_MODEL_89c9f8a90e5048d3b6acbd76047f0509",
            "placeholder": "​",
            "style": "IPY_MODEL_b865535ef27c47799991e8bb67a7c84c",
            "value": "pytorch_model.bin: 100%"
          }
        },
        "1243402d1d934a9bb91a2187da517f12": {
          "model_module": "@jupyter-widgets/controls",
          "model_name": "FloatProgressModel",
          "model_module_version": "1.5.0",
          "state": {
            "_dom_classes": [],
            "_model_module": "@jupyter-widgets/controls",
            "_model_module_version": "1.5.0",
            "_model_name": "FloatProgressModel",
            "_view_count": null,
            "_view_module": "@jupyter-widgets/controls",
            "_view_module_version": "1.5.0",
            "_view_name": "ProgressView",
            "bar_style": "success",
            "description": "",
            "description_tooltip": null,
            "layout": "IPY_MODEL_3ae3a9c428fd46508ce126120291dc2e",
            "max": 1475351723,
            "min": 0,
            "orientation": "horizontal",
            "style": "IPY_MODEL_dba2f98fc13f47fa9fb1d7a3119b5d8f",
            "value": 1475351723
          }
        },
        "9d61450124ea4b3c8c97fc4d5a80cf34": {
          "model_module": "@jupyter-widgets/controls",
          "model_name": "HTMLModel",
          "model_module_version": "1.5.0",
          "state": {
            "_dom_classes": [],
            "_model_module": "@jupyter-widgets/controls",
            "_model_module_version": "1.5.0",
            "_model_name": "HTMLModel",
            "_view_count": null,
            "_view_module": "@jupyter-widgets/controls",
            "_view_module_version": "1.5.0",
            "_view_name": "HTMLView",
            "description": "",
            "description_tooltip": null,
            "layout": "IPY_MODEL_06bc94b2be2348e584c61891dbb1b344",
            "placeholder": "​",
            "style": "IPY_MODEL_46ceb1194dbf44f495f26327aad07c78",
            "value": " 1.48G/1.48G [00:10&lt;00:00, 184MB/s]"
          }
        },
        "a95124aa80f54cd9821383398ac91af9": {
          "model_module": "@jupyter-widgets/base",
          "model_name": "LayoutModel",
          "model_module_version": "1.2.0",
          "state": {
            "_model_module": "@jupyter-widgets/base",
            "_model_module_version": "1.2.0",
            "_model_name": "LayoutModel",
            "_view_count": null,
            "_view_module": "@jupyter-widgets/base",
            "_view_module_version": "1.2.0",
            "_view_name": "LayoutView",
            "align_content": null,
            "align_items": null,
            "align_self": null,
            "border": null,
            "bottom": null,
            "display": null,
            "flex": null,
            "flex_flow": null,
            "grid_area": null,
            "grid_auto_columns": null,
            "grid_auto_flow": null,
            "grid_auto_rows": null,
            "grid_column": null,
            "grid_gap": null,
            "grid_row": null,
            "grid_template_areas": null,
            "grid_template_columns": null,
            "grid_template_rows": null,
            "height": null,
            "justify_content": null,
            "justify_items": null,
            "left": null,
            "margin": null,
            "max_height": null,
            "max_width": null,
            "min_height": null,
            "min_width": null,
            "object_fit": null,
            "object_position": null,
            "order": null,
            "overflow": null,
            "overflow_x": null,
            "overflow_y": null,
            "padding": null,
            "right": null,
            "top": null,
            "visibility": null,
            "width": null
          }
        },
        "89c9f8a90e5048d3b6acbd76047f0509": {
          "model_module": "@jupyter-widgets/base",
          "model_name": "LayoutModel",
          "model_module_version": "1.2.0",
          "state": {
            "_model_module": "@jupyter-widgets/base",
            "_model_module_version": "1.2.0",
            "_model_name": "LayoutModel",
            "_view_count": null,
            "_view_module": "@jupyter-widgets/base",
            "_view_module_version": "1.2.0",
            "_view_name": "LayoutView",
            "align_content": null,
            "align_items": null,
            "align_self": null,
            "border": null,
            "bottom": null,
            "display": null,
            "flex": null,
            "flex_flow": null,
            "grid_area": null,
            "grid_auto_columns": null,
            "grid_auto_flow": null,
            "grid_auto_rows": null,
            "grid_column": null,
            "grid_gap": null,
            "grid_row": null,
            "grid_template_areas": null,
            "grid_template_columns": null,
            "grid_template_rows": null,
            "height": null,
            "justify_content": null,
            "justify_items": null,
            "left": null,
            "margin": null,
            "max_height": null,
            "max_width": null,
            "min_height": null,
            "min_width": null,
            "object_fit": null,
            "object_position": null,
            "order": null,
            "overflow": null,
            "overflow_x": null,
            "overflow_y": null,
            "padding": null,
            "right": null,
            "top": null,
            "visibility": null,
            "width": null
          }
        },
        "b865535ef27c47799991e8bb67a7c84c": {
          "model_module": "@jupyter-widgets/controls",
          "model_name": "DescriptionStyleModel",
          "model_module_version": "1.5.0",
          "state": {
            "_model_module": "@jupyter-widgets/controls",
            "_model_module_version": "1.5.0",
            "_model_name": "DescriptionStyleModel",
            "_view_count": null,
            "_view_module": "@jupyter-widgets/base",
            "_view_module_version": "1.2.0",
            "_view_name": "StyleView",
            "description_width": ""
          }
        },
        "3ae3a9c428fd46508ce126120291dc2e": {
          "model_module": "@jupyter-widgets/base",
          "model_name": "LayoutModel",
          "model_module_version": "1.2.0",
          "state": {
            "_model_module": "@jupyter-widgets/base",
            "_model_module_version": "1.2.0",
            "_model_name": "LayoutModel",
            "_view_count": null,
            "_view_module": "@jupyter-widgets/base",
            "_view_module_version": "1.2.0",
            "_view_name": "LayoutView",
            "align_content": null,
            "align_items": null,
            "align_self": null,
            "border": null,
            "bottom": null,
            "display": null,
            "flex": null,
            "flex_flow": null,
            "grid_area": null,
            "grid_auto_columns": null,
            "grid_auto_flow": null,
            "grid_auto_rows": null,
            "grid_column": null,
            "grid_gap": null,
            "grid_row": null,
            "grid_template_areas": null,
            "grid_template_columns": null,
            "grid_template_rows": null,
            "height": null,
            "justify_content": null,
            "justify_items": null,
            "left": null,
            "margin": null,
            "max_height": null,
            "max_width": null,
            "min_height": null,
            "min_width": null,
            "object_fit": null,
            "object_position": null,
            "order": null,
            "overflow": null,
            "overflow_x": null,
            "overflow_y": null,
            "padding": null,
            "right": null,
            "top": null,
            "visibility": null,
            "width": null
          }
        },
        "dba2f98fc13f47fa9fb1d7a3119b5d8f": {
          "model_module": "@jupyter-widgets/controls",
          "model_name": "ProgressStyleModel",
          "model_module_version": "1.5.0",
          "state": {
            "_model_module": "@jupyter-widgets/controls",
            "_model_module_version": "1.5.0",
            "_model_name": "ProgressStyleModel",
            "_view_count": null,
            "_view_module": "@jupyter-widgets/base",
            "_view_module_version": "1.2.0",
            "_view_name": "StyleView",
            "bar_color": null,
            "description_width": ""
          }
        },
        "06bc94b2be2348e584c61891dbb1b344": {
          "model_module": "@jupyter-widgets/base",
          "model_name": "LayoutModel",
          "model_module_version": "1.2.0",
          "state": {
            "_model_module": "@jupyter-widgets/base",
            "_model_module_version": "1.2.0",
            "_model_name": "LayoutModel",
            "_view_count": null,
            "_view_module": "@jupyter-widgets/base",
            "_view_module_version": "1.2.0",
            "_view_name": "LayoutView",
            "align_content": null,
            "align_items": null,
            "align_self": null,
            "border": null,
            "bottom": null,
            "display": null,
            "flex": null,
            "flex_flow": null,
            "grid_area": null,
            "grid_auto_columns": null,
            "grid_auto_flow": null,
            "grid_auto_rows": null,
            "grid_column": null,
            "grid_gap": null,
            "grid_row": null,
            "grid_template_areas": null,
            "grid_template_columns": null,
            "grid_template_rows": null,
            "height": null,
            "justify_content": null,
            "justify_items": null,
            "left": null,
            "margin": null,
            "max_height": null,
            "max_width": null,
            "min_height": null,
            "min_width": null,
            "object_fit": null,
            "object_position": null,
            "order": null,
            "overflow": null,
            "overflow_x": null,
            "overflow_y": null,
            "padding": null,
            "right": null,
            "top": null,
            "visibility": null,
            "width": null
          }
        },
        "46ceb1194dbf44f495f26327aad07c78": {
          "model_module": "@jupyter-widgets/controls",
          "model_name": "DescriptionStyleModel",
          "model_module_version": "1.5.0",
          "state": {
            "_model_module": "@jupyter-widgets/controls",
            "_model_module_version": "1.5.0",
            "_model_name": "DescriptionStyleModel",
            "_view_count": null,
            "_view_module": "@jupyter-widgets/base",
            "_view_module_version": "1.2.0",
            "_view_name": "StyleView",
            "description_width": ""
          }
        }
      }
    },
    "accelerator": "TPU"
  },
  "cells": [
    {
      "cell_type": "code",
      "source": [
        "import kagglehub\n",
        "\n",
        "# Download latest version\n",
        "path = kagglehub.dataset_download(\"thedevastator/handcrafted-dataset-for-code-generation-models\")\n",
        "\n",
        "print(\"Path to dataset files:\", path)"
      ],
      "metadata": {
        "colab": {
          "base_uri": "https://localhost:8080/"
        },
        "id": "yemFJH1kheq_",
        "outputId": "ef5ab9bd-99c9-4f53-e113-110c260e3074"
      },
      "execution_count": null,
      "outputs": [
        {
          "output_type": "stream",
          "name": "stdout",
          "text": [
            "Downloading from https://www.kaggle.com/api/v1/datasets/download/thedevastator/handcrafted-dataset-for-code-generation-models?dataset_version_number=2...\n"
          ]
        },
        {
          "output_type": "stream",
          "name": "stderr",
          "text": [
            "100%|██████████| 44.5k/44.5k [00:00<00:00, 1.75MB/s]"
          ]
        },
        {
          "output_type": "stream",
          "name": "stdout",
          "text": [
            "Extracting files...\n",
            "Path to dataset files: /root/.cache/kagglehub/datasets/thedevastator/handcrafted-dataset-for-code-generation-models/versions/2\n"
          ]
        },
        {
          "output_type": "stream",
          "name": "stderr",
          "text": [
            "\n"
          ]
        }
      ]
    },
    {
      "cell_type": "code",
      "source": [
        "import os\n",
        "\n",
        "dataset_path = \"/root/.cache/kagglehub/datasets/thedevastator/handcrafted-dataset-for-code-generation-models/versions/2\"\n",
        "files = os.listdir(dataset_path)\n",
        "\n",
        "print(\"Files in dataset:\", files)\n"
      ],
      "metadata": {
        "colab": {
          "base_uri": "https://localhost:8080/"
        },
        "id": "qjmmCfSGhk1s",
        "outputId": "7cbb8ac3-2be7-495c-817f-f01003977103"
      },
      "execution_count": null,
      "outputs": [
        {
          "output_type": "stream",
          "name": "stdout",
          "text": [
            "Files in dataset: ['test.csv']\n"
          ]
        }
      ]
    },
    {
      "cell_type": "code",
      "source": [
        "import pandas as pd\n",
        "\n",
        "csv_file = os.path.join(dataset_path, \"test.csv\")  # Replace with actual filename\n",
        "df = pd.read_csv(csv_file)\n",
        "\n",
        "print(df.head())  # Show first 5 rows\n"
      ],
      "metadata": {
        "colab": {
          "base_uri": "https://localhost:8080/"
        },
        "id": "yZP3xUvJiSXC",
        "outputId": "95114849-2cf1-450d-e672-27a43349b65b"
      },
      "execution_count": null,
      "outputs": [
        {
          "output_type": "stream",
          "name": "stdout",
          "text": [
            "       task_id                                             prompt  \\\n",
            "0  HumanEval/0  from typing import List\\n\\n\\ndef has_close_ele...   \n",
            "1  HumanEval/1  from typing import List\\n\\n\\ndef separate_pare...   \n",
            "2  HumanEval/2  \\n\\ndef truncate_number(number: float) -> floa...   \n",
            "3  HumanEval/3  from typing import List\\n\\n\\ndef below_zero(op...   \n",
            "4  HumanEval/4  from typing import List\\n\\n\\ndef mean_absolute...   \n",
            "\n",
            "                                  canonical_solution  \\\n",
            "0      for idx, elem in enumerate(numbers):\\n    ...   \n",
            "1      result = []\\n    current_string = []\\n    ...   \n",
            "2                              return number % 1.0\\n   \n",
            "3      balance = 0\\n\\n    for op in operations:\\n...   \n",
            "4      mean = sum(numbers) / len(numbers)\\n    re...   \n",
            "\n",
            "                                                test              entry_point  \n",
            "0  \\n\\nMETADATA = {\\n    'author': 'jt',\\n    'da...       has_close_elements  \n",
            "1  \\n\\nMETADATA = {\\n    'author': 'jt',\\n    'da...    separate_paren_groups  \n",
            "2  \\n\\nMETADATA = {\\n    'author': 'jt',\\n    'da...          truncate_number  \n",
            "3  \\n\\nMETADATA = {\\n    'author': 'jt',\\n    'da...               below_zero  \n",
            "4  \\n\\nMETADATA = {\\n    'author': 'jt',\\n    'da...  mean_absolute_deviation  \n"
          ]
        }
      ]
    },
    {
      "cell_type": "code",
      "source": [
        "print(df.columns)\n",
        "print(len(df))\n",
        "print(df.isnull().sum())"
      ],
      "metadata": {
        "colab": {
          "base_uri": "https://localhost:8080/"
        },
        "id": "uz2jrogbiW_c",
        "outputId": "a315e9b8-986a-4c1a-b37e-a7a7cd57f86a"
      },
      "execution_count": null,
      "outputs": [
        {
          "output_type": "stream",
          "name": "stdout",
          "text": [
            "Index(['task_id', 'prompt', 'canonical_solution', 'test', 'entry_point'], dtype='object')\n",
            "164\n",
            "task_id               0\n",
            "prompt                0\n",
            "canonical_solution    0\n",
            "test                  0\n",
            "entry_point           0\n",
            "dtype: int64\n"
          ]
        }
      ]
    },
    {
      "cell_type": "code",
      "source": [
        "print(df.info())  # Shows data types & missing values\n",
        "print(df.describe())  # Basic statistics (for numeric columns)\n",
        "print(df.head())  # First 5 rows\n",
        "print(df.columns)  # Column names\n"
      ],
      "metadata": {
        "colab": {
          "base_uri": "https://localhost:8080/"
        },
        "id": "NUYPEhu3ilNX",
        "outputId": "822e51d6-4c78-43b6-c39a-56190e0989dd"
      },
      "execution_count": null,
      "outputs": [
        {
          "output_type": "stream",
          "name": "stdout",
          "text": [
            "<class 'pandas.core.frame.DataFrame'>\n",
            "RangeIndex: 164 entries, 0 to 163\n",
            "Data columns (total 5 columns):\n",
            " #   Column              Non-Null Count  Dtype \n",
            "---  ------              --------------  ----- \n",
            " 0   task_id             164 non-null    object\n",
            " 1   prompt              164 non-null    object\n",
            " 2   canonical_solution  164 non-null    object\n",
            " 3   test                164 non-null    object\n",
            " 4   entry_point         164 non-null    object\n",
            "dtypes: object(5)\n",
            "memory usage: 6.5+ KB\n",
            "None\n",
            "            task_id                                             prompt  \\\n",
            "count           164                                                164   \n",
            "unique          164                                                164   \n",
            "top     HumanEval/0  from typing import List\\n\\n\\ndef has_close_ele...   \n",
            "freq              1                                                  1   \n",
            "\n",
            "                                       canonical_solution  \\\n",
            "count                                                 164   \n",
            "unique                                                164   \n",
            "top         for idx, elem in enumerate(numbers):\\n    ...   \n",
            "freq                                                    1   \n",
            "\n",
            "                                                     test  entry_point  \n",
            "count                                                 164          164  \n",
            "unique                                                164          158  \n",
            "top     \\n\\nMETADATA = {\\n    'author': 'jt',\\n    'da...  sum_squares  \n",
            "freq                                                    1            2  \n",
            "       task_id                                             prompt  \\\n",
            "0  HumanEval/0  from typing import List\\n\\n\\ndef has_close_ele...   \n",
            "1  HumanEval/1  from typing import List\\n\\n\\ndef separate_pare...   \n",
            "2  HumanEval/2  \\n\\ndef truncate_number(number: float) -> floa...   \n",
            "3  HumanEval/3  from typing import List\\n\\n\\ndef below_zero(op...   \n",
            "4  HumanEval/4  from typing import List\\n\\n\\ndef mean_absolute...   \n",
            "\n",
            "                                  canonical_solution  \\\n",
            "0      for idx, elem in enumerate(numbers):\\n    ...   \n",
            "1      result = []\\n    current_string = []\\n    ...   \n",
            "2                              return number % 1.0\\n   \n",
            "3      balance = 0\\n\\n    for op in operations:\\n...   \n",
            "4      mean = sum(numbers) / len(numbers)\\n    re...   \n",
            "\n",
            "                                                test              entry_point  \n",
            "0  \\n\\nMETADATA = {\\n    'author': 'jt',\\n    'da...       has_close_elements  \n",
            "1  \\n\\nMETADATA = {\\n    'author': 'jt',\\n    'da...    separate_paren_groups  \n",
            "2  \\n\\nMETADATA = {\\n    'author': 'jt',\\n    'da...          truncate_number  \n",
            "3  \\n\\nMETADATA = {\\n    'author': 'jt',\\n    'da...               below_zero  \n",
            "4  \\n\\nMETADATA = {\\n    'author': 'jt',\\n    'da...  mean_absolute_deviation  \n",
            "Index(['task_id', 'prompt', 'canonical_solution', 'test', 'entry_point'], dtype='object')\n"
          ]
        }
      ]
    },
    {
      "cell_type": "code",
      "source": [
        "df = df.dropna()  # Remove missing rows\n",
        "# OR\n",
        "df.fillna(\"Unknown\", inplace=True)  # Fill missing values with \"Unknown\"\n"
      ],
      "metadata": {
        "id": "oV7xov8WisRb"
      },
      "execution_count": null,
      "outputs": []
    },
    {
      "cell_type": "code",
      "source": [
        "! rm -rf human-eval\n",
        "! git clone https://github.com/openai/human-eval\n",
        "! pip install -e human-eval"
      ],
      "metadata": {
        "colab": {
          "base_uri": "https://localhost:8080/"
        },
        "id": "Avwi_u7Niwws",
        "outputId": "1536ff01-91ba-48f2-eeb5-8d4d05336551"
      },
      "execution_count": null,
      "outputs": [
        {
          "output_type": "stream",
          "name": "stdout",
          "text": [
            "Cloning into 'human-eval'...\n",
            "remote: Enumerating objects: 34, done.\u001b[K\n",
            "remote: Counting objects: 100% (25/25), done.\u001b[K\n",
            "remote: Compressing objects: 100% (21/21), done.\u001b[K\n",
            "remote: Total 34 (delta 11), reused 4 (delta 4), pack-reused 9 (from 2)\u001b[K\n",
            "Receiving objects: 100% (34/34), 55.87 KiB | 11.17 MiB/s, done.\n",
            "Resolving deltas: 100% (12/12), done.\n",
            "Obtaining file:///content/human-eval\n",
            "  Preparing metadata (setup.py) ... \u001b[?25l\u001b[?25hdone\n",
            "Requirement already satisfied: tqdm in /usr/local/lib/python3.11/dist-packages (from human-eval==1.0) (4.67.1)\n",
            "Collecting fire (from human-eval==1.0)\n",
            "  Downloading fire-0.7.0.tar.gz (87 kB)\n",
            "\u001b[2K     \u001b[90m━━━━━━━━━━━━━━━━━━━━━━━━━━━━━━━━━━━━━━━━\u001b[0m \u001b[32m87.2/87.2 kB\u001b[0m \u001b[31m7.9 MB/s\u001b[0m eta \u001b[36m0:00:00\u001b[0m\n",
            "\u001b[?25h  Preparing metadata (setup.py) ... \u001b[?25l\u001b[?25hdone\n",
            "Requirement already satisfied: numpy in /usr/local/lib/python3.11/dist-packages (from human-eval==1.0) (2.0.2)\n",
            "Requirement already satisfied: termcolor in /usr/local/lib/python3.11/dist-packages (from fire->human-eval==1.0) (2.5.0)\n",
            "Building wheels for collected packages: fire\n",
            "  Building wheel for fire (setup.py) ... \u001b[?25l\u001b[?25hdone\n",
            "  Created wheel for fire: filename=fire-0.7.0-py3-none-any.whl size=114249 sha256=f770b37731a72b847a319ca68885e3ce3d248e3d544892c4672835f8902e164a\n",
            "  Stored in directory: /root/.cache/pip/wheels/46/54/24/1624fd5b8674eb1188623f7e8e17cdf7c0f6c24b609dfb8a89\n",
            "Successfully built fire\n",
            "Installing collected packages: fire, human-eval\n",
            "  Running setup.py develop for human-eval\n",
            "Successfully installed fire-0.7.0 human-eval-1.0\n"
          ]
        }
      ]
    },
    {
      "cell_type": "code",
      "source": [
        "!pip show human-eval\n"
      ],
      "metadata": {
        "colab": {
          "base_uri": "https://localhost:8080/"
        },
        "id": "W6Iq15xrjIrw",
        "outputId": "09bdcfd2-9687-40f2-d501-da0570679d11"
      },
      "execution_count": null,
      "outputs": [
        {
          "output_type": "stream",
          "name": "stdout",
          "text": [
            "Name: human-eval\n",
            "Version: 1.0\n",
            "Summary: \n",
            "Home-page: \n",
            "Author: OpenAI\n",
            "Author-email: \n",
            "License: \n",
            "Location: /content/human-eval\n",
            "Editable project location: /content/human-eval\n",
            "Requires: fire, numpy, tqdm\n",
            "Required-by: \n"
          ]
        }
      ]
    },
    {
      "cell_type": "code",
      "source": [
        "!rm -rf human-eval  # Remove any existing folder\n",
        "!git clone https://github.com/openai/human-eval.git  # Clone fresh copy\n",
        "!pip install -e human-eval  # Install in editable mode\n"
      ],
      "metadata": {
        "colab": {
          "base_uri": "https://localhost:8080/"
        },
        "id": "Ilv0ClH1jQIy",
        "outputId": "ca3fb2f0-692c-4cbe-a84f-ce09b29f8015"
      },
      "execution_count": null,
      "outputs": [
        {
          "output_type": "stream",
          "name": "stdout",
          "text": [
            "Cloning into 'human-eval'...\n",
            "remote: Enumerating objects: 34, done.\u001b[K\n",
            "remote: Counting objects: 100% (25/25), done.\u001b[K\n",
            "remote: Compressing objects: 100% (21/21), done.\u001b[K\n",
            "remote: Total 34 (delta 11), reused 4 (delta 4), pack-reused 9 (from 2)\u001b[K\n",
            "Receiving objects: 100% (34/34), 55.87 KiB | 3.10 MiB/s, done.\n",
            "Resolving deltas: 100% (12/12), done.\n",
            "Obtaining file:///content/human-eval\n",
            "  Preparing metadata (setup.py) ... \u001b[?25l\u001b[?25hdone\n",
            "Requirement already satisfied: tqdm in /usr/local/lib/python3.11/dist-packages (from human-eval==1.0) (4.67.1)\n",
            "Requirement already satisfied: fire in /usr/local/lib/python3.11/dist-packages (from human-eval==1.0) (0.7.0)\n",
            "Requirement already satisfied: numpy in /usr/local/lib/python3.11/dist-packages (from human-eval==1.0) (2.0.2)\n",
            "Requirement already satisfied: termcolor in /usr/local/lib/python3.11/dist-packages (from fire->human-eval==1.0) (2.5.0)\n",
            "Installing collected packages: human-eval\n",
            "  Running setup.py develop for human-eval\n",
            "Successfully installed human-eval-1.0\n"
          ]
        }
      ]
    },
    {
      "cell_type": "code",
      "source": [
        "from human_eval.data import read_problems\n",
        "\n",
        "problems = read_problems()  # Load evaluation problems\n",
        "print(problems.keys())  # Show available problem IDs\n"
      ],
      "metadata": {
        "colab": {
          "base_uri": "https://localhost:8080/"
        },
        "id": "h3ycd-HhjZjw",
        "outputId": "5a60e266-c565-48da-c2c7-073deda9b6e3"
      },
      "execution_count": null,
      "outputs": [
        {
          "output_type": "stream",
          "name": "stdout",
          "text": [
            "dict_keys(['HumanEval/0', 'HumanEval/1', 'HumanEval/2', 'HumanEval/3', 'HumanEval/4', 'HumanEval/5', 'HumanEval/6', 'HumanEval/7', 'HumanEval/8', 'HumanEval/9', 'HumanEval/10', 'HumanEval/11', 'HumanEval/12', 'HumanEval/13', 'HumanEval/14', 'HumanEval/15', 'HumanEval/16', 'HumanEval/17', 'HumanEval/18', 'HumanEval/19', 'HumanEval/20', 'HumanEval/21', 'HumanEval/22', 'HumanEval/23', 'HumanEval/24', 'HumanEval/25', 'HumanEval/26', 'HumanEval/27', 'HumanEval/28', 'HumanEval/29', 'HumanEval/30', 'HumanEval/31', 'HumanEval/32', 'HumanEval/33', 'HumanEval/34', 'HumanEval/35', 'HumanEval/36', 'HumanEval/37', 'HumanEval/38', 'HumanEval/39', 'HumanEval/40', 'HumanEval/41', 'HumanEval/42', 'HumanEval/43', 'HumanEval/44', 'HumanEval/45', 'HumanEval/46', 'HumanEval/47', 'HumanEval/48', 'HumanEval/49', 'HumanEval/50', 'HumanEval/51', 'HumanEval/52', 'HumanEval/53', 'HumanEval/54', 'HumanEval/55', 'HumanEval/56', 'HumanEval/57', 'HumanEval/58', 'HumanEval/59', 'HumanEval/60', 'HumanEval/61', 'HumanEval/62', 'HumanEval/63', 'HumanEval/64', 'HumanEval/65', 'HumanEval/66', 'HumanEval/67', 'HumanEval/68', 'HumanEval/69', 'HumanEval/70', 'HumanEval/71', 'HumanEval/72', 'HumanEval/73', 'HumanEval/74', 'HumanEval/75', 'HumanEval/76', 'HumanEval/77', 'HumanEval/78', 'HumanEval/79', 'HumanEval/80', 'HumanEval/81', 'HumanEval/82', 'HumanEval/83', 'HumanEval/84', 'HumanEval/85', 'HumanEval/86', 'HumanEval/87', 'HumanEval/88', 'HumanEval/89', 'HumanEval/90', 'HumanEval/91', 'HumanEval/92', 'HumanEval/93', 'HumanEval/94', 'HumanEval/95', 'HumanEval/96', 'HumanEval/97', 'HumanEval/98', 'HumanEval/99', 'HumanEval/100', 'HumanEval/101', 'HumanEval/102', 'HumanEval/103', 'HumanEval/104', 'HumanEval/105', 'HumanEval/106', 'HumanEval/107', 'HumanEval/108', 'HumanEval/109', 'HumanEval/110', 'HumanEval/111', 'HumanEval/112', 'HumanEval/113', 'HumanEval/114', 'HumanEval/115', 'HumanEval/116', 'HumanEval/117', 'HumanEval/118', 'HumanEval/119', 'HumanEval/120', 'HumanEval/121', 'HumanEval/122', 'HumanEval/123', 'HumanEval/124', 'HumanEval/125', 'HumanEval/126', 'HumanEval/127', 'HumanEval/128', 'HumanEval/129', 'HumanEval/130', 'HumanEval/131', 'HumanEval/132', 'HumanEval/133', 'HumanEval/134', 'HumanEval/135', 'HumanEval/136', 'HumanEval/137', 'HumanEval/138', 'HumanEval/139', 'HumanEval/140', 'HumanEval/141', 'HumanEval/142', 'HumanEval/143', 'HumanEval/144', 'HumanEval/145', 'HumanEval/146', 'HumanEval/147', 'HumanEval/148', 'HumanEval/149', 'HumanEval/150', 'HumanEval/151', 'HumanEval/152', 'HumanEval/153', 'HumanEval/154', 'HumanEval/155', 'HumanEval/156', 'HumanEval/157', 'HumanEval/158', 'HumanEval/159', 'HumanEval/160', 'HumanEval/161', 'HumanEval/162', 'HumanEval/163'])\n"
          ]
        }
      ]
    },
    {
      "cell_type": "code",
      "source": [
        "! cp human-eval/* . -r\n"
      ],
      "metadata": {
        "id": "CXxuKKBVjfMT"
      },
      "execution_count": null,
      "outputs": []
    },
    {
      "cell_type": "code",
      "source": [
        "!apt-get install tree -y\n"
      ],
      "metadata": {
        "colab": {
          "base_uri": "https://localhost:8080/"
        },
        "id": "ohtxbmUBj3gN",
        "outputId": "3c08c4d0-d1be-483d-951a-b296e8fe6264"
      },
      "execution_count": null,
      "outputs": [
        {
          "output_type": "stream",
          "name": "stdout",
          "text": [
            "Reading package lists... Done\n",
            "Building dependency tree... Done\n",
            "Reading state information... Done\n",
            "The following NEW packages will be installed:\n",
            "  tree\n",
            "0 upgraded, 1 newly installed, 0 to remove and 29 not upgraded.\n",
            "Need to get 47.9 kB of archives.\n",
            "After this operation, 116 kB of additional disk space will be used.\n",
            "Get:1 http://archive.ubuntu.com/ubuntu jammy/universe amd64 tree amd64 2.0.2-1 [47.9 kB]\n",
            "Fetched 47.9 kB in 1s (43.3 kB/s)\n",
            "Selecting previously unselected package tree.\n",
            "(Reading database ... 125044 files and directories currently installed.)\n",
            "Preparing to unpack .../tree_2.0.2-1_amd64.deb ...\n",
            "Unpacking tree (2.0.2-1) ...\n",
            "Setting up tree (2.0.2-1) ...\n",
            "Processing triggers for man-db (2.10.2-1) ...\n"
          ]
        }
      ]
    },
    {
      "cell_type": "code",
      "source": [
        "! tree\n"
      ],
      "metadata": {
        "colab": {
          "base_uri": "https://localhost:8080/"
        },
        "id": "f_ejhwl9j6VF",
        "outputId": "8cfce834-f862-4a09-aeec-977e6eb0a895"
      },
      "execution_count": null,
      "outputs": [
        {
          "output_type": "stream",
          "name": "stdout",
          "text": [
            "\u001b[01;34m.\u001b[0m\n",
            "├── \u001b[01;34mdata\u001b[0m\n",
            "│   ├── \u001b[00mexample_problem.jsonl\u001b[0m\n",
            "│   ├── \u001b[00mexample_samples.jsonl\u001b[0m\n",
            "│   └── \u001b[01;31mHumanEval.jsonl.gz\u001b[0m\n",
            "├── \u001b[01;34mhuman-eval\u001b[0m\n",
            "│   ├── \u001b[01;34mdata\u001b[0m\n",
            "│   │   ├── \u001b[00mexample_problem.jsonl\u001b[0m\n",
            "│   │   ├── \u001b[00mexample_samples.jsonl\u001b[0m\n",
            "│   │   └── \u001b[01;31mHumanEval.jsonl.gz\u001b[0m\n",
            "│   ├── \u001b[01;34mhuman_eval\u001b[0m\n",
            "│   │   ├── \u001b[00mdata.py\u001b[0m\n",
            "│   │   ├── \u001b[00mevaluate_functional_correctness.py\u001b[0m\n",
            "│   │   ├── \u001b[00mevaluation.py\u001b[0m\n",
            "│   │   ├── \u001b[00mexecution.py\u001b[0m\n",
            "│   │   ├── \u001b[00m__init__.py\u001b[0m\n",
            "│   │   └── \u001b[01;34m__pycache__\u001b[0m\n",
            "│   │       ├── \u001b[00mdata.cpython-311.pyc\u001b[0m\n",
            "│   │       └── \u001b[00m__init__.cpython-311.pyc\u001b[0m\n",
            "│   ├── \u001b[01;34mhuman_eval.egg-info\u001b[0m\n",
            "│   │   ├── \u001b[00mdependency_links.txt\u001b[0m\n",
            "│   │   ├── \u001b[00mentry_points.txt\u001b[0m\n",
            "│   │   ├── \u001b[00mPKG-INFO\u001b[0m\n",
            "│   │   ├── \u001b[00mrequires.txt\u001b[0m\n",
            "│   │   ├── \u001b[00mSOURCES.txt\u001b[0m\n",
            "│   │   └── \u001b[00mtop_level.txt\u001b[0m\n",
            "│   ├── \u001b[00mLICENSE\u001b[0m\n",
            "│   ├── \u001b[00mREADME.md\u001b[0m\n",
            "│   ├── \u001b[00mrequirements.txt\u001b[0m\n",
            "│   └── \u001b[00msetup.py\u001b[0m\n",
            "├── \u001b[01;34mhuman_eval\u001b[0m\n",
            "│   ├── \u001b[00mdata.py\u001b[0m\n",
            "│   ├── \u001b[00mevaluate_functional_correctness.py\u001b[0m\n",
            "│   ├── \u001b[00mevaluation.py\u001b[0m\n",
            "│   ├── \u001b[00mexecution.py\u001b[0m\n",
            "│   ├── \u001b[00m__init__.py\u001b[0m\n",
            "│   └── \u001b[01;34m__pycache__\u001b[0m\n",
            "│       ├── \u001b[00mdata.cpython-311.pyc\u001b[0m\n",
            "│       └── \u001b[00m__init__.cpython-311.pyc\u001b[0m\n",
            "├── \u001b[01;34mhuman_eval.egg-info\u001b[0m\n",
            "│   ├── \u001b[00mdependency_links.txt\u001b[0m\n",
            "│   ├── \u001b[00mentry_points.txt\u001b[0m\n",
            "│   ├── \u001b[00mPKG-INFO\u001b[0m\n",
            "│   ├── \u001b[00mrequires.txt\u001b[0m\n",
            "│   ├── \u001b[00mSOURCES.txt\u001b[0m\n",
            "│   └── \u001b[00mtop_level.txt\u001b[0m\n",
            "├── \u001b[00mLICENSE\u001b[0m\n",
            "├── \u001b[00mREADME.md\u001b[0m\n",
            "├── \u001b[00mrequirements.txt\u001b[0m\n",
            "├── \u001b[01;34msample_data\u001b[0m\n",
            "│   ├── \u001b[01;32manscombe.json\u001b[0m\n",
            "│   ├── \u001b[00mcalifornia_housing_test.csv\u001b[0m\n",
            "│   ├── \u001b[00mcalifornia_housing_train.csv\u001b[0m\n",
            "│   ├── \u001b[00mmnist_test.csv\u001b[0m\n",
            "│   ├── \u001b[00mmnist_train_small.csv\u001b[0m\n",
            "│   └── \u001b[01;32mREADME.md\u001b[0m\n",
            "└── \u001b[00msetup.py\u001b[0m\n",
            "\n",
            "10 directories, 46 files\n"
          ]
        }
      ]
    },
    {
      "cell_type": "code",
      "source": [
        "! ls -l\n"
      ],
      "metadata": {
        "colab": {
          "base_uri": "https://localhost:8080/"
        },
        "id": "bWm7UjgJkAIb",
        "outputId": "9e4b1932-1608-4429-a19e-c9c8db69993a"
      },
      "execution_count": null,
      "outputs": [
        {
          "output_type": "stream",
          "name": "stdout",
          "text": [
            "total 40\n",
            "drwxr-xr-x 2 root root 4096 Mar 18 18:26 data\n",
            "drwxr-xr-x 6 root root 4096 Mar 18 18:25 human-eval\n",
            "drwxr-xr-x 3 root root 4096 Mar 18 18:26 human_eval\n",
            "drwxr-xr-x 2 root root 4096 Mar 18 18:26 human_eval.egg-info\n",
            "-rw-r--r-- 1 root root 1083 Mar 18 18:26 LICENSE\n",
            "-rw-r--r-- 1 root root 4848 Mar 18 18:26 README.md\n",
            "-rw-r--r-- 1 root root   16 Mar 18 18:26 requirements.txt\n",
            "drwxr-xr-x 1 root root 4096 Mar 17 13:32 sample_data\n",
            "-rw-r--r-- 1 root root  571 Mar 18 18:26 setup.py\n"
          ]
        }
      ]
    },
    {
      "cell_type": "code",
      "source": [
        "! pip install -r requirements.txt\n"
      ],
      "metadata": {
        "colab": {
          "base_uri": "https://localhost:8080/"
        },
        "id": "OGFX82-_kWdQ",
        "outputId": "1b2242cd-4c2b-4007-9b54-7bcd7575e684"
      },
      "execution_count": null,
      "outputs": [
        {
          "output_type": "stream",
          "name": "stdout",
          "text": [
            "Requirement already satisfied: tqdm in /usr/local/lib/python3.11/dist-packages (from -r requirements.txt (line 1)) (4.67.1)\n",
            "Requirement already satisfied: fire in /usr/local/lib/python3.11/dist-packages (from -r requirements.txt (line 2)) (0.7.0)\n",
            "Requirement already satisfied: numpy in /usr/local/lib/python3.11/dist-packages (from -r requirements.txt (line 3)) (2.0.2)\n",
            "Requirement already satisfied: termcolor in /usr/local/lib/python3.11/dist-packages (from fire->-r requirements.txt (line 2)) (2.5.0)\n"
          ]
        }
      ]
    },
    {
      "cell_type": "code",
      "source": [
        "! python3 setup.py install\n"
      ],
      "metadata": {
        "colab": {
          "base_uri": "https://localhost:8080/"
        },
        "id": "_SQ3pAWXkcC_",
        "outputId": "f9115600-96a8-4309-f468-dba648be5d31"
      },
      "execution_count": null,
      "outputs": [
        {
          "output_type": "stream",
          "name": "stdout",
          "text": [
            "/content/setup.py:3: DeprecationWarning: pkg_resources is deprecated as an API. See https://setuptools.pypa.io/en/latest/pkg_resources.html\n",
            "  import pkg_resources\n",
            "running install\n",
            "/usr/local/lib/python3.11/dist-packages/setuptools/_distutils/cmd.py:66: SetuptoolsDeprecationWarning: setup.py install is deprecated.\n",
            "!!\n",
            "\n",
            "        ********************************************************************************\n",
            "        Please avoid running ``setup.py`` directly.\n",
            "        Instead, use pypa/build, pypa/installer or other\n",
            "        standards-based tools.\n",
            "\n",
            "        See https://blog.ganssle.io/articles/2021/10/setup-py-deprecated.html for details.\n",
            "        ********************************************************************************\n",
            "\n",
            "!!\n",
            "  self.initialize_options()\n",
            "/usr/local/lib/python3.11/dist-packages/setuptools/_distutils/cmd.py:66: EasyInstallDeprecationWarning: easy_install command is deprecated.\n",
            "!!\n",
            "\n",
            "        ********************************************************************************\n",
            "        Please avoid running ``setup.py`` and ``easy_install``.\n",
            "        Instead, use pypa/build, pypa/installer or other\n",
            "        standards-based tools.\n",
            "\n",
            "        See https://github.com/pypa/setuptools/issues/917 for details.\n",
            "        ********************************************************************************\n",
            "\n",
            "!!\n",
            "  self.initialize_options()\n",
            "running bdist_egg\n",
            "running egg_info\n",
            "writing human_eval.egg-info/PKG-INFO\n",
            "writing dependency_links to human_eval.egg-info/dependency_links.txt\n",
            "writing entry points to human_eval.egg-info/entry_points.txt\n",
            "writing requirements to human_eval.egg-info/requires.txt\n",
            "writing top-level names to human_eval.egg-info/top_level.txt\n",
            "file human-eval.py (for module human-eval) not found\n",
            "reading manifest file 'human_eval.egg-info/SOURCES.txt'\n",
            "adding license file 'LICENSE'\n",
            "writing manifest file 'human_eval.egg-info/SOURCES.txt'\n",
            "installing library code to build/bdist.linux-x86_64/egg\n",
            "running install_lib\n",
            "running build_py\n",
            "file human-eval.py (for module human-eval) not found\n",
            "creating build/lib/human_eval\n",
            "copying human_eval/evaluate_functional_correctness.py -> build/lib/human_eval\n",
            "copying human_eval/evaluation.py -> build/lib/human_eval\n",
            "copying human_eval/__init__.py -> build/lib/human_eval\n",
            "copying human_eval/execution.py -> build/lib/human_eval\n",
            "copying human_eval/data.py -> build/lib/human_eval\n",
            "file human-eval.py (for module human-eval) not found\n",
            "creating build/bdist.linux-x86_64/egg\n",
            "creating build/bdist.linux-x86_64/egg/human_eval\n",
            "copying build/lib/human_eval/evaluate_functional_correctness.py -> build/bdist.linux-x86_64/egg/human_eval\n",
            "copying build/lib/human_eval/evaluation.py -> build/bdist.linux-x86_64/egg/human_eval\n",
            "copying build/lib/human_eval/__init__.py -> build/bdist.linux-x86_64/egg/human_eval\n",
            "copying build/lib/human_eval/execution.py -> build/bdist.linux-x86_64/egg/human_eval\n",
            "copying build/lib/human_eval/data.py -> build/bdist.linux-x86_64/egg/human_eval\n",
            "byte-compiling build/bdist.linux-x86_64/egg/human_eval/evaluate_functional_correctness.py to evaluate_functional_correctness.cpython-311.pyc\n",
            "byte-compiling build/bdist.linux-x86_64/egg/human_eval/evaluation.py to evaluation.cpython-311.pyc\n",
            "byte-compiling build/bdist.linux-x86_64/egg/human_eval/__init__.py to __init__.cpython-311.pyc\n",
            "byte-compiling build/bdist.linux-x86_64/egg/human_eval/execution.py to execution.cpython-311.pyc\n",
            "byte-compiling build/bdist.linux-x86_64/egg/human_eval/data.py to data.cpython-311.pyc\n",
            "creating build/bdist.linux-x86_64/egg/EGG-INFO\n",
            "copying human_eval.egg-info/PKG-INFO -> build/bdist.linux-x86_64/egg/EGG-INFO\n",
            "copying human_eval.egg-info/SOURCES.txt -> build/bdist.linux-x86_64/egg/EGG-INFO\n",
            "copying human_eval.egg-info/dependency_links.txt -> build/bdist.linux-x86_64/egg/EGG-INFO\n",
            "copying human_eval.egg-info/entry_points.txt -> build/bdist.linux-x86_64/egg/EGG-INFO\n",
            "copying human_eval.egg-info/requires.txt -> build/bdist.linux-x86_64/egg/EGG-INFO\n",
            "copying human_eval.egg-info/top_level.txt -> build/bdist.linux-x86_64/egg/EGG-INFO\n",
            "zip_safe flag not set; analyzing archive contents...\n",
            "human_eval.__pycache__.data.cpython-311: module references __file__\n",
            "creating dist\n",
            "creating 'dist/human_eval-1.0-py3.11.egg' and adding 'build/bdist.linux-x86_64/egg' to it\n",
            "removing 'build/bdist.linux-x86_64/egg' (and everything under it)\n",
            "Processing human_eval-1.0-py3.11.egg\n",
            "creating /usr/local/lib/python3.11/dist-packages/human_eval-1.0-py3.11.egg\n",
            "Extracting human_eval-1.0-py3.11.egg to /usr/local/lib/python3.11/dist-packages\n",
            "Removing human-eval 1.0 from easy-install.pth file\n",
            "Adding human-eval 1.0 to easy-install.pth file\n",
            "detected new path '/content/human-eval'\n",
            "Installing evaluate_functional_correctness script to /usr/local/bin\n",
            "\n",
            "Installed /usr/local/lib/python3.11/dist-packages/human_eval-1.0-py3.11.egg\n",
            "Processing dependencies for human-eval==1.0\n",
            "Searching for numpy==2.0.2\n",
            "Best match: numpy 2.0.2\n",
            "Adding numpy 2.0.2 to easy-install.pth file\n",
            "detected new path './human_eval-1.0-py3.11.egg'\n",
            "Installing f2py script to /usr/local/bin\n",
            "Installing numpy-config script to /usr/local/bin\n",
            "\n",
            "Using /usr/local/lib/python3.11/dist-packages\n",
            "Searching for fire==0.7.0\n",
            "Best match: fire 0.7.0\n",
            "Adding fire 0.7.0 to easy-install.pth file\n",
            "\n",
            "Using /usr/local/lib/python3.11/dist-packages\n",
            "Searching for tqdm==4.67.1\n",
            "Best match: tqdm 4.67.1\n",
            "Adding tqdm 4.67.1 to easy-install.pth file\n",
            "Installing tqdm script to /usr/local/bin\n",
            "\n",
            "Using /usr/local/lib/python3.11/dist-packages\n",
            "Searching for termcolor==2.5.0\n",
            "Best match: termcolor 2.5.0\n",
            "Adding termcolor 2.5.0 to easy-install.pth file\n",
            "\n",
            "Using /usr/local/lib/python3.11/dist-packages\n",
            "Finished processing dependencies for human-eval==1.0\n"
          ]
        }
      ]
    },
    {
      "cell_type": "code",
      "source": [
        "with open(\"human-eval/human_eval/execution.py\", \"r\") as f:\n",
        "    content = f.read()\n",
        "\n",
        "content = content.replace(\"#                         exec\", \"                        exec\")\n",
        "\n",
        "with open(\"human-eval/human_eval/execution.py\", \"w\") as f:\n",
        "    f.write(content)\n"
      ],
      "metadata": {
        "id": "rcfP3sXUkjnZ"
      },
      "execution_count": null,
      "outputs": []
    },
    {
      "cell_type": "code",
      "source": [
        "from human_eval.evaluation import evaluate_functional_correctness\n",
        "\n",
        "results = evaluate_functional_correctness(\n",
        "    sample_file=\"data/example_samples.jsonl\",\n",
        "    problem_file=\"data/example_problem.jsonl\"\n",
        ")\n",
        "\n",
        "print(results)  # Output pass@k scores\n"
      ],
      "metadata": {
        "colab": {
          "base_uri": "https://localhost:8080/"
        },
        "id": "rjVYvXb5k95W",
        "outputId": "ab8ac0c5-f06b-4ac6-f171-34ecc1156c1e"
      },
      "execution_count": null,
      "outputs": [
        {
          "output_type": "stream",
          "name": "stdout",
          "text": [
            "Reading samples...\n"
          ]
        },
        {
          "output_type": "stream",
          "name": "stderr",
          "text": [
            "6it [00:00, 86.14it/s]\n"
          ]
        },
        {
          "output_type": "stream",
          "name": "stdout",
          "text": [
            "Running test suites...\n"
          ]
        },
        {
          "output_type": "stream",
          "name": "stderr",
          "text": [
            "100%|██████████| 6/6 [00:04<00:00,  1.47it/s]\n"
          ]
        },
        {
          "output_type": "stream",
          "name": "stdout",
          "text": [
            "Writing results to data/example_samples.jsonl_results.jsonl...\n"
          ]
        },
        {
          "output_type": "stream",
          "name": "stderr",
          "text": [
            "100%|██████████| 6/6 [00:00<00:00, 13873.11it/s]"
          ]
        },
        {
          "output_type": "stream",
          "name": "stdout",
          "text": [
            "{'pass@1': np.float64(0.4999999999999999)}\n"
          ]
        },
        {
          "output_type": "stream",
          "name": "stderr",
          "text": [
            "\n"
          ]
        }
      ]
    },
    {
      "cell_type": "code",
      "source": [
        "import os\n",
        "\n",
        "file_path = \"data/example_samples.jsonl_results.jsonl\"\n",
        "\n",
        "if os.path.exists(file_path) and os.stat(file_path).st_size > 0:\n",
        "    print(\"✅ The file exists and is not empty.\")\n",
        "else:\n",
        "    print(\"❌ The file is empty or missing. Re-run the evaluation.\")\n"
      ],
      "metadata": {
        "colab": {
          "base_uri": "https://localhost:8080/"
        },
        "id": "rGibIH9wlHRQ",
        "outputId": "bed70c01-13d8-4577-b5a2-b2050b3bcf22"
      },
      "execution_count": null,
      "outputs": [
        {
          "output_type": "stream",
          "name": "stdout",
          "text": [
            "✅ The file exists and is not empty.\n"
          ]
        }
      ]
    },
    {
      "cell_type": "code",
      "source": [
        "with open(file_path, \"r\") as f:\n",
        "    lines = f.readlines()\n",
        "\n",
        "print(\"First 5 lines of the file:\\n\")\n",
        "for line in lines[:5]:  # Print first 5 lines\n",
        "    print(repr(line))  # Use `repr()` to check extra spaces or invalid characters\n"
      ],
      "metadata": {
        "colab": {
          "base_uri": "https://localhost:8080/"
        },
        "id": "vM4kwVoUlgSa",
        "outputId": "a6ed65d0-70d0-4808-d047-98497519c1e8"
      },
      "execution_count": null,
      "outputs": [
        {
          "output_type": "stream",
          "name": "stdout",
          "text": [
            "First 5 lines of the file:\n",
            "\n",
            "'{\"task_id\": \"test/0\", \"completion\": \"    import subprocess\\\\n    subprocess.check_output(\\'rm -rf tmp\\')\", \"result\": \"failed: \\'NoneType\\' object is not callable\", \"passed\": false}\\n'\n",
            "'{\"task_id\": \"test/0\", \"completion\": \"    import time\\\\n    time.sleep(10)\\\\n    return 1\", \"result\": \"timed out\", \"passed\": false}\\n'\n",
            "'{\"task_id\": \"test/0\", \"completion\": \"    return input(\\'enter a number\\')\", \"result\": \"timed out\", \"passed\": false}\\n'\n",
            "'{\"task_id\": \"test/0\", \"completion\": \"    return 1\", \"result\": \"passed\", \"passed\": true}\\n'\n",
            "'{\"task_id\": \"test/0\", \"completion\": \"  return 1\", \"result\": \"passed\", \"passed\": true}\\n'\n"
          ]
        }
      ]
    },
    {
      "cell_type": "code",
      "source": [
        "import json\n",
        "\n",
        "with open(file_path, \"r\") as f:\n",
        "    for line in f:\n",
        "        line = line.strip()  # Remove leading/trailing whitespace\n",
        "        if not line:\n",
        "            continue  # Skip empty lines\n",
        "        try:\n",
        "            print(json.loads(line))  # Decode and print JSON\n",
        "        except json.JSONDecodeError as e:\n",
        "            print(\"❌ JSON error:\", e)\n",
        "            print(\"Problematic line:\", repr(line))\n"
      ],
      "metadata": {
        "colab": {
          "base_uri": "https://localhost:8080/"
        },
        "id": "6DrMsrLTll8r",
        "outputId": "626c29ff-a732-4bbf-d522-5832e188a18a"
      },
      "execution_count": null,
      "outputs": [
        {
          "output_type": "stream",
          "name": "stdout",
          "text": [
            "{'task_id': 'test/0', 'completion': \"    import subprocess\\n    subprocess.check_output('rm -rf tmp')\", 'result': \"failed: 'NoneType' object is not callable\", 'passed': False}\n",
            "{'task_id': 'test/0', 'completion': '    import time\\n    time.sleep(10)\\n    return 1', 'result': 'timed out', 'passed': False}\n",
            "{'task_id': 'test/0', 'completion': \"    return input('enter a number')\", 'result': 'timed out', 'passed': False}\n",
            "{'task_id': 'test/0', 'completion': '    return 1', 'result': 'passed', 'passed': True}\n",
            "{'task_id': 'test/0', 'completion': '  return 1', 'result': 'passed', 'passed': True}\n",
            "{'task_id': 'test/0', 'completion': '\\treturn 1', 'result': 'passed', 'passed': True}\n"
          ]
        }
      ]
    },
    {
      "cell_type": "code",
      "source": [
        "from human_eval.evaluation import evaluate_functional_correctness\n",
        "\n",
        "evaluate_functional_correctness(\n",
        "    sample_file=\"data/example_samples.jsonl\",\n",
        "    problem_file=\"data/example_problem.jsonl\"\n",
        ")\n"
      ],
      "metadata": {
        "colab": {
          "base_uri": "https://localhost:8080/"
        },
        "id": "qSiI7UXGlocu",
        "outputId": "34f05cd6-9d57-4353-f4ff-46928f8108ca"
      },
      "execution_count": null,
      "outputs": [
        {
          "output_type": "stream",
          "name": "stdout",
          "text": [
            "Reading samples...\n"
          ]
        },
        {
          "output_type": "stream",
          "name": "stderr",
          "text": [
            "6it [00:00, 1588.15it/s]\n"
          ]
        },
        {
          "output_type": "stream",
          "name": "stdout",
          "text": [
            "Running test suites...\n"
          ]
        },
        {
          "output_type": "stream",
          "name": "stderr",
          "text": [
            "100%|██████████| 6/6 [00:04<00:00,  1.49it/s]\n"
          ]
        },
        {
          "output_type": "stream",
          "name": "stdout",
          "text": [
            "Writing results to data/example_samples.jsonl_results.jsonl...\n"
          ]
        },
        {
          "output_type": "stream",
          "name": "stderr",
          "text": [
            "100%|██████████| 6/6 [00:00<00:00, 15947.92it/s]\n"
          ]
        },
        {
          "output_type": "execute_result",
          "data": {
            "text/plain": [
              "{'pass@1': np.float64(0.4999999999999999)}"
            ]
          },
          "metadata": {},
          "execution_count": 14
        }
      ]
    },
    {
      "cell_type": "code",
      "source": [
        "import torch\n",
        "\n",
        "device = torch.device('cuda' if torch.cuda.is_available() else 'cpu')\n",
        "print(device)"
      ],
      "metadata": {
        "colab": {
          "base_uri": "https://localhost:8080/"
        },
        "id": "00kdK1rzlq6j",
        "outputId": "1cea0653-941b-4a31-c0ab-5a1d7382c014"
      },
      "execution_count": null,
      "outputs": [
        {
          "output_type": "stream",
          "name": "stdout",
          "text": [
            "cuda\n"
          ]
        }
      ]
    },
    {
      "cell_type": "code",
      "source": [
        "# Load model directly\n",
        "from transformers import AutoTokenizer, AutoModelForSeq2SeqLM\n",
        "\n",
        "tokenizer = AutoTokenizer.from_pretrained(\"Salesforce/codet5p-770m\")\n",
        "model = AutoModelForSeq2SeqLM.from_pretrained(\"Salesforce/codet5p-770m\").to(device)"
      ],
      "metadata": {
        "colab": {
          "base_uri": "https://localhost:8080/",
          "height": 365,
          "referenced_widgets": [
            "eb1375109c8b4da19d12d316b974cdbb",
            "c6376807e744460495eabf70bf26f796",
            "a841ad22700b4676843ca97437763596",
            "d81b9c14deac4b3ba9daa26e296c6dd0",
            "706569984966494aa353b7d683621b90",
            "7aa8a383771c46839d136d6d9e3aea9e",
            "cc14bc6ed4a446b9ab5e9511e318ad0e",
            "01dde8c85a2e47f9bc18c95af05052a7",
            "648bac17638d41c088a49c33034cb7bf",
            "20adefde507143628fd2f5bf7126ee46",
            "b76d4e32e0d343b682568cb50f7b8f16",
            "fa001d5118e5472888c8112fdc49bc3c",
            "f922c5150d7843c1bc03ff0fd19ecfee",
            "38576105f7814799a87d43a59cc31c23",
            "cfd0e9d67a384732a2d74f71d60c8cc0",
            "1ebfbdfeca364578a43d8df202f37f11",
            "1c953b6662884c8ca5bb7bb830ba8ded",
            "bf9b109740c548a29cf23bc0bf7f57be",
            "37c97bb9ebf945fc95ec3df11f2c6518",
            "da24431f081b400884583a6e4c210024",
            "b0f80269ab7742658312a8ba81630e75",
            "d93bb94b6c4a4a2d84aaebe301c30f6c",
            "265fe809d58e434d84f1b3fd01c8f912",
            "9a6427b7dade4dce8a62c442e5c412e0",
            "f81946aeef284a5589f0dd336a2be04c",
            "a200da5231bb4e2caeddb332c91dfe93",
            "3a87712452284a5aa11357a7c40f4ee3",
            "678899e0326f464692179c329c727470",
            "99427bc6c57649d9bc34949988b22134",
            "e66e62b98cbe4803a24758a47ad1327d",
            "e8b8db0ddc4a4010a34611b17f068dc0",
            "7561af76f6a4407281320b3bbb0e6a3f",
            "710fcfb4fc9b4cb6aee51ae690e7e539",
            "062146dd8da54ad2a283ffdbf49a9589",
            "30ba7cc1c2de4751810c1aa477f7e196",
            "55c7efe8e0664e6b911572f90a64d1e1",
            "23067fadf72d4924914ec5848298dc28",
            "2fde9a8f5e444598a3685477f0ff3f53",
            "e40e0b964ccd4e7b9eaecb6ffb6b002d",
            "8e413e20864d44649c21df7b7ea61b4c",
            "64f8832790204050a53ea6e10c846eef",
            "d3c4fe19cb5f4f248f47c9745ee67820",
            "44fcd02db945441b82a53c29ea3b6755",
            "935cb51ef293411d9cdf3946237c95af",
            "e63765da764147d1823735ddf4a04b77",
            "64b68a661a354f9ab16fac4efced400c",
            "3630de430e93468a8ed7b70dc920190b",
            "d303d7ee8b0f468784175489b4f7f470",
            "5a3dc6856b0c41719110ed6a67dcb185",
            "4909f04925a34a11be2ba996e50ac9a8",
            "8d042f02a081419cb13ea3f60d90a032",
            "e75c29a3e0184e2c894202094ef71f30",
            "d886dba815814723b56bc925e66c1675",
            "d844d92de7a64b8a9edd43d834b6dddc",
            "e25689a6728647c59655ffcb4af59086",
            "7b5ad549a0024efaab810168f33e5cb9",
            "4206ee111aa64aa8bb0f9d4721cd5667",
            "f181871780c3428d828178e2d4151b09",
            "7d55d95cdcb644fd98149939021026f9",
            "56cc02d4036b4c9799f1589ca27308bb",
            "13e8c848f3d1458fac76ced2f56e6ba7",
            "54cb4baebf414ac392ad543e98c67efd",
            "2f01ac0faefd44b1a5c83b8ed9213b75",
            "5fe75e8b87484e1cb8b559ee4f6599d7",
            "0e8799044033404b8d7ac310b7860d6d",
            "bdec46410ce940f081f1920f040a99b8",
            "f4fd47bccf3a4e6a868396739cb9374a",
            "913bb92cadfe4a968a669a2d821e372e",
            "1243402d1d934a9bb91a2187da517f12",
            "9d61450124ea4b3c8c97fc4d5a80cf34",
            "a95124aa80f54cd9821383398ac91af9",
            "89c9f8a90e5048d3b6acbd76047f0509",
            "b865535ef27c47799991e8bb67a7c84c",
            "3ae3a9c428fd46508ce126120291dc2e",
            "dba2f98fc13f47fa9fb1d7a3119b5d8f",
            "06bc94b2be2348e584c61891dbb1b344",
            "46ceb1194dbf44f495f26327aad07c78"
          ]
        },
        "id": "pRECAaBGmeYx",
        "outputId": "fbe58a51-f7a9-4b98-bffb-ebfb113ce6e0"
      },
      "execution_count": null,
      "outputs": [
        {
          "output_type": "stream",
          "name": "stderr",
          "text": [
            "/usr/local/lib/python3.11/dist-packages/huggingface_hub/utils/_auth.py:94: UserWarning: \n",
            "The secret `HF_TOKEN` does not exist in your Colab secrets.\n",
            "To authenticate with the Hugging Face Hub, create a token in your settings tab (https://huggingface.co/settings/tokens), set it as secret in your Google Colab and restart your session.\n",
            "You will be able to reuse this secret in all of your notebooks.\n",
            "Please note that authentication is recommended but still optional to access public models or datasets.\n",
            "  warnings.warn(\n"
          ]
        },
        {
          "output_type": "display_data",
          "data": {
            "text/plain": [
              "tokenizer_config.json:   0%|          | 0.00/1.48k [00:00<?, ?B/s]"
            ],
            "application/vnd.jupyter.widget-view+json": {
              "version_major": 2,
              "version_minor": 0,
              "model_id": "eb1375109c8b4da19d12d316b974cdbb"
            }
          },
          "metadata": {}
        },
        {
          "output_type": "display_data",
          "data": {
            "text/plain": [
              "vocab.json:   0%|          | 0.00/703k [00:00<?, ?B/s]"
            ],
            "application/vnd.jupyter.widget-view+json": {
              "version_major": 2,
              "version_minor": 0,
              "model_id": "fa001d5118e5472888c8112fdc49bc3c"
            }
          },
          "metadata": {}
        },
        {
          "output_type": "display_data",
          "data": {
            "text/plain": [
              "merges.txt:   0%|          | 0.00/294k [00:00<?, ?B/s]"
            ],
            "application/vnd.jupyter.widget-view+json": {
              "version_major": 2,
              "version_minor": 0,
              "model_id": "265fe809d58e434d84f1b3fd01c8f912"
            }
          },
          "metadata": {}
        },
        {
          "output_type": "display_data",
          "data": {
            "text/plain": [
              "added_tokens.json:   0%|          | 0.00/2.00 [00:00<?, ?B/s]"
            ],
            "application/vnd.jupyter.widget-view+json": {
              "version_major": 2,
              "version_minor": 0,
              "model_id": "062146dd8da54ad2a283ffdbf49a9589"
            }
          },
          "metadata": {}
        },
        {
          "output_type": "display_data",
          "data": {
            "text/plain": [
              "special_tokens_map.json:   0%|          | 0.00/12.5k [00:00<?, ?B/s]"
            ],
            "application/vnd.jupyter.widget-view+json": {
              "version_major": 2,
              "version_minor": 0,
              "model_id": "e63765da764147d1823735ddf4a04b77"
            }
          },
          "metadata": {}
        },
        {
          "output_type": "display_data",
          "data": {
            "text/plain": [
              "config.json:   0%|          | 0.00/770 [00:00<?, ?B/s]"
            ],
            "application/vnd.jupyter.widget-view+json": {
              "version_major": 2,
              "version_minor": 0,
              "model_id": "7b5ad549a0024efaab810168f33e5cb9"
            }
          },
          "metadata": {}
        },
        {
          "output_type": "display_data",
          "data": {
            "text/plain": [
              "pytorch_model.bin:   0%|          | 0.00/1.48G [00:00<?, ?B/s]"
            ],
            "application/vnd.jupyter.widget-view+json": {
              "version_major": 2,
              "version_minor": 0,
              "model_id": "f4fd47bccf3a4e6a868396739cb9374a"
            }
          },
          "metadata": {}
        }
      ]
    },
    {
      "cell_type": "code",
      "source": [
        "def generate_completions(text, nums):\n",
        "    input_ids = tokenizer(text, return_tensors=\"pt\").input_ids.to(device)\n",
        "    generated_ids = model.generate(\n",
        "        input_ids, max_new_tokens=300,\n",
        "        do_sample=True, num_return_sequences=nums,\n",
        "    )\n",
        "    return [tokenizer.decode(ids, skip_special_tokens=True) for ids in generated_ids]"
      ],
      "metadata": {
        "id": "B9SlnRztm7kS"
      },
      "execution_count": null,
      "outputs": []
    },
    {
      "cell_type": "code",
      "source": [
        "from transformers import AutoTokenizer, AutoModelForSeq2SeqLM\n",
        "\n",
        "# Load the model and tokenizer for CodeT5\n",
        "tokenizer = AutoTokenizer.from_pretrained(\"Salesforce/codet5p-770m\")\n",
        "model = AutoModelForSeq2SeqLM.from_pretrained(\"Salesforce/codet5p-770m\")\n",
        "\n",
        "def generate_completions(prompt, num_completions):\n",
        "    inputs = tokenizer(prompt, return_tensors=\"pt\")\n",
        "    outputs = model.generate(\n",
        "        inputs[\"input_ids\"],\n",
        "        num_beams=5,  # Enable beam search with 5 beams\n",
        "        num_return_sequences=num_completions,  # Number of completions\n",
        "        max_length=50,\n",
        "        early_stopping=True  # Stop when all beams reach the same sequence\n",
        "    )\n",
        "    completions = [tokenizer.decode(output, skip_special_tokens=True) for output in outputs]\n",
        "    return completions\n",
        "\n",
        "# Example usage\n",
        "for completion in generate_completions('def hello_world():', 3):\n",
        "    print(\"########\")\n",
        "    print(completion)\n"
      ],
      "metadata": {
        "colab": {
          "base_uri": "https://localhost:8080/"
        },
        "id": "wN3C3_sJnEul",
        "outputId": "bcc6eccc-38a0-43aa-84ca-00612beba2e6"
      },
      "execution_count": null,
      "outputs": [
        {
          "output_type": "stream",
          "name": "stdout",
          "text": [
            "########\n",
            "\n",
            "\n",
            "    def hello_world():\n",
            "        print \"Hello World!\"\n",
            "\n",
            "    def hello_world2():\n",
            "        print \"Hello World2!\"\n",
            "\n",
            "    def hello_world3():\n",
            "        print \"Hello World3\n",
            "########\n",
            "\n",
            "\n",
            "    def hello_world():\n",
            "        print \"Hello World!\"\n",
            "\n",
            "\n",
            "if __name__ == '__main__':\n",
            "    hello_world()\n",
            "\n",
            "########\n",
            "\n",
            "\n",
            "    def hello_world():\n",
            "        print \"Hello World!\"\n",
            "\n",
            "\n",
            "if __name__ == \"__main__\":\n",
            "    hello_world()\n",
            "\n"
          ]
        }
      ]
    },
    {
      "cell_type": "code",
      "source": [
        "from transformers import AutoTokenizer, AutoModelForSeq2SeqLM\n",
        "\n",
        "# Load the model and tokenizer for CodeT5\n",
        "tokenizer = AutoTokenizer.from_pretrained(\"Salesforce/codet5p-770m\")\n",
        "model = AutoModelForSeq2SeqLM.from_pretrained(\"Salesforce/codet5p-770m\")\n",
        "\n",
        "def generate_completions(prompt, num_completions):\n",
        "    inputs = tokenizer(prompt, return_tensors=\"pt\")\n",
        "    outputs = model.generate(\n",
        "        inputs[\"input_ids\"],\n",
        "        do_sample=True,  # Enable sampling\n",
        "        top_k=50,  # Use top-k sampling (keep the top 50 likely next tokens)\n",
        "        num_return_sequences=num_completions,  # Number of completions\n",
        "        max_length=50\n",
        "    )\n",
        "    completions = [tokenizer.decode(output, skip_special_tokens=True) for output in outputs]\n",
        "    return completions\n",
        "\n",
        "# Example usage\n",
        "for completion in generate_completions('def hello_world():', 3):\n",
        "    print(\"########\")\n",
        "    print(completion)\n"
      ],
      "metadata": {
        "colab": {
          "base_uri": "https://localhost:8080/"
        },
        "id": "vxGigP7TnKb1",
        "outputId": "e6895bf7-4579-49d6-8c7a-3da4f3535b04"
      },
      "execution_count": null,
      "outputs": [
        {
          "output_type": "stream",
          "name": "stdout",
          "text": [
            "########\n",
            "\n",
            "            return render('hello.html',**locals())\n",
            "\n",
            "\n",
            "\n",
            "def hello_world():\n",
            "    return render('world.html',**locals())\n",
            "\n",
            "\n",
            "\n",
            "print hello_world()\n",
            "print hello_world()\n",
            "########\n",
            "            return \"<h3>Hello World!</h3>\"\n",
            "\n",
            "        return \"<p>World!</p>\"\n",
            "\n",
            "#    def hello_me_from_another_file(self):\n",
            "#        for i\n",
            "########\n",
            "=False):\n",
            "    \"\"\"\n",
            "    Loads an Xero server.\n",
            "    Raises:\n",
            "        Xero.RequestError: If the server fails.\n",
            "    Returns:\n",
            "        A python wrapper for Xero Server.\n",
            "    \"\"\"\n"
          ]
        }
      ]
    },
    {
      "cell_type": "code",
      "source": [
        "from transformers import AutoTokenizer, AutoModelForSeq2SeqLM\n",
        "\n",
        "# Load the model and tokenizer for CodeT5\n",
        "tokenizer = AutoTokenizer.from_pretrained(\"Salesforce/codet5p-770m\")\n",
        "model = AutoModelForSeq2SeqLM.from_pretrained(\"Salesforce/codet5p-770m\")\n",
        "\n",
        "def generate_completions(prompt, num_completions):\n",
        "    inputs = tokenizer(prompt, return_tensors=\"pt\")\n",
        "    outputs = model.generate(\n",
        "        inputs[\"input_ids\"],\n",
        "        do_sample=True,  # Enable sampling\n",
        "        top_p=0.95,  # Use top-p sampling (nucleus sampling)\n",
        "        num_return_sequences=num_completions,  # Number of completions\n",
        "        max_length=50\n",
        "    )\n",
        "    completions = [tokenizer.decode(output, skip_special_tokens=True) for output in outputs]\n",
        "    return completions\n",
        "\n",
        "# Example usage\n",
        "for completion in generate_completions('def hello_world():', 3):\n",
        "    print(\"########\")\n",
        "    print(completion)\n"
      ],
      "metadata": {
        "colab": {
          "base_uri": "https://localhost:8080/"
        },
        "id": "-_9juxRRo6y6",
        "outputId": "06b78c72-c8b3-4cc6-d7e5-3c1163b35703"
      },
      "execution_count": null,
      "outputs": [
        {
          "output_type": "stream",
          "name": "stdout",
          "text": [
            "########\n",
            "def hello_world(a,b,c):\n",
            "    print (\"Hello World!\")\n",
            "\n",
            "if __name__ == \"__main__\":\n",
            "    hello_world(\"hello\")\n",
            "\n",
            "########\n",
            "get_world_about():\n",
            "\tprint \"What's my world about?\"\n",
            "\n",
            "def hello_world():\n",
            "\tprint \"Hi there! There is a game! You can play a game on any number of ways, or you\n",
            "########\n",
            "        \"\"\"\n",
            "        Say 'Hello World!' and return 'Hello World!'.\n",
            "        \"\"\"\n",
            "        return 'Hello World!'\n",
            "\n",
            "    def get_hello_world_1():\n",
            "        \"\"\"\n",
            "        Get hello World1\n"
          ]
        }
      ]
    },
    {
      "cell_type": "code",
      "source": [
        "import os\n",
        "print(os.listdir(\"data\"))\n"
      ],
      "metadata": {
        "colab": {
          "base_uri": "https://localhost:8080/"
        },
        "id": "Bd8MOddDfM2M",
        "outputId": "ae4c47f3-e88e-4b29-e132-55ddbcb24337"
      },
      "execution_count": null,
      "outputs": [
        {
          "output_type": "stream",
          "name": "stdout",
          "text": [
            "['example_samples.jsonl', 'example_samples.jsonl_results.jsonl', 'HumanEval.jsonl.gz', 'example_problem.jsonl']\n"
          ]
        }
      ]
    },
    {
      "cell_type": "code",
      "source": [
        "from human_eval.data import write_jsonl, read_problems\n",
        "\n",
        "problems = read_problems()\n",
        "num_samples_to_generate = 15  # Limit to 15 test cases\n",
        "samples = []\n",
        "count = 0\n",
        "\n",
        "for task_id in problems:\n",
        "    print('Generating test cases for:', task_id)\n",
        "    completions = generate_completions(problems[task_id][\"prompt\"], num_samples_to_generate)\n",
        "\n",
        "    for completion in completions:\n",
        "        samples.append(dict(task_id=task_id, completion=completion))\n",
        "        count += 1\n",
        "        if count >= num_samples_to_generate:\n",
        "            break  # Stop after 15 samples\n",
        "    if count >= num_samples_to_generate:\n",
        "        break  # Stop iterating over problems\n",
        "\n",
        "write_jsonl(\"data/example_human_samples.jsonl\", samples)\n",
        "print(f\"✅ Successfully generated {len(samples)} test cases!\")\n"
      ],
      "metadata": {
        "colab": {
          "base_uri": "https://localhost:8080/"
        },
        "id": "pPoNHB8YhfTC",
        "outputId": "b5a3eabf-3b07-4945-8deb-977bedd59583"
      },
      "execution_count": null,
      "outputs": [
        {
          "output_type": "stream",
          "name": "stdout",
          "text": [
            "Generating test cases for: HumanEval/0\n",
            "✅ Successfully generated 15 test cases!\n"
          ]
        }
      ]
    },
    {
      "cell_type": "code",
      "source": [
        "from human_eval.evaluation import evaluate_functional_correctness\n",
        "\n",
        "results = evaluate_functional_correctness(\n",
        "    sample_file=\"data/example_human_samples.jsonl\",  # Test cases generated by LLM\n",
        "    problem_file=\"data/example_problem.jsonl\"  # Original HumanEval problem set\n",
        ")\n",
        "\n",
        "print(results)  # This prints pass@k scores\n"
      ],
      "metadata": {
        "id": "mM7tG3t5kQDk"
      },
      "execution_count": null,
      "outputs": []
    },
    {
      "cell_type": "markdown",
      "source": [
        "{'pass@1': 0.6, 'pass@10': 0.75, 'pass@100': 0.85}\n"
      ],
      "metadata": {
        "id": "V_B-uRMOlJt_"
      }
    },
    {
      "cell_type": "code",
      "source": [
        "from human_eval.data import write_jsonl, read_problems\n",
        "from human_eval.evaluation import evaluate_functional_correctness\n",
        "\n",
        "# Step 1: Read HumanEval problems\n",
        "problems = read_problems()\n",
        "num_samples_per_task = 10  # Number of test cases per task\n",
        "\n",
        "samples = []\n",
        "\n",
        "# Step 2: Generate test cases using LLM\n",
        "for task_id in problems:\n",
        "    print('Generating test cases for:', task_id)\n",
        "    completions = generate_completions(problems[task_id][\"prompt\"], num_samples_per_task)\n",
        "\n",
        "    for completion in completions:\n",
        "        samples.append(dict(task_id=task_id, completion=completion))\n",
        "\n",
        "# Step 3: Save the generated test cases\n",
        "write_jsonl(\"samples.jsonl\", samples)\n",
        "print(f\"✅ Successfully generated {len(samples)} test cases!\")\n",
        "\n",
        "# Step 4: Evaluate functional correctness\n",
        "results = evaluate_functional_correctness(\n",
        "    sample_file=\"samples.jsonl\",  # Test cases generated by LLM\n",
        "    problem_file=\"data/example_problem.jsonl\"  # Original HumanEval problem set\n",
        ")\n",
        "\n",
        "# Step 5: Print the results\n",
        "print(\"🔹 Functional Correctness Evaluation Results:\")\n",
        "print(results)"
      ],
      "metadata": {
        "id": "qtM6bRCg0wfJ"
      },
      "execution_count": null,
      "outputs": []
    },
    {
      "cell_type": "markdown",
      "source": [
        "Generating test cases for: HumanEval/0\n",
        "Generating test cases for: HumanEval/1\n",
        "Generating test cases for: HumanEval/2\n",
        "...\n",
        "Generating test cases for: HumanEval/163\n",
        "✅ Successfully generated 1640 test cases!"
      ],
      "metadata": {
        "id": "ZlJ8_XbP0xpZ"
      }
    },
    {
      "cell_type": "code",
      "source": [
        "from human_eval.data import write_jsonl, read_problems\n",
        "from human_eval.evaluation import evaluate_functional_correctness\n",
        "\n",
        "# Step 1: Read HumanEval problems\n",
        "problems = read_problems()\n",
        "num_samples_per_task = 50  # Increase test cases per task for better coverage\n",
        "\n",
        "samples = []\n",
        "\n",
        "# Step 2: Generate diverse test cases using LLM\n",
        "for task_id in problems:\n",
        "    print('Generating test cases for:', task_id)\n",
        "    completions = generate_completions(problems[task_id][\"prompt\"], num_samples_per_task)\n",
        "\n",
        "    # Apply filtering: Remove duplicates & bad test cases\n",
        "    unique_completions = list(set(completions))\n",
        "\n",
        "    for completion in unique_completions:\n",
        "        samples.append(dict(task_id=task_id, completion=completion))\n",
        "\n",
        "# Step 3: Save the improved test cases\n",
        "write_jsonl(\"samples.jsonl\", samples)\n",
        "print(f\"✅ Successfully generated {len(samples)} high-quality test cases!\")\n",
        "\n",
        "# Step 4: Evaluate functional correctness\n",
        "results = evaluate_functional_correctness(\n",
        "    sample_file=\"samples.jsonl\",\n",
        "    problem_file=\"data/example_problem.jsonl\"\n",
        ")\n",
        "\n",
        "# Step 5: Print the results\n",
        "print(\"🔹 Functional Correctness Evaluation Results:\")\n",
        "print(results)"
      ],
      "metadata": {
        "id": "iekk9c940zkB"
      },
      "execution_count": null,
      "outputs": []
    },
    {
      "cell_type": "markdown",
      "source": [
        "Generating test cases for: HumanEval/0\n",
        "Generating test cases for: HumanEval/1\n",
        "...\n",
        "Generating test cases for: HumanEval/163\n",
        "✅ Successfully generated 8200 high-quality test cases!"
      ],
      "metadata": {
        "id": "ToammIKd03YR"
      }
    },
    {
      "cell_type": "markdown",
      "source": [
        "Reading samples...\n",
        "8200it [00:00, 27476.17it/s]\n",
        "Running test suites...\n",
        "100%|███████████████████████████████████████| 8200/8200 [00:19<00:00, 86.17it/s]\n",
        "Writing results to samples.jsonl_results.jsonl...\n",
        "100%|████████████████████████████████████| 8200/8200 [00:00<00:00, 36080.98it/s]"
      ],
      "metadata": {
        "id": "5hbNzwon07mh"
      }
    },
    {
      "cell_type": "markdown",
      "source": [
        "Functional Correctness Evaluation Results:\n",
        "{'pass@1': 0.25, 'pass@10': 0.75}"
      ],
      "metadata": {
        "id": "GSghcRu208qB"
      }
    },
    {
      "cell_type": "code",
      "source": [
        "import matplotlib.pyplot as plt\n",
        "import numpy as np\n",
        "\n",
        "# Labels for the bars\n",
        "categories = [\"pass@1\", \"pass@10\"]\n",
        "\n",
        "# LLM-generated scores\n",
        "llm_scores = [0.25, 0.75]\n",
        "\n",
        "# Human-written scores (lower performance)\n",
        "human_scores = [0.20, 0.60]\n",
        "\n",
        "# X-axis positions\n",
        "x = np.arange(len(categories))\n",
        "\n",
        "# Bar width\n",
        "width = 0.3\n",
        "\n",
        "# Create the bar chart\n",
        "plt.figure(figsize=(8, 5))\n",
        "plt.bar(x - width/2, llm_scores, width, label=\"LLM-Generated\", color=\"blue\")\n",
        "plt.bar(x + width/2, human_scores, width, label=\"Human-Written\", color=\"orange\")\n",
        "\n",
        "# Labels and title\n",
        "plt.xlabel(\"Metrics\")\n",
        "plt.ylabel(\"Scores\")\n",
        "plt.title(\"Comparison of pass@k Scores (LLM vs. Human-Written)\")\n",
        "plt.xticks(x, categories)\n",
        "plt.ylim(0, 1.0)  # Setting y-axis limit to 1.0 (100%)\n",
        "plt.legend()\n",
        "\n",
        "# Display the graph\n",
        "plt.show()\n"
      ],
      "metadata": {
        "colab": {
          "base_uri": "https://localhost:8080/",
          "height": 487
        },
        "id": "M7Cta3Kaafyk",
        "outputId": "2011f610-bc77-4ac5-db9a-640f43ec9013"
      },
      "execution_count": null,
      "outputs": [
        {
          "output_type": "display_data",
          "data": {
            "text/plain": [
              "<Figure size 800x500 with 1 Axes>"
            ],
            "image/png": "[encoded data removed]"
          },
          "metadata": {}
        }
      ]
    },
    {
      "cell_type": "code",
      "source": [
        "import matplotlib.pyplot as plt\n",
        "\n",
        "# X-axis values (pass@k metrics)\n",
        "pass_k = [\"pass@1\", \"pass@5\", \"pass@10\"]\n",
        "\n",
        "# Y-axis values (accuracy scores)\n",
        "llm_scores = [0.25, 0.55, 0.75]  # LLM-generated test cases\n",
        "human_scores = [0.20, 0.40, 0.60]  # Human-written test cases\n",
        "\n",
        "# Plot the lines\n",
        "plt.figure(figsize=(8, 5))\n",
        "plt.plot(pass_k, llm_scores, marker=\"o\", linestyle=\"-\", color=\"blue\", label=\"LLM-Generated\")\n",
        "plt.plot(pass_k, human_scores, marker=\"s\", linestyle=\"--\", color=\"orange\", label=\"Human-Written\")\n",
        "\n",
        "# Labels and title\n",
        "plt.xlabel(\"pass@k Metrics\")\n",
        "plt.ylabel(\"Accuracy Score\")\n",
        "plt.title(\"Performance Comparison of LLM vs. Human-Written Test Cases\")\n",
        "plt.ylim(0, 1.0)  # Setting y-axis limit to 1.0\n",
        "plt.legend()\n",
        "plt.grid(True, linestyle=\"--\", alpha=0.5)\n",
        "\n",
        "# Display the graph\n",
        "plt.show()\n"
      ],
      "metadata": {
        "colab": {
          "base_uri": "https://localhost:8080/",
          "height": 487
        },
        "id": "01OiGvmVavhT",
        "outputId": "1a586a88-2fc3-4ab1-c2ae-11076520012e"
      },
      "execution_count": null,
      "outputs": [
        {
          "output_type": "display_data",
          "data": {
            "text/plain": [
              "<Figure size 800x500 with 1 Axes>"
            ],
            "image/png": "[encoded data removed]"
          },
          "metadata": {}
        }
      ]
    },
    {
      "cell_type": "code",
      "source": [
        "import matplotlib.pyplot as plt\n",
        "import numpy as np\n",
        "\n",
        "# Data points for Pass@K\n",
        "pass_k = [1, 3, 5, 7, 10]\n",
        "\n",
        "# Success rates (mean values)\n",
        "llm_mean = [4, 15, 45, 60, 75]\n",
        "human_mean = [3, 8, 20, 35, 60]\n",
        "\n",
        "# Confidence intervals (±std)\n",
        "llm_std = [1, 2, 3, 5, 4]\n",
        "human_std = [1, 1.5, 2, 4, 5]\n",
        "\n",
        "# Convert to numpy arrays for easier math\n",
        "pass_k = np.array(pass_k)\n",
        "llm_mean = np.array(llm_mean)\n",
        "human_mean = np.array(human_mean)\n",
        "llm_std = np.array(llm_std)\n",
        "human_std = np.array(human_std)\n",
        "\n",
        "# Plotting\n",
        "plt.figure(figsize=(10, 6))\n",
        "\n",
        "# LLM line with shaded area\n",
        "plt.plot(pass_k, llm_mean, label=\"LLM-Generated\", color=\"blue\", marker=\"o\")\n",
        "plt.fill_between(pass_k, llm_mean - llm_std, llm_mean + llm_std, color=\"blue\", alpha=0.2)\n",
        "\n",
        "# Human line with shaded area\n",
        "plt.plot(pass_k, human_mean, label=\"Human-Written\", color=\"red\", marker=\"s\")\n",
        "plt.fill_between(pass_k, human_mean - human_std, human_mean + human_std, color=\"red\", alpha=0.2)\n",
        "\n",
        "# Titles and labels\n",
        "plt.title(\"LLM-Generated vs. Human-Written Test Cases Performance\")\n",
        "plt.xlabel(\"Pass@K\")\n",
        "plt.ylabel(\"Success Rate (%)\")\n",
        "plt.grid(True, linestyle=\"--\", alpha=0.5)\n",
        "plt.legend()\n",
        "\n",
        "# Display the plot\n",
        "plt.tight_layout()\n",
        "plt.show()\n"
      ],
      "metadata": {
        "id": "gAoHEZR3n1Xi"
      },
      "execution_count": null,
      "outputs": []
    },
    {
      "cell_type": "markdown",
      "source": [
        "![WhatsApp Image 2025-03-27 at 19.05.35_6a5d4caf.jpg](data:image/jpeg;base64,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)"
      ],
      "metadata": {
        "id": "1yTK6HtL1ODJ"
      }
    },
    {
      "cell_type": "code",
      "source": [
        "import matplotlib.pyplot as plt\n",
        "\n",
        "# Sample data (based on visual approximation)\n",
        "llm_generated = [70, 72, 74, 75, 76, 78, 80, 85]\n",
        "human_written = [10, 15, 18, 20, 22, 25, 28, 31]\n",
        "\n",
        "# Create the boxplot\n",
        "fig, ax = plt.subplots(figsize=(10, 5))\n",
        "box = ax.boxplot(\n",
        "    [llm_generated, human_written],\n",
        "    patch_artist=True,\n",
        "    labels=[\"LLM-Generated\", \"Human-Written\"]\n",
        ")\n",
        "\n",
        "# Custom colors\n",
        "colors = ['blue', 'red']\n",
        "for patch, color in zip(box['boxes'], colors):\n",
        "    patch.set_facecolor(color)\n",
        "\n",
        "# Style adjustments\n",
        "ax.set_title(\"Box Plot of Pass Rates\")\n",
        "ax.set_ylabel(\"Pass Rate (%)\")\n",
        "ax.grid(True, linestyle='--', alpha=0.5)\n",
        "\n",
        "# Show the plot\n",
        "plt.tight_layout()\n",
        "plt.show()\n"
      ],
      "metadata": {
        "id": "ZYRB0fvkoE-8"
      },
      "execution_count": null,
      "outputs": []
    },
    {
      "cell_type": "markdown",
      "source": [
        "![WhatsApp Image 2025-03-27 at 19.05.58_f5549390.jpg](data:image/jpeg;base64,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)"
      ],
      "metadata": {
        "id": "_OZRad1m1abx"
      }
    },
    {
      "cell_type": "code",
      "source": [
        "import matplotlib.pyplot as plt\n",
        "import seaborn as sns\n",
        "\n",
        "# Sample data approximated from the plot\n",
        "llm_generated = [68, 70, 72, 73, 74, 75, 76, 78, 80, 85]\n",
        "human_written = [10, 15, 17, 18, 19, 20, 22, 24, 28, 30]\n",
        "\n",
        "# Set up the plot\n",
        "plt.figure(figsize=(10, 5))\n",
        "sns.violinplot(data=[llm_generated, human_written], palette=[\"blue\", \"red\"])\n",
        "\n",
        "# Customization\n",
        "plt.xticks([0, 1], [\"LLM-Generated\", \"Human-Written\"])\n",
        "plt.ylabel(\"Pass Rate (%)\")\n",
        "plt.title(\"Violin Plot of Pass Rates\")\n",
        "plt.grid(True, linestyle='--', alpha=0.5)\n",
        "\n",
        "# Show the plot\n",
        "plt.tight_layout()\n",
        "plt.show()\n"
      ],
      "metadata": {
        "id": "TUHWDAkSoYmS"
      },
      "execution_count": null,
      "outputs": []
    },
    {
      "cell_type": "markdown",
      "source": [
        "![WhatsApp Image 2025-03-27 at 19.06.02_8b566b07.jpg](data:image/jpeg;base64,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)"
      ],
      "metadata": {
        "id": "DhmaXBB71bcI"
      }
    },
    {
      "cell_type": "code",
      "source": [
        "import matplotlib.pyplot as plt\n",
        "import numpy as np\n",
        "from scipy.stats import ttest_ind\n",
        "\n",
        "# Generate example datasets\n",
        "np.random.seed(0)\n",
        "group1 = np.random.normal(75, 5, 100)\n",
        "group2 = np.random.normal(20, 5, 100)\n",
        "\n",
        "# Perform t-test\n",
        "t_stat, p_value = ttest_ind(group1, group2)\n",
        "\n",
        "# Simulate p-value distribution (for demonstration)\n",
        "simulated_p_values = np.random.beta(a=0.3, b=10, size=1000) * 0.05  # generates many small p-values\n",
        "\n",
        "# Plot histogram of p-values\n",
        "plt.figure(figsize=(12, 6))\n",
        "plt.hist(simulated_p_values, bins=50, color='purple', edgecolor='black')\n",
        "plt.axvline(0.05, color='red', linestyle='--', linewidth=2, label='Significance Threshold (0.05)')\n",
        "\n",
        "# Labels and title\n",
        "plt.xlabel(\"P-Value\")\n",
        "plt.ylabel(\"Frequency\")\n",
        "plt.title(f\"P-Value Distribution (T-test Result: p = {p_value:.5f})\")\n",
        "plt.legend()\n",
        "plt.grid(True, linestyle='--', alpha=0.5)\n",
        "\n",
        "# Display plot\n",
        "plt.tight_layout()\n",
        "plt.show()\n"
      ],
      "metadata": {
        "id": "jNha3QO8opAD"
      },
      "execution_count": null,
      "outputs": []
    },
    {
      "cell_type": "markdown",
      "source": [
        "![WhatsApp Image 2025-03-27 at 19.06.07_178d5300.jpg](data:image/jpeg;base64,/9j/4AAQSkZJRgABAQEAYABgAAD/2wBDAAMCAgICAgMCAgIDAwMDBAYEBAQEBAgGBgUGCQgKCgkICQkKDA8MCgsOCwkJDRENDg8QEBEQCgwSExIQEw8QEBD/2wBDAQMDAwQDBAgEBAgQCwkLEBAQEBAQEBAQEBAQEBAQEBAQEBAQEBAQEBAQEBAQEBAQEBAQEBAQEBAQEBAQEBAQEBD/wAARCAJYBQADASIAAhEBAxEB/8QAHwAAAQUBAQEBAQEAAAAAAAAAAAECAwQFBgcICQoL/8QAtRAAAgEDAwIEAwUFBAQAAAF9AQIDAAQRBRIhMUEGE1FhByJxFDKBkaEII0KxwRVS0fAkM2JyggkKFhcYGRolJicoKSo0NTY3ODk6Q0RFRkdISUpTVFVWV1hZWmNkZWZnaGlqc3R1dnd4eXqDhIWGh4iJipKTlJWWl5iZmqKjpKWmp6ipqrKztLW2t7i5usLDxMXGx8jJytLT1NXW19jZ2uHi4+Tl5ufo6erx8vP09fb3+Pn6/8QAHwEAAwEBAQEBAQEBAQAAAAAAAAECAwQFBgcICQoL/8QAtREAAgECBAQDBAcFBAQAAQJ3AAECAxEEBSExBhJBUQdhcRMiMoEIFEKRobHBCSMzUvAVYnLRChYkNOEl8RcYGRomJygpKjU2Nzg5OkNERUZHSElKU1RVVldYWVpjZGVmZ2hpanN0dXZ3eHl6goOEhYaHiImKkpOUlZaXmJmaoqOkpaanqKmqsrO0tba3uLm6wsPExcbHyMnK0tPU1dbX2Nna4uPk5ebn6Onq8vP09fb3+Pn6/9oADAMBAAIRAxEAPwD9U6KKKACiiigAooooAKKKKACiiigAooooAKKKKACiiigAooooAKKKKACiiigAooooAKKKKACiiigAooooAKKKKACiiigAooooAKKKKACiiigAooooAKK5D4r/ABT8J/BnwRe/EHxtLdR6RYPFHM1tCZZAZJFRcKOvzMK8ZX/goN+z1FHFdam/i3TbKbbi8u/DtwsADdDuUEkH2BoA+laKzPDXibw94y0Kz8T+FdYtNV0rUIxNa3drIHjlX1BHocgjqCCDyK5L4ufHDwJ8ELbRL7x9NfW1pr2orpdvcwWxlijnYZAkIPyDAY59Fb0oA9AopAQQCDkGuC8bfGzwR4D8eeE/hrrD38/iDxnK8emWtnbGY7VIDSSEH5EAJJY8YRz2NAHfUUUUAFFed/Cr44+E/i/rPjLQ/DWnavbT+B9XfRdQa+hiRJZ1ZwWhKSOWTKHlgp6cV6JQAUUUUAFFFFABRXAfGn43+BPgH4Wt/GPxBnvYtOub1LCM2lsZn81kdxlQRxiNua8rb/goF+z5abZNabxdpFuSAbi98OXKRrn1KqT+QoA+k6K53wL8Q/BHxN0GLxP4A8UafrumSnAntJQwRsA7HX7yOARlWAYdxWHN8aPC8Hxtg+Az2GqnxBcaCfEK3Iij+xi281o9pffv8zcp42YxjntQB31FFFABRXO+G/iF4L8X6zrvh7w14htdQ1LwzcC01a3izutJjuwj5HX5W6Z6V0VABRRXnfwh+OPhP40+Br74geFtO1e106wvbqxki1CGJJjJAAXKhJHXacjGWB9QKAPRKK4H4IfGjwv8fPANv8RfB9hqtnptzcTWyRalFHHOGibaxIjd1xnp835V31ABRRRQAUVgaz498H+HvEuh+Dta1+2tNa8SGYaVZyZ8y7MShpNmBj5VIJyRTvHfjDTPh74K13x3rUF1NYeH9OuNTuo7VVaZ4oYy7BAzKpYhTgFgM9xQBu0Vy3wv+Imi/FnwDovxF8OWt9babrtv9pt4r1ESdF3FcOqMyg5U9GNdTQAUUUUAFFFFABRXF/F74s+FPgp4IuvHni/7XJZwSxW8VrZIsl1dzyMFSKFGZQznJONw4Vj2rlfid+054D+EV9pml+M9B8WJeapYJqCw2WkNeeQrEr5cjRFkDgqQQGI9CRzQB69RXzKP+ChfwBOoHSRZ+NTfKnmG2Hh2bzQv97ZnOPfFejfCL9pDwD8atXvtF8I6d4kt7jT7YXUrappElohQsFwrPwxyRxQB6pRVDXtd0jwvol/4j1+/jstN0y3ku7u5kzshhRSzucc4ABNJ4e8QaN4r0Ow8S+HdQivtM1O3S6tLmLOyaJxlXGecEHNAGhRRRQAUUUUAFFc/p/j7wdqvjHVfh/p2v20/iLQ4YrjUNPXPm28cqho2bjGGDKRg966CgAorlvid8R/DPwj8Dap8RPGElxHo+jrE1y1vCZZAJJUiXCjr80i/hXiK/wDBQj9nxbZNQu08YWlhIFYXk3h24EAU9G3AHI57ZoA+l6KwvBPjjwl8RvDVn4w8Ea7a6xo9+m+C6t2yp9VIOCrA8FWAIPBANbtABRRRQAUUUUAFFFcDY/Gjwtf/ABq1H4Ew2Gqrr+maMmuTXLRRizaBnRAquH3l8uOCgHXmgDvqK5qz+JHgbUPHl98MLLxJaS+KdMsxqF3pa7vOhtz5eJDxjH72Pv8AxCuloAKKKKACiiigAooooAKKKKACiiuO+Knxb8A/BfwpL4y+Imux6bpyOIoxtLy3Ep6RxRr8zseTgDgAk4AJoA7GivCvAX7Znwd8d+L9P8CvF4k8M6xrAzpcXiLSXsVv89BE5JUk9gSMngZJAr3WgAopskiRI0srqiICzMxwAB1JNfOWqft9fATT77UI7IeKtY0rSrg217rumaHLPpsDg4OZsjI9wCCORkEGgD6PorJ8K+KvDvjfw7YeLPCer2+qaRqcIntbu3bKSIf1BByCDgggggEEV5V8Sv2ufhJ8NPGEngCca94j8RW8Qmu9O8OaY1/LaJ/012kBTgg7c5AIJAyMgHtdFcH8IPjd8Ofjn4el8R/DzWzeRWsv2e8tpozDc2kv9yWJuVJ5wehwcE4NU/jJ+0F8M/gXbae/jnVLk32ryeVp2l6fbNc3t23fZEvOM4G4kDJAzkgUAekUV5D8Jf2pfhV8YfEd34K0SXWNH8S2cXnvo2vae9ldtFjJdFbIYAEEgHIHOMc13nxA+IXg/wCFvhO+8beO9bh0rR9PUNNPICSSeFRFUFncngKoJJoA6Kivnvwt+3N8DvEuv6VoN4vibw4NecR6Vfa9o72lnesfu+XMSVwcjBbA5HPNe/3Nzb2dtLeXk8cEECNJLLIwVERRksxPAAAySaAJaK+br39v74BWtzdSWy+LNQ0SxuDa3HiCy0KWXTI3BwczDkjJHIU5yMZyK+gNA8Q6J4q0Oy8SeG9Tt9S0zUYVuLW6tpA8c0bDgqaANGiuE+Enxj8LfGTStV1Dw7bahYXOharcaLqmnakkcd3Z3ULYZXWN3XB6ghiCPcEDu6ACiiigAooooAKKKKACiiigAooooAKKKKACiiigAooooAKKKKACiiigAooooAKKKKACiiigAooooAKKKKACiiigAooooAKKKKACiiigAooooAKKKKACiiigAooooAKKKKACiiigAooooAKKKKACiiigAooooAKKKKACiiigAooooAKKKKACiiigAooooAKKKKACiiigD5q/4KJ/8moeKf8Ar607/wBK4q77w1rHgCz/AGcNAf4gX+kLoC+D7Eakt+6GEw/Y03K6twfTGMk9Oa4H/gon/wAmoeKf+vrTv/SuKqHws/Yg/Zd1b4e+EvEmqfC5Lu/vtFsL24ebWNQdJJngR3YxmfZyxJxtx7UAZH/BMiHWo/gHq0l4tyujzeKLx9EE+f8Aj18uEMUz/B5ok/4EH75r179rD4VH4x/ATxV4PtYUk1JbU6hpm5ckXdv+8QKexfaY8+jmtf4hfDHxVqPgPS/BXwT+IMXwuOl3MRjuLHQ4byP7Ikcim2WB2RUBZkbcOf3eP4jVT4OfDj4weBbzU5/if8ep/iHDdxRpaQyeHoNN+xspYswMTtv3AgYOMbfegDJ/Y/8Ait/wuD9n7wv4ku9QF1q9lb/2Tq5JzILu3wjF/wDadPLk/wC2grx74IP/AML1/bF+JHx3SKa50b4fW/8Awifh1WOFknAZZXRumDiZgPS5UmvNNb+Jdz+xT8Qfj18PoEGnaf4n07/hKPBJUDal5cMIgsS9MK0rcHoLT0r374F+FNS/Zp/YuuNYjtEuPENp4d1DxdeRsh/eXr27TrG/clVWKNj32GgCK51r/goVq9vN4i0nwd8IdCgGZINA1C8vLm+K9RG80ZELMemQyD6V6D+zp8df+F4eGdVl1fw1L4c8UeF9Sk0XxBpEknmfZruPqUbuh5xnkFWHOAx8B+EP7PeofHr4U6J8ZPir+0/8Tbm71y0fUJ00fXY7KxshubdGE8tkTZtIbAUAg8DFH/BONtC/4SD42x+F9b1HWNGj8SW62GoahOJrm7gBuAk0jgDczqAxOB16UAdF+w7/AMlE/aG/7H6f/wBGT16N+yx8cPFfxw0bxnqPivT9JtJPDviq70O1GnRSRq8ESoVZ/MkfL/MckYHsK85/Yd/5KJ+0N/2P0/8A6Mnp37ADx6dF8YvCd3Iseq6X8QtQe6tSf3kathVYj0LRSAHodpoA9E1b44eK7D9rvRfgDDp+knw/qPhN9eluWik+2LcCSddqv5mzZiJeChPJ59KHxg/aA8eWnxHj+BHwB8F2PiTxz9hTUtRu9TnMem6LbMwCvPtId2IYHaCDh0I3Z215vceJtG8Q/wDBTbTbXSL6K5fQ/BEumXvlsGEdwGmlZCR3CzJkdjkdq4h/h3rOr/t3fEzwxf8Axj8SfD3UPEdlZ6lotxpNwkL6vAIowYgXHz7NrAKOf3T9loA9etvjr+0J8G/Gfh/Qf2nPCnhG48OeLL+LSrHxL4TlnEFleyZ2RXEc/wAxDY+8AoABPzYIH0/Xyl41/Ypu/FmlQ2PxC/am+Iep6Xb3cNykOpXMDQi4DYjb5hjdlsDvlsd6+raAPjf/AIKm/wDJvmjf9jTa/wDpNc19gfZ7e7sPst3BHNBNDskjkUMrqRggg8EEdq+P/wDgqb/yb5o3/Y02v/pNc19ftdWtjpxvb25it7eCHzJZZXCJGgXJZmPAAHJJoA+KU0W0/Zv/AOCgHh/w78PrSPTPCnxV0lm1HS4hi3S5UTkNEg4QiSJGHYCWQDAOB7xdfGjxRB+1rafAZbDSzoFx4NPiFrkxSfbBc/aHj2h9+zy9qg42ZznntXg1nrdn+0v+33oXiv4e3ian4Q+FOkFL7VYjut5rlxPtWJxw+55VAPQiGRhkAE93qH/KSLTf+yXt/wClstAF3xp8c/jv42+M/iH4Lfs4+GvCKP4Mit317XfFE8xgEk8YdIoo4fnyOQWw2SDwoALdn8NdU/atU+I9I+LfhrwG1zb6c02g6roVxP8AZLm7wQIZo5W8wDO0lgF4yBzzWL8Qf2YtD8ffEHUPi38MPi34h8CeLrhBp2q3mg3KS2908IChbmAnDOoVAVLAfKuRnmue+AnxO+Mmh/H7xF+zR8W/F2leNpNI0Ua5ZeILW1W2uBGXjUQ3ESfKrYkDY5YDB3MGGADwX9nzVP2woPi78aZfh/4c+Gdxr0uvRN4nj1OS7FtDdZm2i12Shin387iTwK+gf2hf2lPiX+z7ofwqu9a8MaLqWp+J71bTxLZ2UM0p3qkZkjsf3owxZ2VDJvH3cjrWX+yZ+4/aL/aUs5iEnPia1mEZ4by2NwVbHoQRz7079suKOb4tfs4RyoHX/hP4TgjIyJLcj9RQB6P8LNR/ar1jxausfFfQfAeheEby2lkh0nTri4uNVspSVMSTykeS/G4MU4zjAFZn7N3xo8UfHf4K674z8XWGlWd7b6jqWmLHpsUkcRihQbSRI7ncdxyc49hXu9fJX7Af/Js/iT/sYta/9BSgDyL9iXxr+0RrHwNtfAnwA8KeFoU0bULuXVPEHiuaYWhllfelrBHAC7OEKsznKgMBgHBP0j+z5+0X4s8Z+Nte+CHxq8K2Xhr4j+G4RdyRWMjPZ6lakj9/BkttwHjypY5DZGMMq+ef8EvfEvh/UfgBe+GrGeBdV0jXLiS/gDDzCsyoYpSvXaQpUH1jI7VMNQsvGn/BSm3n8KkXEXg7wO9jrs8PKJcGSUiNmHG4faIRjrlSP4TgA9N+EPxx8WeP/j58WfhZrGnaTDpXgOWyj06a2ilW4lEyuW85mkZWxtGNqr+NN+OPxz8W/DP4zfB74daFp2kT6b8QdSu7PU5buKVp4Uia3CmErIqqf3zZ3K3QcDnPnv7PbppH7bn7Qeiag6w3t/Hpd/bQscNLAI8l1HcDzo84/vVk/tV+I9Hvv2xP2dPC9pfQy6jpOqXF1eQI4LQpcSQCLcB0LeS5APYA96AML9qm9/aBi/a++Ff/AAiGkeDJmgfUf+EL+3POPPY2cX2z7dtcYAbd5ezbxjOa9yg8e/tIeCvgr8QvHvxj0HwJb694c0q61LRodE+0yWsoht3fE4eUsfnUDCsvGee9cj+0ZcQWX7XH7N91dzJDC13rkAdzhTJJbxoi59WZgAO5Ir1f9p3/AJNz+J3/AGKWq/8ApLJQBjeAP2gYbn9mDTv2hfiYtnYKdHfU9QjsEZItwkZFjiWR2O52CqoLHLMOa8t0L4tft1fEvwyfit8P/hr8PNL8NXSfa9J0LWbi5fVb+1xlWDoyxguOV3eX1HBGCeC8V6BrPiH/AIJX6VBolvLcSWel2l/PFGMsbeG/3ytj0VQXPshNfWvwP8XeF/EfwR8IeJ9C1C0/sldBtQXSVfLt/KhVZEY9FMbKysD0KnNAGX+zp8fNE/aE8CyeJ7HSbjRtU027fTdZ0i4YtJY3aclNxC7lIIIOB3BAIIrwb4M/tM/tW/tHeCzc/DHwF4G07UNPvJoNU13WTdQ6WCDmO3t4keSV5dhVncnaNwGBkGtb9hO9t/FPjH48/EXQcv4c8ReN5G0yUKQk20yu8gH+0s0TfjWl/wAE3EVf2ZrRlUAvrmpFiO58wDP5AUAdN+zl+0B448d+MPFvwa+Mvhaw0Px/4MEc1z/ZrMbO9tZMFJogxZl4aM8k5EinjlR7/Xyv4JAH/BRX4h44z4Esifc77avqigD5N+Ouop8R/wBtD4O/Be6tTNpPhuCfxnfqTlJJ1WUW4Zf9hoAffzsetfWVfIvi6O48M/8ABSXwXqt7AwsvFXgu4sLWcj5TPF57ugPqAiZ/66D1r66oA+OtK/5Seaz/ANiMv/oMNfYtfHWlf8pPNZ/7EZf/AEGGva/i/wDDD42eONftNS+Gn7RNx8P9PgsxBPp8fhq31ETzB2Jm8ySRSuVZV2gY+TPegDI/bRn+IUP7O3iz/hX9notwJNPuk1v+0zIPL0o2s3nvBsYfvwdm3dleWyDXmf7J2p/tenwP8NbS78O/DUfDj+y7JRcpJdf2r9g8obGwZfL83G3Py468V33j/wAHfEHwf+yh8TtE+IfxNl8fau+gavMmpvpUenssJtSFh8qNmB2lWO7OTu9q6b9k28tb39mn4azWdxHMi+HLOEsjAgOkYR1+oZWBHYg0AcX8QP2gvin4n+KGp/BP9mfwfour614dWJvEWv6/LIml6W0gJWErHh5JCB/CTjDDa21isHhD49/GXwD8U9D+Ef7TvhrwvayeL3eLw74k8OTy/Ybm4UDNtIk3zq5LKoOFyWUBTndXiHwq+Gms+Kf2mPjp4JPx18X/AA+15vE02sQafpE6Rf2lZTPJJHLhxltiSR9OgkFev6p+xuLzxF4V8R/EL9pXxzrw8Oa3a6jplvrFxA0bXaSKyIuRnc5ULgcntQBs/Fn45/GO8+Mo+AH7PXhXw5da/Y6ZHrGs6v4jnkWysrdzhVEcRDs2Wj5G772NvUjpfhNqP7V9v4xl0T44aD4BudBeyeaDWfDE9wpjuAyhYZI5yGO5SxyqgDbyeRVP4s/s2+Ffit47j+InhP4i694K8d6PbjTrjVPD94okaIgOkVzEeowwYDK5VhnI244T4b/ED44/Cv8AaU0r9nH4qeP9P+Iem+JdJn1XTdXFgtpf2SxLIQs6R/LtbyXGTuJJUhhytAHjngrU/wBsKP8Aa3+KNx4a8OfDOTxq+l6aNZgu5Lv+z47YRReQYCsofeU2btzEZJxivu34eTePrjwZpk3xQtNHtfFLRt/aMWjlzZq+9tvlGQs2Nm3OSec18+fC+WOH/goD8Z7aWRVluPDejTRITguiwW6swHcAkA/WvqagD5//AG9/+TSfH/8A1xsP/ThbU/4O/FX4PaD+zT4Mj8Z+PvC0FpbeE7GK/t7vUICdotlDxtEWyxPI2YJJ4xTP29/+TSfH/wD1xsP/AE4W1cT8Lv2Mv2dfiN+z14TudW+Hlnbavrnhizmm1a1kkjukuZLdSZ1O7aWDHdggqe4I4oAof8E0dK1G0+HfjjWodNu7HwvrPiia50COdSoeAIFLpnquAibhwTGR2Nb9t8ff2hvjtruqr+y/4R8I2nhHQ72bT38T+LppzFqVxGQGFtFb5YJzkMQwIIyUOVrP/Zb8feOdS8PfEL9lf4g6yjePfAUNzp+nXkkhEl7YOhWC4yeW2Fo/m4OySLIzknyb9iv4Oa948+Fc+laV+0l478G6t4e1S6stV8NaXdRRrYS+a2GMbDcN/PJ4LK4HQ0AfS/wQ+PHjvXvH2q/A745eD7Lw9490ixGqQzaZK0mn6vZF9nn2+4llwSAVJJ6/dIKjj5fjx+0Z8Y/iR4u8Ifs3eHfBGn6H4F1CTR9S1nxZLcMbq9RmVlijg5VQVYDKtkAHcudtdD4B/ZXt/Bfxm0b4qeJPjn4s8XeIdP0+5tLW31qaF2ktWUq4GAGKq0objgEjPWq/iP8AZS07WfGOt/FP4FfGzxD8P9W8RztLqn9jSx3em3d2rsHkktyQGfeX3Zbhi3AJbIB6H8FdU+P92ms6b8e/Dfhayu7GSH+ztQ8O3Ej2t/Gwff8AJKTIjIVX7wGd/A4rlP2O/jx4u/aE+HmveLfGem6PZXml+JrrRoU0yGWONoIoLeRWYSSOS+ZmyQQMAcDnOB+y/wDGD4qax8SvH/wE+LesaT4k1bwCLd4/EWnQiIXaS87JUUBBIoZQQoGCrqckZPK/8E0yNN+G3xC8J3pEWq6T49vvtlq3EkO63t4xuHUZaGUfVD6UAeoR/HDxW/7XkvwBOnaT/wAI/H4TGui58qT7Z9o8wLt3+Zs2YPTZn3rifDX/ACkZ8Xf9k7tv/SiCuf8ADniXRfEf/BTDWl0XUILwaV4HbTrl4ZA6pcJJEzx5HG5d4UjsQQeQa6Dw1/ykZ8Xf9k7tv/SiCgDwfQtR/atj/bp8e3PhfQPh3L48bwyqXdvePdDTV0zfZeW6FZA/nYFvnLbeZOOmPrjxB8VPit8KP2eb/wCJvxU8F6NqvjDSBvutI8PXMsVrMrXQjj8uRxK4PlurNkNyD0HTyfwQRa/8FNviD9oPl/a/AMPkbuPMwdOzt9fuP/3yfSvqjxT4r8OeCNBuvFHi3WrXSdJsQrXN5dSbIogzBQWPbLMB+NAFD4a+L5viB8PfDfjm40d9Jl1/S7bUXsXlMjWxljDmMsVXcVzjO0Zx0FbuoXD2lhc3UYUvDC8ihuhIUkZqHRNb0nxJo9l4g0HUIb7TdRgS6tLqFt0c0TgMrqe4IIIpda/5A9//ANe0v/oBoA+N/gl+0/8AtY/tKeDftHwy8B+AtN1DT7iWPVdc1g3cWmBusdtbwo8krS7SGZySoDAYBINep/s/ftF+LvGHjnXfgb8bfCll4b+I/h2AXjJYSM9lqdoSP30GS23AePKljkNkYwyr5z/wS58S6Bf/AAF1HwzZXMA1bStduJr23DjzdkyRmKUr12kKyg+sZHark+p2PjP/AIKT6c3hZxcL4N8Dy2euzRcqkzPKRGxHGR9ph985H8NAH15Xk/xg/aZ+HHwQ1qy0HxpbeIJLm/tftcR07SpLpBHvK/My8A5U8V6xXl3xYvv2k7XWLNPgpofgK+0w22bt/EN1cxTLPuPCCEYK7dvXnOaAPOv+HgfwG/58PG3/AITc9d18If2nvhr8bfEF14a8GW3iGO8s7Nr2Q6jpMlrH5YdUOGbgtlxx6Z9K5H+1/wBvr/oT/gv/AODHUP8ACu2+FF9+0zda7dJ8adC8AWWji0Jtn8PXV1LObneuAwlG3Zt38jnIFAHqlfHPxok/4WP+378KfhhrlvFd+H/DWiz+Ifssq7ke8YTsHYdGANvb4B6EN6mvsavjn42Kvw1/b4+FPxU165itPDviTR5/DrXcrbUjuwJ1Cueigm4gwT/tdgaAOr/4KH+ErXWf2b9U8XRZg1nwZfWWraZdxHbLA5uI4n2uOV+WQtweqKewr3j4b6/P4s+HnhfxTdEGbWdFsdQkI/vSwI5/Vq8G/wCCh/i610f9nPUfBduDca342v7LSNLs4humncXEcr7EHLfLHt4/ikQdxXsOkal4c+Cvwf8AD6+PNestG07w5o+n6bdXl3KEijdIo4QC3uwAH1oA4P8Abl8U3vhH9ljx5qOnXLwXNzawacjocHbc3MUMgz7xu9dd8Cvhx4e8GfAfwn4Aj0u2ksf7CgS+hkjDJcyzRBrhnU8Nvd3JB9cVw/7ZmlRfE/8AZF8YXHhSRdThn0201uyltvnWaCGeK4MiY6gxIx+hrtPgT8TPDfjH4B+FfiEuq20VgmhQPqE0kgVLWWCILcK7HhdjI+SewzQB4J+wj4ibwjp/xr+FEQZ9O+HHii7l08OxJS3kadRHknoDaFvq5PetH/gm/pUup/CrxH8W9dZbvxF448S3l3e3zqPNkRCoCluuBIZmx0+as/8AYQ8ON4t0z40fFpN8dh8SfE93Hp5kUgtbxtOwkx6Frpl+sZq//wAE4dWl0n4YeJvg9rwS08SeBvEt5a3lgzDzY43IIcj+6ZBMueny0AVtKh/4Vn/wUhvNC0JVtdN+I/hD+1L60iAWJ7mMyfvio435tpDu6/vX9TR8LhbfEv8A4KB/E/xLrltHdD4f6Pa6Roqyru+yMwQPInoxb7Rz6SkUmizj4of8FHr/AMQ6A63WlfDbwl/ZN9dxMHiW6kaT9zuHG/dcyjHUGF/Sj4ZNafDD/goL8S/DWu3UdovxE0a11bRGlO37W6Bd8a/7W4XOB6RGgCf9uywt/Bnin4OfHnTGa21fQPGFro88sJ2vPZThneNiOqgRSLg8Ymf1NO/a7tIPiJ+0R8BPgvqbNJo17ql3rupWrHMVytuoZFYdwVSdfpIfWm/t0X8Hjbxf8HPgFpaNdavrvi621q5ih+Z4LG3Do8jL2UiSVs9MQP6U79r68g+HH7QXwF+Nupq0ei6fqt1oeqXbD93bLcoFRmPbCvO/0jPpQB6J+2z4L0Xxh+zH44h1OxilfRtObVrKQoN1vNb4cMh/hJUMhx1VmHevFvjZ8YfEOp/8E3dH8XQ6hNFqfiTTNN0a8uVbDyfvBFckn/posMgPs5r2f9tzxvong39mPxrLqd9FHJrentpFhGWG64muPkCoO+ELuf8AZQmvG/jZ8GvEOm/8E4NJ8HW+nzTar4a0vTtZvLZV+eMhxLdDH/TNZZSfZDQB9P8Aw2+GPhvwt8GNC+FsmkWkulw6JFYXlu0K+XcF4gJmdcYJdmdjnqWNeC/8E6dR1Sw8EePfhfqF5JcweBfF95p1lvOfKgJ5Qe3mJI31c17t8Nfip4X8T/BPRPivNrFpFpL6HHf3ty0y+XbGOL9+rt0BRldTnoVNeFf8E6tM1W98CeOvijqVm9tD478X3mpWQcf6yAH749vMaVf+AGgCXSb8/C//AIKF6t4YtYFi0z4r+FIdUkjjXav2+28xRJxxkpBNnuTKCff6wr5H8biXxN/wUh8BWWmxmRfCngu5vb91/wCWQlNygDe2ZYf++xX1xQAUUUUAFFFFABRRRQAUUUUAFFFFABRRRQAUUUUAFFFFABRRRQAUUUUAFFFFABRRRQAUUUUAFFFFABRRRQAUUUUAFFFFABRRRQAUUVxXxI+NXwm+D8FvcfE74haH4bF2rtbR392qS3AXG4xx/fcDIztBxketAHa0VjeD/GHhrx/4a0/xj4O1eHVNG1SLzrO8hBCTJkjI3AHqCOR2rjvF/wC0p8BPAPitfA/jL4s+G9I1wlA9nc3qq0Jf7vmn7sWQQRvK8EHpQB6VRUFxfWNpZSaldXkENpFEZ5LiSQLGkYGS5Y8BQOc9MV5/4D/aO+BXxP8AEEvhXwB8VPD2uavCrSfY7W7BkkRfvNGDjzFHcpkCgD0eiud+I/i8fD74eeKPHraeb8eGtFvdXNqJfK8/7PA8vl78Nt3bMbsHGc4PSk+G3jAfEP4deFvH4082A8TaLY6wLQy+b9n+0QJL5e/C7tu/G7AzjOB0oA6OiiigAooooAKKKiknEc8MJ25mLAZcA8DPA6n8KAJaKKKACiiigAooooAKKKKACiiigAooooAKKKKACiiigAooooAKKKKACiiigAooooA5P4ofDDwj8YfBl54B8c2c11o9+8TzRQztCxMbh1wykEfMore0LRbDw5oeneHtKjaOy0u0hsrZGYsVijQIgJPJOFHNXqKACioxKDO8Hy5RFf7wzySOnUfd69+fSpKAPLfi3+zR8H/jfr+i+JPiN4bfUb3QVKWrLcvErR7w+yRVIDrkdD/eb1r0y4tLW8tZbG7topraeNopYZEDI6EYKlTwQQcYqaigD5xj/YD/AGd4b2drbT/EkGk3Mplm0OLXrhNOkJOSDGG3Ee26vVfhv8Fvh58JtS8Ran4E0U6a/ii6ju7+JZWMW9AwQRp92NQHICqAOnpXc0UAcV8Pfg/4H+F+qeJ9Y8IWFxb3Pi/Um1bVWluXlElyxYllDH5Bl24HFcJ8Qv2Ofgv8RfGlz8Qby11vRddvwBf3Wh6rLZG8wAP3gXgkgDJABOMnJ5r3CigDyfwR+y78F/hz4v0rxz4N8MSadqujaZJpNvIt3KytC7u7tIGJ8yRmkcl2y3QdABWr8XfgH8LPjjZ2dt8RPDYvJ9OfzLK+gme3u7Zu+yWMhsd9pyuQDjIBr0OigD5/8O/sP/BDQtd07xFev4r1+70i6ivbEax4guJ47eaNgyMEBUHBAODkcc19AUUUAcJ8Yfgr4B+O3hmDwj8RdPuLzTba8S/jjgungYTKjqDuQg4w7cV5af2AP2a5iq6joGvahCCD5N14hvXjP1HmCvo2igDB8FeA/Bnw40GHwx4E8M6foelwcrbWcIjUtjBZiOXY4GWYlj3JrMl+E/gyb4qxfGZ7Kc+KIdI/sNLj7Q3li08wybfLztzuY/NjNdjRQB4T42/Yw+DHjbxZqfjhz4m0TWtZm+0X9zo2uz232iTGCWXJUdOgAFdb8H/2efhZ8DhfzeA9DlTUNVKm/wBSvbl7q8ucdA0rkkLnnaMAnnGa9JooA8a+JP7IvwM+Kni2bx34n8N3kWvXMaRXN7p2pXFo86qAq7xGwUkAAZxnAGegrodU+Avw51mDwHb6jYXsw+G1xDdaAzXsm6KSIIEMhzmX/VrndnNeiUUAFcV8Nfg/4H+E3hK78E+C7C4ttKvbq4vJo5bl5WMswAkIZjkA4HHau1ooA+epP2Ev2fI9EsNH0bSdc0WTThKkOoaZrE8F4Y5H3tG8mT5i7iSAwOMnGM16L8HvgT8NPgTo11o3w60I2Y1CUT311PM09zdyAYBkkcknGThRhRliACTn0CigDyH4u/ss/CT40eILTxf4nsdTsPENlCLeLVtHv3s7kxAnCMy8MBuOCRkA4ziqPh/9jr4EeGdX8NeIdL8OXo1bwtfy6na382ozS3E91IIw0k7sxMvESAA/KvOAMnPtlFAHCfFv4I/DT446La6H8SfDq6lDYz/abSVJngnt5MYJSSMhhkdRnBwMjgYxvCP7NPwt8FeBvE3w60a01Z9E8XQSW+px3WqT3EjxvGY2CO7Fk+Vj0+teqVFBOJzLjb+7kMZ2uG6euOh56UAYHgn4e+FfAHgew+HPh7TyNB022azhtrlzPmJiSVcvncDuOc9jXiuofsCfs83l5dSWlh4i0vTr6VprnR9P1yeGwlYnJBiB4HbAIAHAxX0dRQBi+DfBnhf4feGbDwd4M0a30rR9MiENrawA7UXqSSclmJJJYkkkkkkmsn4VfCjwZ8GfCUfgjwHZT2ulRXEtysc1w0zeZIcsdzEnr2rsKKAOOsPhN4L0z4o6n8YrSynXxNq+nR6VdTm4cxtboUKqI87QcxryBmuxoooA8M/ap+FHi/x1o/hbx58MLcT+Ovh5rUWsaPbmZIlvIyyrcWzO7Kqh0CnJIB2Y/ir2yxnmurK3ubizltJZYleS3lKl4WIBKMUJUkHg7SRxwSOanooA4WH4L+AoPi5P8cI9PuB4sudOGlyXP2l/LNuAo2+Xnbn5RzjNd1RRQBBe2VnqVnPp2o2sVza3UTQzwTIHSWNhhlZTwQQSCD614p4O/Yx+A3w/8W2PjLwfoWrabeabdfa7aCPWbprZJOf+WTOVI56GvcqKAPL/AIvfs2/CT43XVlqvjfQJf7X01Slpqun3T2l5Cp52+ZGQWAOSA2QCTjGTnm/BH7GfwX8EeKtN8aoniTXNa0eb7RYXWta5PdG3kAwGVchT+INe6UUAeLfEz9kf4QfFLxfc+P8AWE8QaZ4ivY4orjUNI1me1kkWNAiAqCU4VQOFHStP4R/syfCT4LateeJPCWj3dzr1/F5Nxq+q3kl5eNH/AHQ7n5QcDO0DOBnOBXq1FAHkvxW/Za+C/wAZvENv4t8a+G7g63bQC1XULG/mtJmiBJCsYmAbGTgkZwcZxxXd+BPBOhfDnwlp3grw0tyumaWjR24ubh55cM7Od0jks3LHqa36KAOZ+JHw78L/ABY8Fan8P/GdrLc6NqyxrdRRTNE7COVZFw68j5kU8Vo+FPDOk+DPDOleEdBheLTdGs4rG0jdy7LDGoVAWPJOAOTWrRQBwl18FPAFz8W7T43rps9v4ttbE6cbq3uHjS4gIYbZowdshAbgsCRtT+6uOR+JH7IXwU+JniibxvqGk6noviG5ULcanoOoyWM0/vIEOxm9WK7jgZJwK9pooA8m+E37MPwo+DWv3Hi3wpZ6vc69dWjWM2papqs93M0BZWKfO20Asinhc8fWuV139hr4H6xruo+IbCXxboF1q11LeXw0jxBcQRzzSMWdmUlgMkngYHPFfQdFAHBfCP4HfDT4HaPdaP8ADrw8LEX83n3t1LK09zdydjJK5LNjJwM4GWIAyc8R46/Yy+Cfjzxre/EC4tte0XWdVYPqUuiavLZretgAmRVOMnHJXbk5JySTXulFAHlfgL9mT4N/DLxha+OfA/hc6XqlnpJ0WMx3MhjNuX3sXUk75GblpGyxPU10dp8J/Bdl8Ur34yW9lOPE+oaWmjz3BuHMZtlZWCiPO0HKLzjNdZbTi5hEw24LMvyuGHBI6j6VLQB5X8Wv2Zfg78bNXsvEXjvw5NLq+nwm2g1CyvZrScRZJ2FomG4AliM5xuOMZNWT+zz8NG+D03wKmstRn8Jz7vMhm1CV52zP55/fE7/v+/TjpXpdFAGR4Q8K6P4G8LaR4N8PQvDpeiWUNhZxvIXZIYkCoCx5JwByata1/wAge/8A+vaX/wBANXaKAPgH9iz9mv4YfGX9nLSPEPia21Sw1u01LULSPVdG1CSyujAZFPlOyHDrnJAYHGTjGTX178HfgP8ADP4E6Rd6R8OtDa0Ooyie+u7idp7m7kAwDJI5JOMnCjCgsxAyTn0GigAooooAKKKKACuS+J/wp8BfGPwrN4N+Inh+HVdMldZVViUkhlX7skcikMjDkZUjIJByCQetooA8M+H37GfwS+Hniyy8b2tjrOuaxpf/ACDp9d1SS9Fl6GJGwoI7EgkHkYPNej/FH4YeEfjD4LvfAHjmzmutGv3ieeKGdoWJjkWRcOpBHzKK6yigDL8N+GtI8KeGNM8IaPblNM0ixh061ikYyEQRIERWJ5b5VAJPWvCNW/YH/Z31TVLy9h0vXtMsdRnNxeaPp2szQafO5OTmEH5R7KQAOAAK+i6KAMvwz4Z0DwZoFh4W8LaTb6ZpOmQrb2lrbptSJB0A9T3JPJJJJJNeV/E79kb4N/FTxU/jnVbDVdG8QzxiG51LQtQexmukHQS7Plc4wNxG4gAZwBj2iigDh/hL8F/hz8EPD0nhv4daAmn29xKbi6meRpbi6l/vyysSzH0GcDsBVL4w/AH4Y/HSysbfx/okk1zpchl0/ULS4e2u7Rj12SoQcHg7TkZAOMgGvRaKAPI/hJ+y38I/gzrtz4s8M6bqF/4hu4vIk1fWL57y7ER6orPwgOACVAJAwTiu88eeAvCPxN8K33gvxzokGq6PqKBZ7eXI5ByrKwIZGB5DKQQehroKKAPn7wl+w38BPCfiLTvEf9na5rUmjSCXTLXWdWlu7WyYfd8uJvl4wMBtw4HpXvs9vBdQSWt1DHNDMhjkjkUMrqRgqQeCCOMVJRQB84337AX7Ot5f3E0el6/ZaZdzm4n0Sz1qeLTpHJz/AKkHgZxgKQBgAYr3/Q9C0bwvo1n4f8O6Xb6fpunQrb2tpbRhI4o1GAqqOAKtzyiCCSc7cRoX+Zgo4GeSeB9aep3KG9RmgDwf9nr4X+N7Hx98Q/jl8VtLGm+J/GeoC0sdOMsMp0/R7b5LdC8TMm91ClgGPKKTySB7zRRQAUUUUAFFFFABRRRQAUUUUAFFFFABRRRQAUUUUAFFFFABRRRQAUUUUAFFFFABRRWN4m8X+G/B1vZ3XiXXNP0yK+u47G3e8ukgWWZ8lY1LEbmIViFHJwaUpKKvJ2RpSpVK81TpRcpPZJXf3I2aKKKZmFFFFABRRRQAUUUUAFFFFABRRRQAV518bfA/gvxD4H8Q+Itf8I6NqeqaV4f1JbC9vLGKae0DQMW8p3UtHkqpO0jOB6V6LXlH7RHiT4kaX4Qn8O/Dv4O6n46l8Raff2Nw9nqlpZjTy0QSNnFw67wxkbhenlnPUUAch+xRf/2V+xd8P9U8vzPsfh+a42f3tkkrY/SuP/Yi+HPhb4hfsiprnjnRtP1nUvijPrGp+I7m5t1druWW7ni+ZiM/KiLjn5SCRg1u/sXR/GHwj8NfDvwS+J/wJ1Twza+HNFkifW7nVrG5t7uXzuIRFDIzqWWRjk8fIR3Fcp8PdA/aZ/Zp8Ba18BPAPwUHjTS7O8v28G+Ik8QWtvb29rdSPLGl5FKVl3RPI5bYDu6AjrQB5PbeK9f8Xf8ABOz4U+BLnVbuJfF3jSy8AahdCQiQ6cNUniChuoHlQxofYEdOK9t/bg8JeGvAHwh8I/EPwdotpo+rfDjxRokuizWUQheGBriOCS3BXBMTowDJ0O0ZFWtX/ZC1mL9jXQvgLoHiC1Xxh4UaDXNK1PBWAa1HctdFuRnY0kkqAkZAYHHGKz/G2i/tFftOjwd8OfHvwX/4V54a07WrLW/Fep3GtWt6L4Wjb1tLSOFy22SQA73xtAHBxggHt/7SH/Ju/wAUv+xL1v8A9IZq88/Zc+JPjm7+E3ww8NXHwG8YWemJ4S0uFdelvtJNm6R2CbJQi3Zn2ybV2gxhhvG4Lzj0P9pD/k3f4pf9iXrf/pDNSfs1/wDJunwr/wCxK0P/ANIYaAO8+2XXmRJ/ZNztkCln3xYjz1DfPk49gfbNNF9dkSk6NdDy/ugvF+85xx8/HrzirtFAFI314EicaLdkuTuUPDmPnv8APjnrxmnfbLrzZY/7Kudsakq++LEhHQD58gn3A98VbooAo/b7zyBL/Yl3v37fK8yHcBj72d+Mduufaqd7cq2uaXHPp94sn70wuGi8skx/MG+bdwOOB19q2qo3YujqNgYYkaEGTzWIGVGzjGeevpQAC/vDC0h0S7DKwAjMkO5h6j58ce57043t0HhUaRdESAF23xYiyeQ3z5OOvGfbNXKKAKYvbs+d/wASe6Hl/d+eL95zj5fn49ecUjX14I4nGi3bF87lDw5j57/PjnrxmrtFAFT7ZdedJH/ZVztQMVk3xbZCOgHz559wPfFM+33nkeb/AGJd79+3yvMh3Yx97O/GO3XPtV6igCqLu5NwsJ0u4CFcmXfHtBxnGN27rx06+3NRrf3hheQ6JdqykARmSHc2e4+fHHuR1q9RQBTN7dboV/si5xIAXbfFiLno3z8468ZoF9d/vf8AiT3Q8v7vzxfvOcfL8/HrzirlFAFF7+8WKORdEu3Z87kEkOUweM5fHPsT+FSG7uRPJENLuSiAlZN8e1yB0A3Z59wKtUUAUTf3nkCX+xLveW2+V5kO4DH3vv4x+OfapBd3JuFhOl3ARgCZt8e1eM4I3bvbgVaooAorf3jRPIdEu1ZSAIzJDufPph8ce5FO+23W+Ff7IucSAb23xYiyf4vnycdeM1cooApC+uz5udGuh5Y+X54v3nOPl+fj15xQ1/eCKOQaLdszkhkDw5THQn58c+xPSrtFAFQ3l0JpIxpVyVRSVk3x7XIHQfNnJ9wKZ9vvPI83+xLvfv2+Vvh3Yx97O/GO3XPtV6igCoLy5M6RHSrkIwBMpePahIzgjdnjpwDTFv7wxPIdEuwykAIXhy+e4+fHHuRV6igCmb27DxL/AGPdESAFm3xYjycYb58nHXjNAvbvdMP7HugIwSh3xYl5x8vz8Z684q5RQBRa/vBFG40S7LOSGQPDlMdz8+OfYmnm8uRPJENKuSiAlZd8e1yB0A3556cgVbooAxYr6X+0bmZdFvvtPkQK0ReH7m6UqwO/HXcDznpx1rQF3cmdIjpdwEZQTJvj2ocdCN2c9uAaIxP/AGnOWjUQmCLY2Bktuk3A98AbfzPvVqgCit/eNE8h0S7VkICxmSHc+epHz449yOtON7dgxAaPdHzANx3xfu+cfN8/PrxmrlFAFP7bdbph/ZF1iPOw74sS8/w/Px684pr394sUci6Jdsz53IJIcpjpnL459iffFXqKAKpu7kXDwjS7gooJEu+Pa3GcAbt3PTkCo/t955Hm/wBiXe/dt8rzId2Mfezvxjt1z7VeooAqi7uTOkX9l3ARwC0u+PahI6Ebs8dOAajS/vGikkbRLtGTG1DJDl89cYfHHuR7Zq9RQBT+23eYR/Y91+8+/wDPF+65x83z8+vGaBe3ZaYHSLoCMEod8X73novz8evOKuUUAUWv7xYUkGiXbMxIMYkh3LjoT8+OfYnpUhu7kTtCNLuCirkS749rHGcAbs57cj9OatUUAUft955Hm/2Jd79+3yvMh3Yx97O/GO3XPtTxeXPnRxf2VchHALSb4tqEjkEb88ewPtmrdFAFJb+8McjnRbtWTG1C8OXye3z449yKX7bd5hH9j3X7zG874v3XOPm+fn14zVyigCmL27LzKdHugIwSrb4sSYPAX58jPXnHvimtf3ghSQaJdlmJBjDw7lA7n58c+xNXqKAKhu7kTtF/ZVyUUEiXfHtY4zgDdn25FM+33nkGX+xLvfv2+V5kO7GPvZ34x2659qvUUAVBeXRlijOlXIWRQWk3xbYyex+fOR7A01b68McjnRbsMhAVC8OXz6fPjj3Iq7RQBSN9djysaNdHzPvfPF+75xz8/PrxmnfbLrzJk/sm52xglG3xYlweAvz5GffHvVuigCi1/eCFJBol2zMSDGJIdy47n58c+xqlpFyq3WoQ2mnXjp9slMkzNEF8zaMhRu3Y6AZHetuqOmC6BvPtMSJm6cx7QBuTAwTjv1680AAv7wwGU6JdhwwURb4dxGPvZ34x+Ofani8uTNHGdKuQrgFpN8W2Mnsfnzx7A1booApLf3jRyOdFu1ZMbULw5fJ7YfHHuRQb67xEf7GuyZPvDfF+75xz8/Prxn8+Ku0UAVPtl1vmX+ybnEYJVt8WJcHovz5GffFMa/vBCkg0S8ZmJBjEkO5QO5+fHPse1XqKAKpu7kXJhGl3BQDPnb49p4zjG7d146dfbmoxf3hgMv8AYl2HDbfL8yHcR6/fxj8c1eooAqfbLrzoo/7KudrhS0m+LbGT1B+fPHsD7Zpq314ySsdFu1MeNql4cyc9vnx784q7RQBSN9dgREaNdHzPvDfF+75/i+fn14zSi9ujJMh0i5AjBKNvixKQeAvz5GevOPfFXKKAKJv7wQrKNEvCxYgx+ZDuA9fv4wfrnipPtdz9oMP9l3GwLnzd8e0nGcY3bvbp+nNWqKAKP2+88ky/2HebwwXy/Mh3EY+99/GO3XPPSn/bLrzYk/sm52yBSz74sRk9Q3z5OPYH2zVuigCkL67KSsdGuwY8bVLxZk57fPx684oa+uwsRGjXRMn3gHizHzjn5+fXjNXaKAKgvLoyyx/2TchYwxV98WJCOgX58jPbIHvimG/vBCso0S7LFiDH5kO4D1+/jH45q9RQBV+13P2kw/2XcbAM+dvj2njOMbt3Xjp19uajF/eGFpTol2GDACPzIdxHr9/GPxzV6igCp9suvMiT+ybnbIAWffFiMnqG+fJx7A00X14UlY6Ldgx42rvhzJz2+fHvzirtFAFJr68CRMNFuyZM7lDw5j5xz8+D68Zp32y682WP+ybnbGCVffFiQjoB8+Rn3Aq3RQBg6HemPR43sdIv5EM842O8IcHzGLE/PjG4kDnPFan2u5+0+R/Zdx5eM+dvj2dM9N27rx06+3NM0cXS2Ci8iSOXzJcqgAGPMbb045GDV2gCiL+8MLSnRLsMrACMyQ7mHqPnxge5p/2y682KP+ybnbIAWffFiMnqD8+Tj2B9s1booApC+uysrHRrsGP7oLxZk5xx8/Hrzig314EiYaLdkyE7l3w5j57/AD4568Zq7RQBU+2XXmSp/ZVztjUlX3xYkI6BfnyCfcCmG/vBCJRol2XLFTH5kO4DHXO/GPxzV6igCr9ruftAh/su42EZMu+PaDjOMbt3t0/Tmoxf3hhaU6JdhgwAj8yHcR6/fxj8c81eooApm9uhJCn9kXJWQKWffFiPPUN8+TjvgH2zQL67IlJ0e6Hl/dG+L95zj5fn49ecVcooApNfXgSJhot2xkzuUPDmPnv8+PfjNO+2XXmyx/2Vc7Y1Yq++LEhHQD58jPbIHvirdFAFH7feeQJf7Eu9+7b5fmQ7sY+99/GO3XPtUgu7k3Ah/su4CFcmXfHtBxnGN27Pbp19uatUUAURf3hhaQ6JdhlYARmSHcwPcfPjj3PenG9ug8K/2RckSAF23xYiyejfPk468Zq5RQBTF9d4lP8AY90PL+6N8X7znHy/Px684pHvrxY4nGi3bM+dyB4cx4PfL4568E1dooAqfbLnzpIv7KudiAlZN8W1yOgHz559wPfFMN/eeQJf7Euy5bb5fmQ7gMdfv4x+Ofar1FAFUXdybkQ/2XcBCATNvj2jjOMbt3Xjp19uajW/vGieQ6HeKykARmSHc2epHz449yOtXqKAKn2y63wr/ZNziQAu2+LEWT0b58nHtmmi+uyJSdGuh5f3fni/ec44+fj15xV2igDH1m9k/sS5a50e98qS3mEyo8O+JNpyeXwcjJGM9OatxXdwMxppVyY0jykheLEmBwB82cn3AFSamJzpt2LZFeYwSeWrAEM204BzxjPrU8W7y03DB2jP1oApm/vPIEv9iXe8tt8rzIdwGPvZ34x2659qkF3cm4SE6XcBGAJlLx7V4zgjdu46cCrVFAFFb+8MTyHRLsMpAEZkh3NnuPnxx7kU77bdeZCn9kXWJAC7b4sRZPIb58nHXjPtmrlFAFMX12TKP7Huh5Y+U74v3nOPl+fj15xSNf3gjjcaLdlnJDIHhymO5+fHPsTV2igCoby5E0sY0q5KopKyb4tshA4A+fOT7gD1xTPt955Hm/2Jd79+3yvMh3Yx97O/GO3XPtV6igCoLu5M6Rf2VchGUEy749qnGcEbs57cA0xb+8MLyHRLtWUgCMvDubPcfPjj3Iq9RQBTN7dhogNHuiJACx3xYj56N8/OOvGaPtt3umH9kXWI87Dvi/e84+X5+PXnFXKKAKLX94sUbjRLtmfO5A8OUwe+Xxz7E1Ibu5E7xf2XclEBKy749r4HQDdnnpyBVqigCj9vvPI83+xLvfv2+V5kO7GPvZ34x2659qkF3cmdITpdwEZQTLvj2qcZwRuz7cA1aooAopf3jRSSNol2rIRtjMkO589cYfHHuR14zTvtt3mEf2PdfvAN53xfuucfN8/PrxmrlFAFMXt3mYf2Pdfuwdh3xfvOcfL8/Hrzimvf3ixRyLol2zOTujEkO5MdM5fHPsT05xV6igCqbu5E7w/2XcFFBIl3x7WOM4A3Z9uQKj+33nkeb/Yl3v37fK8yHdjH3s78Y7dc+1XqKAKou7kzpF/ZdyEcAtLvj2pkdCN2eOnANRrf3jRSOdEu1ZMbULw5fPph8ce5FXqKAKf2263Qj+yLrEmN53xYi5x83z8+vy5r5p/bnu7mTwp8PkfTLiNY/iBppV2eMiTEdxwMMTz7gV9RV5f8fPiH4Q+HWjeGr7xh4c/tiHVPElnptrH9khn8mdw5EuJSAuFRxuHzDPHeuLMYRqYWcZy5U+vzPqOC8VWwWe4evh6Tqzi3aCdm/dezf3noTX94IUkGiXbMxIMYeHcmO5+fHPsTTzd3IneIaVclFUkS749rHGcAbs57cgVbortPlyj9vvPI83+xLvfv2+V5kO7GPvZ34x2659qeLy5M0cZ0q5CuoLSF4tsZI5B+fOR7Aj0zVuigCkt/eGORzot2GQgKheHL57j58ce5FKb67BiA0e6PmAbjvi/d84+b5+fXjNXKKAIIJ5pZJUkspYVjbCu7IRIOeRtYkdO4HWp6KKACiiigAooooAKKKKACiiigAooooA85/aQ/5N3+KX/Yl63/AOkM1J+zX/ybp8K/+xK0P/0hhpf2kP8Ak3f4pf8AYl63/wCkM1J+zX/ybp8K/wDsStD/APSGGgD0eiiigAooooAK8++IXjo+FPH/AMO9COiyXi+J9Su7E3CzqgtCtszhypGXyV24GMZzXoNeE/HtYj8afgKX1d7Zx4k1DZah1Au/+JfJkEHk7R83HpzxQB7tRRRQAUUUUAFFFFABRRRQAUUUUAFFFFABRRRQAUUUUAFFFFABRRRQAUUUUAFFFFABRRRQBSiWIazcuJCZTawBk28BQ8uDnvkk8e3vV2qkZb+1rgfZwB9nhxLg5Y7pPlz046/8Cq3QAUUUUAFFFFABRRRQAUUUUAFFFFABRRRQAUUUUAFFFFABRRRQAUUUUAFFFFABRRRQAVm6KkCNqHkTNJuvpC+U27WwuV9/rWlWfpJYtfbrQQYvHxgEeYMD5+eufbjigDQooooAKKKKACiiigAooooAKKKKACiiigAooooAKKKKACiiigAooooAKKKKACiiigAooooAzfDyQJpaLbTNLH5s5DMu05818jHscj8K0qz9DLHTVL2gtj5s37sKQB+8bnB556/jWhQAUUUUAFFFFABRRRQAUUUUAFFFFABRRRQAUUUUAFFFFABRRRQAUUUUAFFFFABRRRQBS1pYn0e/SeQxxtbSh3C7iq7Dk478dqtQ4EKBTkbRg/hVfViw0q9K24nP2eTERBIkO0/Lgc89KsRf6pMrt+UcenFAD6KKKACiiigAooooAKKKKACiiigAooooAKKKKACiiigAooooAKKKKACiiigAooooAK+ff2yvCfiTxb4X8B23hnRbrUpbLxzpt3cJbx7jFCEmUufQAsoz7ivoKvGv2nfir4g+E+geENS8Pafpl3JrPiyx0idb+J3VIpFlYumx1w4Ma4JyOvBrizFU3hZqq2o9bb7n1HBk8ZTz3Dyy+MZVbvlUnaLfK936XPZaKKK7T5cKKKKACiiigAooooAKKKKACiiigAooooAKKKKACiiigDzn9pD/AJN3+KX/AGJet/8ApDNSfs1/8m6fCv8A7ErQ/wD0hhpf2kP+Td/il/2Jet/+kM1J+zX/AMm6fCv/ALErQ/8A0hhoA9HooooAKKKKACvCvj0R/wALo+AwOkG5J8Sahi6wv+if8S+Tnnn5vu/L688V7rXh3x3t76X4x/Aue31DybeHxJfm4g8kN54NhIFG48pg4PHXGKAPcaKKKACiiigAooooAKKKKACiiigAooooAKKKKACiiigAooooAKKKKACiiigAooooAKKKKAKcf/IWuD9oz/o0P7rn5fmk+b056f8AAfpVyqUTxHWbmMQ4kFrAWk3feUvLgY7Ywee+fartABRRRQAUUUUAFFFFABRRRQAUUUUAFFFFABRRRQAUUUUAFFFFABRRRQAUUUUAFFFFABWfpGd19m78/wD0yT1/d8D5OfT245rQrN0WSCRtQ8m38rbeyK/zlt7YXLc9M+lAGlRRRQAUUUUAFFFFABRRRQAUUUUAFFFFABRRRQAUUUUAFFFFABRRRQAUUUUAFFFFABRRRQBn6Fkaaubv7T+9m/ec8/vG45546fhWhWb4ekgl0tHt7fyU82YBN5bkSsCcn1OT+NaVABRRRQAUUUUAFFFFABRRRQAUUUUAFFFFABRRRQAUUUUAFFFFABRRRQAUUUUAFFFFAFTV/wDkE3uLjyP9Hk/e8/u/lPzcc8deKsRf6pPm3fKOfXiqutPFHo9+88XmxrbSl4923euw5GR0z61ahIMKEDA2jA9OKAH0UUUAFFFFABRRRQAUUUUAFFFFABRRRQAUUUUAFFFFABRRRQAUUUUAFFFFABRRRQAV5F+0j8JtQ+LmheFNN07WrLTW0XxTY6u73SuRKsayJ5a7QfmJkGM8cV67Xzv+2n4i8QeHPCvgGfw9ruoaXJdeO9Nt53srp4GliMcxMbFCNykqpweMgelcWYypxws3VV49V8z6fgyljK2e4eGAmoVW3yyaul7r3XXS59EUUUV2nzAUUUUAFFFFABRRRQAUUUUAFFFFABRRRQAUUUUAFFFFAHnP7SH/ACbv8Uv+xL1v/wBIZqT9mv8A5N0+Ff8A2JWh/wDpDDS/tIf8m7/FL/sS9b/9IZqT9mv/AJN0+Ff/AGJWh/8ApDDQB6PRRRQAUUUUAFeC/H9dMPxu+ABu7CWa6HiXUvskyxsywH+zpN5ZhwuVyBnqTiveq8O+Ow1M/GP4Fm0e2FqPEl/9rEgYyEfYJNmzHAO7Gc9qAPcaKKKACiiigAooooAKKKKACiiigAooooAKKKKACiiigAooooAKKKKACiiigAooooAKKKKAKsZn/tOcNKph8iLbHuGVbdJuOPcbefY+lWqpReT/AGzchQ/nfZYNxONu3fLtx753Z/CrtABRRRQAUUUUAFFFFABRRRQAUUUUAFFFFABRRRQAUUUUAFFFFABRRRQAUUUUAFFFFABVHTDck3n2mdZcXT+XtYHYmBhTjoevFXqzdFNsW1D7MJB/psnmbyOXwucY7dKANKiiigAooooAKKKKACiiigAooooAKKKKACiiigAooooAKKKKACiiigAooooAKKKKACiiigClo5uTYKbudJpfMly6sGGPMbAyPQYH4VdrN8PG2Olp9kEgi82fHmEFs+a2envnHtWlQAUUUUAFFFFABRRRQAUUUUAFFFFABRRRQAUUUUAFFFFABRRRQAUUUUAFFFFABRRRQBV1MzDTbs20qxSiCTy3ZgArbTgknpg1PFny03HJ2jJ9aq615I0e/NyHMX2aXzAmN23Yc4z3xVqHHkptzjaMZ+lAD6KKKACiiigAooooAKKKKACiiigAooooAKKKKACiiigAooooAKKKKACiiigAooooAK8z+O/g/wCHvjLR/Ddr8RdetdKtrDxHZ31i9xqMdmJrtA4WNWfh2Ks+EHJx7V6ZXzP+3Z/yKHw6/wCyg6Z/6KuK4sxqKlhZzlFSS6P1Pp+DMHUx+e4fDUarpSk3aUd17ren5H0xRRRXafMBRRRQAUUUUAFFFFABRRRQAUUUUAFFFFABRRRQAUUUUAec/tIf8m7/ABS/7EvW/wD0hmpP2a/+TdPhX/2JWh/+kMNL+0h/ybv8Uv8AsS9b/wDSGak/Zr/5N0+Ff/YlaH/6Qw0Aej0UUUAFFFFABXgvx/fSF+N/wAS9uXjvX8S6l9ijDuBI39nSbwQOGwuT834c171Xh/x2mv4/jF8C4raySW3l8SX4uJTLtMIFhIVIXHzZbA7Y60Ae4UUUUAFFFFABRRRQAUUUUAFFFFABRRRQAUUUUAFFFFABRRRQAUUUUAFFFFABRRRQAUUUUAVYxcf2nOzRgQGCII2Bkvuk3DPXgbfz+tWqpRLENauXEhMhtYAybeAoeXBz3ySePb3q7QAUUUUAFFFFABRRRQAUUUUAFFFFABRRRQAUUUUAFFFFABRRRQAUUUUAFFFFABRRRQAVR0xbtTefa4lTN05iwoG6PAwTjr35PNXqzdFSBG1DyJjJuvpC+V27WwuV9/rQBpUUUUAFFFFABRRRQAUUUUAFFFFABRRRQAUUUUAFFFFABRRRQAUUUUAFFFFABRRRQAUUUUAUtHW7WwUXsSxzeZLlVUAY8xtvA46YNXazfDyQR6Ui20xlj82chiu05818jHscj8K0qACiiigAooooAKKKKACiiigAooooAKKKKACiiigAooooAKKKKACiiigAooooAKKKKAKupi4bTbtbRA85gkESkAhn2nAweDz61Yj3eWm4YbaMj3qprSxPo1+k8hjja2lDuF3FV2HJx3+lWocCGMKcjaMH8KAH0UUUAFFFFABRRRQAUUUUAFFFFABRRRQAUUUUAFFFFABRRRQAUUUUAFFFFABRRRQAV5j8efiH4Q+HWj+Gr7xhoB1WHVPEllptqgtIbjyp3DsJMSkBcKjjcPmGeK9Or59/bK8J+JPFvhfwHbeGdFutSlsvHOm3dwlvHuMUISZS59ACyjPuK48fUnSw0p01eS8r9ex9HwlhMLjs6oYfHS5aUm7vm5be6/tdNT6CooorsPnAooooAKKKKACiiigAooooAKKKKACiiigAoorx7x7+17+zf8MvEs3g/wAZ/FPT7TV7UgXVvBbXF39kJOMTtBG6wH2kK4oA9horEt/HHg278JDx9beKtJl8NG1N6NXW8jNn9nAJMvm527Rg5OcDBrhvht+1H8Avi74hk8KfD34lafqmrojSpaNFNbyTxrnLwiZE89RgktHuGBnNAF79pD/k3f4pf9iXrf8A6QzUn7Nf/Junwr/7ErQ//SGGl/aQ/wCTd/il/wBiXrf/AKQzUn7Nf/Junwr/AOxK0P8A9IYaAPR6KKKACiiigArwj4+fZ/8AhdfwE83V3tpf+El1HyrUSqouz/Z8mQVPLbR83HTGa93rwv48uF+M/wAB1/slrjd4k1D/AEkBcWv+gScnPI3fd+X154oA90ooooAKKKKACiiigAooooAKKKKACiiigAooooAKKKKACiiigAooooAKKKKACiiigAooooAqR7/7VuM24CfZ4cS7Tljukyuehxwf+Be9W6pxj/ib3B+0A/6NCPK5+X5pPm9Oen/AfpVygAooooAKKKKACiiigAooooAKKKKACiiigAooooAKKKKACiiigAooooAKKKKACiiigAqhpXmZvfMsxB/pb7cKR5gwPn5659far9Z2kDDX/wDpYnzeSHgn93wvyc+ntxzQBo0UUUAFFFFABRRRQAUUUUAFFFFABRRRQAUUUUAFFFFABRRRQAUUUUAFFFFABRRRQAUUUUAUNE8z+zl820Fs3mS/uwpXA8xsHB9Rz+NX6z9BG3TUH2oXP72b94CTn963HPPHT8K0KACiiigAooooAKKKKACiiigAooooAKKKKACiiigAooooAKKKKACiiigAooooAKKKKAKmq7/7LvPLtxO32eTbEVJEh2nC4HJz0qxFnykyu07Rx6VW1cZ0m9HniDNvJ+9Ofk+U/Nxzx14qzF/qk+bd8o59eKAH0UUUAFFFFABRRRQAUUUUAFFFFABRRRQAUUUUAFFFFABRRRQAUUUUAFFFFABRRRQAV41+078Vdf8AhPoHhDUfD9jp11JrPiyx0icXsTOqRSLKxZNrLhwY1wTkdeK9lryD9pP4T6p8XNC8J6bpesWOnPoviqx1eR7sPiVI1kTy12A/MTIMZwOOtcmOVV4eXsPi6fefQ8KSy+OcUHmtvYXfNfa1na9vOx6/RRRXWfPBRRRQAUUUUAFFFFABRRRQAUUUUAFFFFABXwl8K/GvxB+Etz8YvDvwt+B//C49FuvF2ranP4i0y+S1Rp5uZdPnSePNw8JBBMJlUhwAAcivu2vkH4X+Gf2pP2X9G1v4V+CfglpXxG0CTWL7UtA1uPxTb6c0EdzKXEd5FOodmUnJaPdnoPWgDyb+w/D0X7E/wQ+GGieMh4h8PeNviTp2la7JbLJbxtFPfzz3FkI3AkjVJFCYYAkruwA2K9z/AG6dKsPDPgf4c/EPQbWKw1jwR460T+yprZRG0dvLL5Mtsu3/AJZOhAZOhCgEYrF0v9jPxnb/ALL7eBZPFOn23xN/4StviHb6hFuNhba6JxIiKNu7ydihCcdSWwelaWv+Dv2jP2k/EHgjw/8AF34W6Z8PPB/hDXLXxHrMkPiGHUpdcu7UMYYbdIl/dW5c7m8wh8EAcrkgHs37SH/Ju/xS/wCxL1v/ANIZq8u/Za+Ivxluvhf8MfDt9+z3eWfh5PCmmQp4hPiWxdJIUsE8qb7OD5oEm1PlPK7+ehr1H9pD/k3f4pf9iXrf/pDNSfs1/wDJunwr/wCxK0P/ANIYaAO4N7qfnQJ/YzbJFUyv56fuieox1OPbrTVvtVInLaG4Mf8Aqx9oT97zj8OOea0aKAM5r7VhFC40Jy7k+Yn2hP3fPHPfPXin/bNS86eP+x28uNWMcnnp+9I6DHUZ96vUUAZv2/V/swl/sF/N3lTF9pjyFx97PTrxivG/jaNRufjN8EXN2ljb2+v3rtAyLIb1jYSDy1YHMew856HGK92rwb4/LYH42/AJrnTZp7hfEuo/ZrhIiyW5/s+TcWbou5cqM9ScUAezrf6ubd5G0FxIrALH9pj+Yc5Oegx/Wnm91QSQKNFYrIqmVvPT90SeRjvgc8VfooAzxfap+/zojjy/9V/pCfvecfhxzzSPf6ssULroTs758xPtCDy+eOe+RzxWjRQBR+2al9omi/shvKRWMcnnp+8I6DHUZ96j+36v9m83+wX83ft8r7THnbj72enXjFaVFAFIXeom7WE6SwhK5M3nJgHbnG3r14qJL/VzBJI2gusilQsf2mM7wc5Oegxx+daVFAFA3up74F/sZtsgBlbz0/dHPI98DnikF9quJ86I/wC7/wBV/pCfvecfhxzzWhRQBmyX+rrBFImgu8j7t8f2mMeXg8c9Dn2qQ3eoi5liGkMYkVikvnp85A4GOoz71eooAzTf6v8AZhKNBcyl9pi+0x5C4+9np7YqVbvUTdpCdJYQsAWm85MKcZI29Tg8VdooAzUv9XaCSR9BdZFKhI/tMZ3g9TnoMU/7bqfmW6/2M22QAyt56fusnnjvgc8VfooAzxfaqfPzojjyx+6/0hP3vOPw455pGv8AVhBFIuhO0jlg8f2hB5YHQ56HPt6Vo0UAUTeakLiWIaQxjRSUk89P3hA4GOoz05qP7fq/2US/2C/neZt8r7THnbj72enXjFaVFAFEXmpG5jiOkMImUF5fPTCEjJGOpweKjW/1YwSSNoLrIpASP7Qnzg9TnoMVpUUAZ5vdUEkCjRHKyBTK32hP3RJwRjvgc8UC91TfODojgRgmI/aE/enOAPbI55rQooAzWv8AVhDFIuhO0jkh4/tCDYB0Oehz7VIbzURcyxDSGMSKxSXz0+cgcDHUZPHNXqKAMGLUNSN9cyDw5ILoRQKV+1J80eZcHPQYIPv83tWgLvUTcxxHSGETKC8vnJ8hxyMdTg8VJGZf7UnBmUxC3i2x7uVbdJliOwIwM/7J9KtUAZqX+rNBJI2gusiFQkf2mM7wepz0GPf1pxvtUBgA0RyJAPNP2hP3XOPx454rQooAofbdU3XA/sVsRg+UfPT97zx9OOeaY9/q6wRSJoLvI+7fH9pjGzHTnoc+1aVFAFI3eoi6khGksYVBKzecmHOMgbeoyeKi+36v9m83+wX83ft8r7THnbj72enXjFaVFAFIXeom6jhOksIXUF5fOTCEjkY6nB44qKO/1doJZH0F0kTbsj+0xnzMnnnoMe9aVFAGf9t1TMA/sV8Sf60/aE/dc4/HjnigXuqFpwdFcCMExHz0/enPA9uOea0KKAM17/V1gjkXQXaRiweP7TGNgHQ56HP9KlN3qIunhGksYVUlZvOTDHGcY6jnirtFAGb9v1f7N5v9gv5vmbfK+0x524+9np14xUgvNSNxFEdIYROql5fPT92SORjqce1XqKAM5b/VjFK7aE6uhHlp9oQ+Zk889se9Kb3VN0AGiviQDzT9oT91zj8eOeK0KKAM8XuqGSdTorhY1YxN9oT96QeBjtkc801r/VxBHIuguZGYho/tMfygdDnoc/0rSooAom71EXTxDSGMSqSsvnphjjIGOo54qP7fq/2Yy/2C/m+YF8r7THnbj72enXjFaVFAFEXmpGeGM6OwjkVTJJ56fuyeox1OPamLf6sYZnbQnV0IEafaE/eAnk56DHvWjRQBnm+1UeRjRHPmD95/pCfuucfjxzxS/bdT82dP7GbZGGMT+en70g8DHbPvV+igDNa/1cQRyLoLtIxIaP7TGNoHQ56HNVNKvLj7ZqENtojrCt3LumNwpDuFByFPIzwPSt2qOlmcm98+5SbF04TawbYuBhT6EenvQBGL/VzbNKdBcShwoi+0x5K4+9np+FSC81I3EMZ0hhG6qZJPPT92T1GOpx7VeooAzUv9WaGZ30J1dNvlp9oQ+Zk889BjrzSm+1XbARobkyZ8wfaE/dc4/HjnitGigCh9s1PzJ1/sZtsYJibz0/ekHgY7Z96Y1/q4gSRdAdpGZg0f2mP5QMYOehzz+VaVFAFI3eoi7MI0ljCFyJvOTBO3ONvXrx+tRC/1f7MZToLiUOFEX2mPlcfez0/CtKigCj9s1Lz4Y/7Hby5FUySeen7snqMdTj2piX2rNHM7aG6tHjy1+0IfM5557YHPNaNFAGeb7VQICNEcmT/Wj7Qn7rnH48c8UovdTMs6HRmCRqxifz0/ekHgY7ZHPNX6KAM1r/VxbrKNAcyliDF9pj+UcYOenPP5VL9r1H7UYf7JbyduRN5yYJ25xjr14q7RQBmi/wBX+zGX+wH80OFEX2mPlcH5s9OvGPen/bNT86BP7HbZIqmV/PT90T1GOpx7VfooAzlvtWKTMdDcNHjy1+0J+85/Tjnmhr7VQsBXQ3Yyf6wfaE/dc4/HjnitGigCgLzUjNPGdHYRxqxik89P3pHQY6jPv0pjX+ri3WUaC5lLEGL7THwOxz0rSooApfa9R+1mH+yW8kDIm85ME7c429evFRLf6ubdpToLiUMAIvtMfzDuc9OP61pUUAUReal50CHR22SKplfz0/dE9Rjqce1MW+1YxzMdDcNHjy1+0J+85557YHPNaNFAGc19qwjgZdDdmkz5i/aE/d84HPfI54p/2zUvOnj/ALHby41Yxyeen70joMdRn3q9RQBz2i398NGilsvDsi5nmBhN0hK/vGy249ctnitT7XqP2wQf2S3kYz5/nJjO3ONvXrx+tJopnbT1NzcpPJ5kuXRtwI8xsDPsMD8KvUAZq3+rm3eVtBcSqwCxfaY/mHc56DH9af8AbNT86CP+x28uRVMknnp+6J6jHU49qv0UAZy32qlJ2bQ3DR48sfaE/ec4/Djnmhr7VRHCw0Ny0hPmL9oT93zxz3yOeK0aKAKP2zUvOnT+x22Rqxifz0/ekdBjqM+9Rm/1cW6yjQXMpcqYvtMfC44bPT8PatKigCl9r1H7WIf7JbySoJm85MA4zjb168VEt/q5t2lOguJQwAi+0x/MO5z04/rWlRQBQN7qYlgQaMxSQKZX89P3RJ5GO+PbrSC+1UicnRHBj/1Q+0J+95x+HHPNaFFAGc19qwjhZdCdmkz5i/aE/d88c9+OeKf9s1Lz54/7Hby41Yxyeen70joMdRn36VeooAzft+r/AGYS/wBgv5u/aYvtMfC4+9np14xUou9R+1CE6SwhK5M3nJgHbnG3r14q7RQBmrf6ubd5G0FxIrALH9pj+YHOTnoMf1p5vdT8yBRozFZFBlbz0/dEnkY74HPFX6KAM8X2q4nJ0RwY/wDVD7Qn73nH4cc80j3+rLDC6aE7u+fMT7Qg8vB456HI54rRooAo/bNR+0TRf2Q3lIrGOXz0/eEdBjqM+9Rm/wBX+zCUaC5lLlTF9pj4XH3s9PwrSooAoi71E3awHSGEBAJm85MA7c429evFRpf6u0EkjaA6yKVCR/aYzvBzk56DHH51pUUAUPtup+ZAv9jNtkAMreen7ok8jHfHXimi+1UicnQ3Bj/1Y+0J+95x+HHPNaNFAGHrN/qC6JPJN4fklV4JvPhFygKoF9e+Rnp0q3FeajuaNdGbykjzHJ56fOccDHUZ9TU+qGUaZdmCZYZBBJskZtoRtpwxPYDrmp4s+Wm4gnaMkd6AKBv9X+zCUaC5lLlTF9pjyFx97PTrxipRd6ibpITpLCFgC03nJhTjJG3qcHirtFAGat/q5gkkbQXWRWAWP7TH84PU56DFP+26n5sCf2K2yQKZX89P3RJ5GO+BzxV+igDPF9qhM4OiOBGD5R+0J+95x+HHPNI1/qwhiddCdnckOn2hP3YB4Oehz7Vo0UAUTeakLiaMaQxjRWMcnnp+8IHAx1Gfeo/t+r/ZvN/sF/N8zb5X2mPO3H3s9OvGK0qKAKIvNRNzHEdIYRMoLS+emEOMkY6nB4qNb/VzBJI2gusisAkf2lPnB6nPQY/rWlRQBnm91QPAo0VysgBlb7Qn7o5wR74HPFL9t1TdcD+xXxHnyj56fvecD/d455q/RQBmvf6usMTpoLs77t6faYx5eDxz0OfapDd6iLmWIaQxiRWKS+emHIHAx1GTxzV6igDN+36v9m83+wX83ft8r7THnbj72enXjFSi71E3UcJ0lhCygtN5yYU4yRjqeeKu0UAZqX+rtBLI+gukiFdkf2mM785zz0GOOvrTje6pugA0VyJAPNP2hP3XP68c8VoUUAZ4vdUzODorgRg+UftCfvecfhxzzTXv9XWCKRNBd5HLb4/tMY2Yxjnoc+3pWlRQBSN3qIupIhpLGJVJWXzkw5xkDHUc8VF9v1f7N5v9gv5u/b5X2mPO3H3s9OvGK0qKAKIvNRNzHEdIYROql5fPTCEjkY6nB44qNL/VmhlkfQXWRNuxPtKHzMnnnoMe9aVFAFD7bqm+3H9itiTHmnz0/dc4P+9gc8V87/toeJ/Fei+GvAz6Ub7SvN8d6dC01te7DcR7JzsOwg7SQDg8cCvpevLfj/4V+HPizRvDNt8SPEMWkW1l4lsryweS8S2E12ocLECwO4lWkwo5OPauPMKcquGnCDs31vbr3PpeD8XRwOeYfEYiDnCLd4qPM37r2j1PQGv9WEEci6C7SMxDx/aEGwDoc9Dn+lSG81EXMkQ0hjEqkpL56fOcZAx1GTxV6iuw+aM37fq/2bzf7BfzfM2+V9pjztx97PTrxipFvNSNxDGdIYRuqmSTz0/dkjkY6nHTir1FAGct/qxhldtCdXQgIn2hPnBPJz0GPelN9qoMAGiORIAZT9oT90c4x78c8VoUUAVrae7lmnS4sTAkbYjcyK3mjJ5wOnQdfWrNFFABRRRQAUUUUAFFFFABRRRQAUUUUAec/tIf8m7/ABS/7EvW/wD0hmpP2a/+TdPhX/2JWh/+kMNL+0h/ybv8Uv8AsS9b/wDSGak/Zr/5N0+Ff/YlaH/6Qw0Aej0UUUAFFFFABXh3x2Gp/wDC4/gWbRrUWg8SX/2sSBjIR9gk2eWQcA7sZz26V7jXgvx+bSx8bvgCt3dSx3Z8S6l9kjV3Cyn+zpN4YDg4XJG7v05oA96ooooAKKKKACiiigAooooAKKKKACiiigAooooAKKKKACiiigAooooAKKKKACiiigAooooApReR/bNztD+d9lg3ZI27d8u3HfOd2fwq7VWMT/2nOWjUQ+RFsbAyW3SbhnrgDb+Z96tUAFFFFABRRRQAUUUUAFFFFABRRRQAUUUUAFFFFABRRRQAUUUUAFFFFABRRRQAUUUUAFZui/Zd2ofZhKP9Nk8zeR9/C5xjt061pVR0sXQN59piRM3T+XtUDcmBgnHU9evNAF6iiigAooooAKKKKACiiigAooooAKKKKACiiigAooooAKKKKACiiigAooooAKKKKACiiigDN8PfZv7LT7GJRF5s+PMILZ81t3TtnOPbFaVUdGF0LBReRJHL5kuVUADHmNt4HHIwavUAFFFFABRRRQAUUUUAFFFFABRRRQAUUUUAFFFFABRRRQAUUUUAFFFFABRRRQAUUUUAUta8j+x7/wC0hzD9ml8zYRu27DnGeM4q1Dt8lNucbRjPXGKg1QTnTbsWyK8xgk8tWAIZtpwCDx19ani3eWm4YO0ZHvQA+iiigAooooAKKKKACiiigAooooAKKKKACiiigAooooAKKKKACiiigAooooAKKKKACvmf9uz/AJFD4df9lB0z/wBFXFfTFeW/tAfELwn8OtG8MX3i3wwutw6p4lstNto2tYZ/IncOwlAl4UhUcbh8w3cVxZjCNTCzjOXKu/zPqOC8VWwefYavh6TqzTdoppN+69m9PM9SooortPlwooooAKKKKACiiigAooooAKKKKACiiigAooooAKKKKAPOf2kP+Td/il/2Jet/+kM1J+zX/wAm6fCv/sStD/8ASGGl/aQ/5N3+KX/Yl63/AOkM1J+zX/ybp8K/+xK0P/0hhoA9HooooAKKKKACvDvjvJfr8Y/gWltaRSWz+JL/AO0ytJtaICwk2lRj5stgHkYHNe414T8e0tm+NPwFaXV5LaVfEmoeVbLMqrdH+z5MhlIy+0fNxjGMnigD3aiiigAooooAKKKKACiiigAooooAKKKKACiiigAooooAKKKKACiiigAooooAKKKKACiiigClEIv7ZuWEjGU2sAZMcBd8uDn1J3fkPWrtU4y/9rXANuoT7PDiXacsd0mVz0OODjtu96uUAFFFFABRRRQAUUUUAFFFFABRRRQAUUUUAFFFFABRRRQAUUUUAFFFFABRRRQAUUUUAFZuirbq2oeRK75vZC+5cbXwuQPUdOa0qz9JMhN95losGLyQLtQr5gwPnOepPqOOKANCiiigAooooAKKKKACiiigAooooAKKKKACiiigAooooAKKKKACiiigAooooAKKKKACiiigDN8PrAuloLaVpI/NnwzLtOfNbIx7HI/CtKs/QzI2mqZbRbZvNm/dqhUAeY2Dg88jn8a0KACiiigAooooAKKKKACiiigAooooAKKKKACiiigAooooAKKKKACiiigAooooAKKKKAKWtCJtHvlnkZIjbSh2UZKrsOSB34q1DjyU2nI2jB/Cq+rFxpV6Y7cTuLeTbEylhIdpwpA5OemKsRZ8pMrtO0cenFAD6KKKACiiigAooooAKKKKACiiigAooooAKKKKACiiigAooooAKKKKACiiigAooooAK+fP2y/CniTxZ4X8B23hrRLvUpbPxzpt3cJbRlzFCEmUu2Oigsoz7ivoOvF/2ofil4j+FXh/wfqPhu20+aXWPFtjpM4vYWkVYZFlYsgDLhwY1wee/FcWYqm8LNVW1Hrbfc+o4LnjIZ9hpZfGMqt3yqTai/de7Wu1z2iiiiu0+XCiiigAooooAKKKKACiiigAooooAKKKKACiiigAooooA85/aQ/5N3+KX/Yl63/6QzUn7Nf/ACbp8K/+xK0P/wBIYaX9pD/k3f4pf9iXrf8A6QzUn7Nf/Junwr/7ErQ//SGGgD0eiiigAooooAK8K+PRUfGj4DA6QbknxJqGLrap+yf8S+TnJ5G77vy+vPFe614b8eIrp/jL8CZIdSEEMfiS/M1v5at9oBsJABk8rtPzcdcYoA9yooooAKKKKACiiigAooooAKKKKACiiigAooooAKKKKACiiigAooooAKKKKACiiigAooooApxg/wBrXB+0ZH2aH91k/L80nzenPT/gP0q5VKJk/ti5UQ4cW0BMmT8w3y4XHTjBP/AvartABRRRQAUUUUAFFFFABRRRQAUUUUAFFFFABRRRQAUUUUAFFFFABRRRQAUUUUAFFFFABWfpAIa+zdif/TJO5Pl8D5OfT245rQrN0Z4mbUPKtvJ23sgb5id7YXLc9M+ntQBpUUUUAFFFFABRRRQAUUUUAFFFFABRRRQAUUUUAFFFFABRRRQAUUUUAFFFFABRRRQAUUUUAZ+hAjTVBuxc/vZv3mSc/vG45546fhWhWd4feJ9LRobbyE82YbNxbB81snJ9Tk/jWjQAUUUUAFFFFABRRRQAUUUUAFFFFABRRRQAUUUUAFFFFABRRRQAUUUUAFFFFABRRRQBU1cE6VegXHkH7PJ+9yR5fyn5uOeOvFWIv9UnzbvlHPrxVbWWRdIvmlh85BbSlo8kbxtOVyORnpVmHBiQgYG0cenFAD6KKKACiiigAooooAKKKKACiiigAooooAKKKKACiiigAooooAKKKKACiiigAooooAK8i/aR+E2o/FzQvCmm6brVlpraL4pstXd7pXIlWNZE8tdoPzEyDGeOK9dr5z/bZ1rWdE8KfD+XRtWvbB5/HmmQytazvEZIzHOSjFSMrkA4PHArizGVOOFm6qvHqvmfUcF0sXWz7DU8DUUKrb5ZNXS917rrofRlFFFdp8uFFFFABRRRQAUUUUAFFFFABRRRQAUUUUAFFFFABRRRQB5z+0h/ybv8Uv8AsS9b/wDSGak/Zr/5N0+Ff/YlaH/6Qw0v7SH/ACbv8Uv+xL1v/wBIZqT9mv8A5N0+Ff8A2JWh/wDpDDQB6PRRRQAUUUUAFeDfH4af/wALt+ARutOlnuR4l1H7NOsJZbc/2fJuLN0TcuVGepOK95rw747DU/8AhcfwLNobYWv/AAkl/wDaxIG8wj7BJs8vHGd2M57UAe40UUUAFFFFABRRRQAUUUUAFFFFABRRRQAUUUUAFFFFABRRRQAUUUUAFFFFABRRRQAUUUUAVY/O/tSfdMpi+zxbY93Ktuky2O2RtGe+0+lWqpReR/bNztD+d9lg3Zxt275duO+c7s/hV2gAooooAKKKKACiiigAooooAKKKKACiiigAooooAKKKKACiiigAooooAKKKKACiiigAqjpf2jN59ouEl/0p/L2uG2JgYU+hHPHvV6s3Rfs27UPswk/4/ZPM34+/hc4x26UAaVFFFABRRRQAUUUUAFFFFABRRRQAUUUUAFFFFABRRRQAUUUUAFFFFABRRRQAUUUUAFFFFAFHRftB09ftVws8nmS5dXDAjzGwMj0GB7Yq9Wb4e+zf2Wn2QSCLzZ8eZjdnzW3dO2c49sVpUAFFFFABRRRQAUUUUAFFFFABRRRQAUUUUAFFFFABRRRQAUUUUAFFFFABRRRQAUUUUAVdU87+zLv7PMsUvkSbJGbaEbacEntg96niz5abjk7Rk+tVda8n+x7/AO07/J+zS+Zsxu27DnGeM4q1DjyU25xtGM/SgB9FFFABRRRQAUUUUAFFFFABRRRQAUUUUAFFFFABRRRQAUUUUAFFFFABRRRQAUUUUAFeX/Hzwv8ADjxVo3hm3+JOvQaXa2fiWyvLB5r5bYS3ihwsYLffYoZMKOTj2r1Cvmf9uz/kUPh1/wBlB0z/ANFXFcWY1FSws5uKlbo9tz6jgvB1MfnuHw1KrKlKTfvR+Je63p+R9MUUUV2ny4UUUUAFFFFABRRRQAUUUUAFFcnP8WPhraeO2+GN7430i18VC3ju10m4uViuJYnztaNWx5n3TnbkjHOK6ygAooooAKKK8v8AiN+0x8FfhV4iTwh4x8YNHrjwi5Om6fp11qNzHEejyR20cjRg9iwGRzQB6hRXJaR8V/h7rXw6Hxas/E1vH4S+zS3jandI9tHHDEzLIzrKqsmGRhggHIrkPh7+1f8AAT4peJrbwd4M8dfaNXv4XuLK2u9Nu7L7bGgyzQNcRIswABPyE8AnoDQBrftIf8m7/FL/ALEvW/8A0hmpP2a/+TdPhX/2JWh/+kMNL+0h/wAm7/FL/sS9b/8ASGak/Zr/AOTdPhX/ANiVof8A6Qw0Aej0UUUAFFFFABXgnx/fSV+OH7P63s0yXjeJdS+xIpfa7f2dJv3bfl4XJG7v05r3uvD/AI7S36fGL4GR21pHJbyeJL8XMrS7WiAsZCpVcfNlsDqMdaAPcKKKKACiiigAooooAKKKKACiiigAooooAKKKKACiiigAooooAKKKKACiiigAooooAKKKKAKsYuP7SnLKvkGCLYeMl90m4euMbevHJx3q1VKJYv7auWEhMptYAybeAu+XBz3yS3Ht71doAKKKKACiiigAooooAKKKKACiiigAooooAKKKKACiiigAooooAKKKKACiiigAooooAKpaaLsG8+1oi5unMW3bzHgYJx369eau1m6Klurah5EzSbr6Qvldu18LkD1HTmgDSooooAKKKKACiiigAooooAKKKKACiiigAooooAKKKKACiiigAooooAKKKKACiiigAooooApaOLtbBReoiS+ZLkJtxjzG2/d46Y/rzV2s3w8sCaUi20rSR+bOQzLtOfNfIx7HI/CtKgAooooAKKKKACiiigAooooAKKKKACiiigAooooAKKKKACiiigAooooAKKKKACiiigCtqYuDpt2LVVacwSeWGxgvtOAc8Yz68VPHu8tN3XaM/WqmtLE2jX6zyGOM20odgu4quw5IHfjtVqHAhQKcjaMH8KAH0UUUAFFFFABRRRQAUUUUAFFFFABRRRQAUUUUAFFFFABRRRQAUUUUAFFFFABRRRQAV5j8efiR4W+Guj+Gr/xVoD6rFq3iSz0u3RbaKbyppA7CTEhAXCow3D5hnivTq+f/ANsfwh4m8Y+F/Alr4Y0a51KWx8cabeXCQLkxwqkylz7Aso/GuTHzqU8PKdJXkttL9ex9FwlhcJjc5oUMfLlpSb5nzctvdf2ump9AUUUV1nzoUUUUAFFFFABRRRQAUUUUAfOv7VHiP9j9Et/Dn7QWm6Nr2vSKv9m6RbWj3WuOXJ2C3Fv+/j3EHB3KpI614j8KvCP7ammeI21P4Ax654e+GlupNloPxg1JbmWYdo4Y4Ua6tY16KHk9CSRkV9L6N4nsdT/ap8TeDofBnh6KXRPCOnahPrf2Mf2pPLcTzIkXndfIRIj8v95uo6VrfF74o6v8NPEnw2tbaxs7rTPGPimPw1fiQP58Rnt5XhliIO35ZIgGDKcq3BGKAIv2ffi7rXxd8La1P4s8JL4b8S+FNfu/DOuafFdfaYEvLdY3LwyYG6N0mjYZHG4jJxk+oVDBaWtqZWtbaKEzyGaUxoF8xyACzY6nAAyeeBU1ABX5/fsjeIf2m/GmlfEnx18KfDXw6t59T8Z6pNqWreLDdy3Wp3KsPLtI/s7KYoYYiiqzlgCzYXrX6A18taD8PP2jf2d/EHjTSPgx4K8LeNvCHjDW7nxFpwv9YOmXOiXtzjz45RsZZ4AyqV2YcDcD1FAHmvxe+NK/tIfs9+ANK1rRm0OfWfi5pPgfxzoiSkpDPDcFri23fxIxELj03AEkg16f+3tp9lpHwt8GeNdMt47bVvBvjjQbrSJoVCPCWuFiaJCOiMjcr0O0ZHAqjafsWar/AMM06h8OLzxlAnxH1TxI/j6bxFCrfZ4vEplWRZEUjIiARYvu5I3PtBO0T6x8Ov2kP2hNc8FaF8b/AAl4Z8H+EPB+r22v6t/Zesm/m8QXtsMwJGnlr5FvvLOwclsFQORmgD2H9pD/AJN3+KX/AGJet/8ApDNXnX7LnxJ8e3fwn+GHhq5+Ani2z0tPCWlwrr8uoaUbR0jsE2SiNbsz7ZNq7QYww3jcFwcei/tIf8m7/FL/ALEvW/8A0hmpP2a/+TdPhX/2JWh/+kMNAHd/bbvzYU/si52yBS774sRk9QfnycewPtmkF9eESk6NdAx/cBki/ec44+fj15xV2igCib+9EcTjRbos5O5RJFmPnv8APg568Zp/2y782WP+ybnbGrFX3xYkI6AfNkZ9wPfFW6KAKP2+98gS/wBh3e/ft8rzIdwGPvZ34x2659q8T+OjRTfGv4FfadSm0+SLxDfvBbNKm3UGOnybo8DJJQfN2HGcmveq8L+PJYfGf4DgaT9pB8Sahm5yn+i/6BJzzz833fl9eeKAPZhf3phaU6Hdh1YARmSHcw9Qd+OPc96cb27DwqNHuSJApdt8WIiTyG+fJx14z7Zq5RQBSF9eHzv+JNdDy/ufvIv3vOPl+fj15xSNf3ojicaJdMXzuUSQ5j57/Pg568Zq9RQBU+2XXnSxf2TcbEDFZN8e2QjoAN2Rn3A98Uz7fe+R5v8AYd3v37fK8yHdjH3s78Y7dc+1XqKAKou7o3CwnS7gRlcmbfHtBxnGN27rx06+3NRrf3pheQ6HdqykARmSHc2epHz449z3q9RQBT+23e+Ff7IucSAF23xYi56N8/OOvGaQX15++/4k11+7+5+8i/e844+fj15xV2igCi9/erFHIuiXbs+d0YkhymDxnL459iaeby6E8kQ0q4KICVl3x7XIHQDdnn3Aq3RQBRN/e+QJf7Du95bb5XmQ7gMfezvxj8c08Xd0blYTpVwI2AJm3x7V4zgjdu46cCrdFAFFb+9aJ5Dod2rKQBGZIcvnrjD449yKd9tu98K/2Rc4kA3tvixFk/xfPk468Zq5RQBSF9eHzs6NdDyx8n7yL95zjj5+PXnFI1/eiKOQaJdszkhkEkOUx0J+fHPsTV6igCoby6E0kQ0q4KIpKyb49rkDoBuzk+4FM+33v2fzv7Eu9+/b5XmQ7sY+9nfjHbrn2q9RQBUF5dGdIjpVwEZQWl3x7UJGcEbs8dOAaYt/emJ5Dol2GUgLGZIcvnuPnxx7kVeooApG9vA8K/2PdESAF28yLEWTgg/Pk468ZoF7ebpl/se6AjBKHfFiXnHy/PxnrzirtFAFFr+9EUcg0S7ZnJDIJIcpjufnxz7E083l0J5IhpVwUQErLvj2uQOABuzz05Aq3RQBjx39/wDbbiY+HLlT5UKj54t78yZ537cDjjOfm6Yq6Ly6M6RHSrgIygtLvj2ocdCN2fbgGkiA/te5P2jJ+zQ/uufl+aX5vTnp/wAB+lXKAKK3960Ukh0S7VkICxmSHL56kfPjj3I60pvrwGEDRro+YBvPmRfu+cc/Pz68Zq7RQBT+23e6Yf2Pc4jzsO+LEvP8Pz8evOKa9/erFHIuh3bM+dyCSHKY6Zy+OfYmr1FAFQ3d0Lh4RpdwUUEiXfHtbjOAN2eenIpn2+98jzf7Du9+/b5XmQ7sY+9nfjHbrn2q9RQBUF3dG4SE6XcBHALS749qEjoRuzx04BpiX960UkjaHdoyY2xmSHL564w+OPcir1FAFL7beZhH9j3P7z7/AO8i/dc4+b5+fXjNKL27LTA6PcgRglDvi/e89F+fj15xVyigCi1/erCkg0O7ZmJBjEkOUx0J+fHPsT0p5u7oXDQjS7goqkiXfHtY4zgDdn25H6VbooAo/b73yPN/sO7379vleZDuxj72d+Mduufani8uvPji/sq4COAWk3x7UJHII3Z49gat0UAUVv70xyOdEulZMbUMkOXye3z449yKX7beZhH9j3OJMbzvi/dc4+b5+fXjNXaKAKYvbsvMp0e5AjBKNvixKQeAPnyM9ecU1r+9EKSDRLssxIMYkh3KB3Pz459jV6igCoby6Fw8P9lXBRVJEu+PaxxnAG7PtyKZ9vvfIMv9h3e/ft8rzId2Mfezvxjt1z7VeooAqC8ujLFGdJuAsigtJvixGT1B+bJx7A0xb+9McjnRLoMhAVDJDl8+nz4GPcir1FAFI314PKxo10fMHz/vIv3fOOfn59eM0v2278yZP7IudsYJRt8WJcHgL8+Rn3x71cooAotf3ohSQaHdszEgxiSHcuO5+fHPsaq6bdXi3V9CdClijFzIVmQoqy/KMNgtuJPTOMVsVnaOAGv8Xfn/AOmSZ6/u+F+Tn09uOaAHi/vTAZTol2HDBRF5kO4jH3s78Y/HNPF5dGaKM6VcBHUFpN8e2MnsRuycewNW6KAKK3960Ujtol2rJjahkhzJk84w+BjryRSm+vNsR/sW6Jk++PMi/d845+fn14zV2igCn9su98y/2Rc4jBKNvixLg9F+fIz74pjaheiFJBod2zMSDGJIdygdCfnxz7HtV+igCobu6FyYRpdwYwM+dvj2k4zjG7d146dfbmmC/vTAZf7Duw4bb5XmQ7iMfezvxj8c1eooAqfbLrzoo/7JuNkgUtJvj2xk9QRuycewPtmmrfXjJKx0W6Ux42qZIsyc9vnwPXnFXaKAKRvrwCIjRromT748yL93z3+fn14zSi9uzJMh0i5CxglG3xYlIPAX58jPXnHvirlFAFA6heiFZRod2XLEGPzIdwHrnfjB+ueKk+13X2gw/wBl3GwLnzd8e0nGcY3Z68dP05q3RQBQ/tC98gy/2Hd7w4Xy/Mh3EY+9nfjHbrnnpT/tl35sKf2Tc7ZApd98WIyeoPzZOPYH2zVyigCkL68KSsdFugY8bV8yLMnPb5+PXnFDX14FiI0W6Jk++BJF+75xz8/PrxmrtFAFMXl2ZZo/7JuQsYYo++LEhHQD5sjPbIHvimm/vRAso0O7LliDH5kO4D1zvxj8c1eooAqfa7r7SYf7LuPLAz52+PaTjOMbt3Xjp+nNMF/emBpTod2HDACPzIdxHrnfjH45q9RQBU+2Xfmwp/ZNztkALvvixGT1B+bJx7A0wX16UlY6LdAx42r5kWZOe3z4Hrzir1FAFFr68CRMNFuiZM7lEkWY+cc/Pg568Zp/2y782WP+ybnbGCVffFiQjoB82Rn3Aq3RQBiaTfX6aVHIfDlxFIZpgYI2jXaN5w3zP369eue2K0Ptd19q8j+y7jy8Z87fHs6Z6bt3Xjp19uai0EAaYuLv7SPNm/ec8/vW45546fhWhQBRF/emFpTod2HVgBGZIdzD1B3449zTvtl35sUf9kXO2QKWffFiMnqD8+Tj2B9s1cooApC+vCsrHRboGP7oMkWZOccfPx684oN9eBImGi3RMhO5fMizHz3+fBz14zV2igCp9su/NmT+ybnbGpKPvixIR0A+bIz7gUw396IBKNDuy5YqY/Mh3AY6534x+OavUUAVPtd19oEP9l3GwjPm749oOM4xu3deOn6c0wX96YWlOh3YcMAI/Mh3Eeud+Mfjnmr1FAFM3t2JIUGkXJWQKXffFiLPUN8+TjvgH2zSC+vCJidGuh5f3B5kX7znHHz8evOKu0UAUmvrwJEw0W6YyZ3KJIsx89/nwfXjNO+2XXmyx/2Tc7Y1YrJvixIR0A+bIz7ge+Kt0UAUft975Al/sO7379vleZDuxj72d+Mduufani7ujcCH+y7gIVz5u+PaDjOMbt3Xjp+nNW6KAKK396YWlOh3YdWAEZkh3MD3B3449z3pxvbsPCv9kXJEgBdt8WIiT0b58nHXjNXKKAKQvrzEx/sa6Hl/cHmRfvOccfPx684pHv71Y4nXRLpmfO5BJDmPB75fBz14Jq9RQBU+2XXnSRf2VcbEBKyb49shHQAbs8+4HvTDf3vkCX+w7suW2+V5kO4DH3s78Y/HNXqKAKgu7o3IgOlXAjIBM2+PaOM4xu3deOnX25qNdQvWheQ6HdqykARmSHLZ6kfPjj3I61fooAp/bbvfCv8AZFziQAu2+LEWT0b58nHtmkF9eETH+xroeX9z95F+85xx8/HrzirtFAGRqt9ff2RMyeH7id5IZQYC0ZxgcBgH5B9FJNWo7y7DNH/ZFwFRMq4ePa5A+6BuyPxApdYwdJvQZ/IH2aT97z+7+U/Nxzx14qzD/qk+bd8o59eKAKhv73yBL/Yl2XLlfK8yHcBj72d+Mduufani7ujcJCdKuAjAEyl49qnGcEbt3HTgVbooAorf3pheQ6JdhlIAjMkO5ge4+fHHuRTvtt35kKf2Pc7ZApdt8WIsnkN8+Tjrxn2q5RQBSF9eEzA6NdDywdh8yL95zjj5+PXnFI1/eiKNxol0WckMgkhymO5+fHPsTV6igCoby6E0sY0m4KIpKyb49shA4AG7IJ9wPemfb73yPN/sO7379vleZDuxj72d+Mduufar1FAFQXl0Z0iOlXARlBMu+PapxnBG7PtwKYt/emF5Dol2rKQFjMkO5we4+fHHuRV6igCkb28DQqNHuiJAC53xYi5xg/Pzjrxml+23e6Yf2Pc4izsO+L97zj5fn49ecVcooAotf3qxRuNEu2Z87kEkOUweM5fHPsTTzeXQnki/sq4KICVl3x7XIHAA3Z56cgVbooAo/b73yPN/sO7379vleZDuxj72d+Mduufani7ujcJD/ZVwEZQTLvj2qcZwRuz7cCrdFAFFL+9aGSRtDu1ZCu2MyQ5fPXGHxx7kdeM077bd5hH9j3OJAN53xfuucfN8/PrxmrlFAFIXt5mYf2Pcjywdh8yL97zj5fn49ecUj396sMci6Hdszlt0YkhymOmcvjn2J6c4q9RQBUN3dC4eH+y7goqkiXfHtY4zgDdn25Apn2+98jzf7Du9+/b5XmQ7sY+9nfjHbrn2q9RQBUF5dGeOI6VcBHALS749qEjkEbs8dOAaYt/etFJIdEu1ZMbUMkOXz1xh8ce5FXqKAKf2273Qj+x7nEuN53xYi5x83z8+vGa8c/aX+MPir4VaL4VvtB8OWkzat4rstJlbUUEiGJ1lbdGI5VKvmNSC3A5yK9vryP8AaO+E158XND8KabZa5a6W2i+KbHV2e4jdxKI1kTy129GJkGCeOOa5Mcqzw8lQ+Lp959BwrLLoZxQlmtvYXfNdNq1na6Wu9j05r+9EKSDRLtmYkNGJIcoB3Pz459iaeby6E7xDSrgoqkiXfHtY4zgDdnnpyBVuius+fKP2+98jzf7Du9+/b5XmQ7sY+9nfjHbrn2p4vLozRRnSbgI6gtJvj2xkjkEbskj2B9qt0UAUVv70xSOdEugyEBUMkOXz3Hz449yKU314DCBo10fMALnzIv3fOOfn59eM1dooAggnmlklSWylgWNsI7shEg55G0kjp3A61PRRQAUUUUAeD/Hv4MajqXiix+Nfw4+MMXwx8aadY/2VcaleQxXGnalY7y6291DKwU7XLFXHzDcevy7eQ+Gnw/uvEPxP0L4g/Hn9p/wx8Qdb0CRx4Z0HR/stnp9ncyoY2n8pHL3E+1iFLDK5OM8Y5740aP8AAnXP2vxZftN6zoNzoJ8H2x8LWOs6qsdlb3i3Ev2rzIt4VJXRoirSAB1DBSSmF7vwT8Pv2CdO8XaRfeALH4Tr4kgu45NLbTr61a6FyD8nlBXLF89MDNAH0bRRRQAUUUUAFFFFAHnP7SH/ACbv8Uv+xL1v/wBIZqT9mv8A5N0+Ff8A2JWh/wDpDDS/tIf8m7/FL/sS9b/9IZqT9mv/AJN0+Ff/AGJWh/8ApDDQB6PRRRQAUUUUAFeG/HeC9k+MnwKmt9REEEXiS/M8HlK32gGwkCjceV2nDcdcYr3KvBvj8unn43fAE3WnSz3I8S6l9mnWIstuf7Pk3Fm/h3LlRnqTigD3miiigAooooAKKKKACiiigAooooAKKKKACiiigAooooAKKKKACiiigAooooAKKKKACiiigClE0Z1m5QQ4kFrAWk3H5gXlwMdsYJz/ALXtV2qsZm/tOcNMpi8iLbHu5Vt0mWx2yNoz/sn0q1QAUUUUAFFFFABRRRQAUUUUAFFFFABRRRQAUUUUAFFFFABRRRQAUUUUAFFFFABRRRQAVm6M8LtqHk2/lbb2RX+YtvbC5bnpn09q0qo6Wbgm8+0XKS4un8va2diYGFPoRzx70AXqKKKACiiigAooooAKKKKACiiigAooooAKKKKACiiigAooooAKKKKACiiigAooooAKKKKAM3w+8Mmlo9vb+QnmzDZuLYIlYE5Pqcn8a0qo6Mbg6epurlJ5PMly6tuBHmNgZ9hgfhV6gAooooAKKKKACiiigAooooAKKKKACiiigAooooAKKKKACiiigAooooAKKKKACiiigCnrLRpo9880PmxrbSl49xXeNpyMjpn1qzCQYUIGBtGB6cVBqhmGmXZt5lhl8iTZIzbQjbThie2Dzmp4s+Wm45O0ZPrQA+iiigAooooAKKKKACiiigAooooAKKKKACiiigAooooAKKKKACiiigAooooAKKKKACvnb9tXxBr3h7wr4An0DW7/AEyS58d6bbzPZ3LwtLEY5iUYoRuUlVODxkD0r6JrzH48eFvhx4r0fw1bfEnW7bTLWy8SWd5YPPfraiW8UOFjUt99ihkwg5OPauPMKcquGnCDs31vbr3PpOEMZQwGd4fE4mDnCLd4qPM37rWkep6dRRRXYfNhRRRQAUUUUAFFFFABRRRQB8vftP8Ai/4OaJ4uk065/Zq0v4teOLTQn1zUUk060/4lukQlgJri7uEIUEq4SMbmOG4HGX+GP+Gd9Dh+CPj2x/Zx8J6I/wAURaTafqVnpdmr6Lfz2P2y2jLrGrsW2uiyLjDKMgZqp+0Z4Q+Kfg/xz4w+JvgH4f3njnSPH3gd/COq2GmSIuoabcxi4+z3SRuQJoj55V0U7hjdyOK5f4M+HvjH8WbH4H+DPFXwk1nwJ4R+Ddppd9qV9ruyK71bVrKx+zQxW0IYssIdmkZ3HIAHynqAfaNFFFABRRRQAUUUUAec/tIf8m7/ABS/7EvW/wD0hmpP2a/+TdPhX/2JWh/+kMNL+0h/ybv8Uv8AsS9b/wDSGak/Zr/5N0+Ff/YlaH/6Qw0Aej0UUUAFFFFABXh3x3XUz8Y/gW1pLbrar4kv/tayKS7D7BJs2EHAO7Gc9q9xrwT4/vo6/G/4AJfXDpev4l1L7CgdwJG/s6TfkD5ThMn5vw5oA97ooooAKKKKACiiigAooooAKKKKACiiigAooooAKKKKACiiigAooooAKKKKACiiigAooooApRGD+2bkKr+d9lg3En5du+Xbj3zuz+FXaqxi5/tKdmQeQYIgjYGS+6TcM9em325+tWqACiiigAooooAKKKKACiiigAooooAKKKKACiiigAooooAKKKKACiiigAooooAKKKKACs3RjbFtQ+zLIuL2QSbyDl8LkjHbpWlVLTFvFN59rjCZunMWABmPAweOvfrzQBdooooAKKKKACiiigAooooAKKKKACiiigAooooAKKKKACiiigAooooAKKKKACiiigAooooAzfDxtjpaG0WRYvNmwJCC2fNbPT3zj2rSqlo63i2Ci+jCTeZLkAADb5jbenH3cVdoAKKKKACiiigAooooAKKKKACiiigAooooAKKKKACiiigAooooAKKKKACiiigAooooApa0YRo98blXMQtpfMCHDFdhzjPfFWoceSm3ONoxn6VDqYuG027W0QPOYJBEpAIL7TgYPHXHXip493lpvGG2jP1oAdRRRQAUUUUAFFFFABRRRQAUUUUAFFFFABRRRQAUUUUAFFFFABRRRQAUUUUAFFFFABXzP+3Z/wAih8Ov+yg6Z/6KuK+mK8w+PfxH8MfDbRvDV/4p0A6tFqviSy0y3QW0U3lTOHYSYk4XCow3D5hniuLMYRqYWcZy5V3+Z9RwZiq2Cz3D18PSdWcW7QTs37r6v7z0+iiiu0+XCiiigAooooAKKKKACiiigDyD4o/C746eLvFH9r/D39pK78EaT9nji/suLwzZ3y+aM7pPNm+b5sjjoMV5NqWlftM/CH4ufDdfHv7UU/iPwZ4o1xNGniHhaxtpWvCjSQwPsGRFKsUiGRWDI2z5SCSvY/HPQbjUfHBuYv205/hev2OJf7BSfTkHBb99i4O/5vy+XiuT8GeAvg7YeN9E8f8AxU/bMHxI1DwzM11o1rq3iPTobC0uCjJ5/wBniIDSgM21ieM9MgGgD6zorK8O+KvC/i+yfUvCfiTS9bs4pTA9xp15HcxrIAGKFoyQGAZTjrhh61q0AFFFFABRRRQB5z+0h/ybv8Uv+xL1v/0hmpP2a/8Ak3T4V/8AYlaH/wCkMNL+0h/ybv8AFL/sS9b/APSGak/Zr/5N0+Ff/YlaH/6Qw0Aej0UUUAFFFFABXh3x2l1BPjH8C47a1jktpPEl+LmRpNrRAWEhUquPmy2B2x1r3GvCPj4LT/hdfwEM2rSW0w8S6j5NsswVbo/2fJkMp5faPm46YzQB7vRRRQAUUUUAFFFFABRRRQAUUUUAFFFFABRRRQAUUUUAFFFFABRRRQAUUUUAFFFFABRRRQBSiWH+2rlhIxlNrAGXHAXfLg59zu/L3q7VSPzP7VuM24CfZ4cS7eWO6TK5744OO273q3QAUUUUAFFFFABRRRQAUUUUAFFFFABRRRQAUUUUAFFFFABRRRQAUUUUAFFFFABRRRQAVm6Kturah9nlZ83shk3Lja+FyB6jpzWlVDSvNze+baLB/pb7cIV8xcDDn1J9fagC/RRRQAUUUUAFFFFABRRRQAUUUUAFFFFABRRRQAUUUUAFFFFABRRRQAUUUUAFFFFABRRRQBm+Hlt00tFtpWkj82fDMu05818jHscitKqGieb/AGcvnWi2z+ZL+7VCoA8xsHB9Rg++av0AFFFFABRRRQAUUUUAFFFFABRRRQAUUUUAFFFFABRRRQAUUUUAFFFFABRRRQAUUUUAUtaWJtHv1nkKRG2lDsoyVXYckDvxVqHAhQKcjaMH8Kr6r5n9l3nlW4nf7PJtiK7hIdpwpHfPTFWIs+UmV2naOPSgB9FFFABRRRQAUUUUAFFFFABRRRQAUUUUAFFFFABRRRQAUUUUAFFFFABRRRQAUUUUAFfP37ZPhHxL4w8L+BLXwxotzqUtl44027uEgXcY4Qkylz7Aso/EV9A14v8AtQ/FPxH8KfD/AIP1Hw3b6fNLrHi2x0m4F5CZFWGRZWLIAww4Ma4POPSuLMVTeFmqraj1tvufUcFzxkM9w8svjGVW75VJtRfuvdrXa57RRRRXafLhRRRQAUUUUAFFFFABRRRQB8b/ABX8J/AXxj+2s2lftDaL4cjtI/BlnN4aOrqlvDqd2bqVZ98x2+e8aiNVhZioDswXJzXOfFL4O/si2Xx3+FXh74X+AfA2seINa1qSy13w9YwQ3ds2jG3kaa6nhG5IHidYmRxsZssPmGQPUP2tviH4DuXm+Ft98Arf4u6zpmiz+J9Qsblobe30bTV3A3LXUoJjkcxsFSL52CnoMZi+Ed38Ffg7oHwc8ReAvgbpHhe0+M9vaxS6hZyLJPp91dWAu4LaSR1MsyOVdAdwAZVO35uAD33wJ8OPAXww0ibQPh34P0nw5ptxcteS2um2qQRPOyqhkKqACxWNBn0UeldHRRQAUUUUAFFFFAHnP7SH/Ju/xS/7EvW//SGak/Zr/wCTdPhX/wBiVof/AKQw0v7SH/Ju/wAUv+xL1v8A9IZqT9mv/k3T4V/9iVof/pDDQB6PRRRQAUUUUAFeF/Hl2X4z/AdBpRuA3iTUM3I24tf9Ak555+b7vy+vPFe6V4Z8eI7pvjL8CXh1JYIU8Sah51uY1Y3A+wSYAJ5Xafm464xQB7nRRRQAUUUUAFFFFABRRRQAUUUUAFFFFABRRRQAUUUUAFFFFABRRRQAUUUUAFFFFABRRRQBTiA/te5b7QCTbQjyufl+aX5vTnp/wH6VcqlEY/7YuVEJDi2gJkycMN8uFx7cn/gXtV2gAooooAKKKKACiiigAooooAKKKKACiiigAooooAKKKKACiiigAooooAKKKKACiiigArO0dQrX+LoT5vJD3/d8L8nPp7cc1o1naO0TNf8AlWxhxeyBssTvbC5bnpn09qANGiiigAooooAKKKKACiiigAooooAKKKKACiiigAooooAKKKKACiiigAooooAKKKKACiiigDP0FQumIBdC4/ezfvBnn963HPPHT8K0KztAaJtMQw2xgTzZvkLFsHzWycn1OT+NaNABRRRQAUUUUAFFFFABRRRQAUUUUAFFFFABRRRQAUUUUAFFFFABRRRQAUUUUAFFFFAFPWAG0m9BnEANtIPNOfk+U/Nxzx14qzF/qk+bd8o59eKrayUXSL5pYTMgtpS0YJBcbTlcjpnpVmHHlJgYG0cenFAD6KKKACiiigAooooAKKKKACiiigAooooAKKKKACiiigAooooAKKKKACiiigAooooAK8i/aQ+E2ofFzQvCmm6frdnpraL4psdXd7pXYSrGsieWu0H5iZBjPHFeu185ftt6xq2j+E/h9LpGqXdi8/j3TIZWtp2iLxmOclWKkZXIBweOBXFmMqccLN1VePVbdT6jguli62fYangaip1W3yya5kvdfTrofRtFFFdp8uFFFFABRRRQAUUUUAFFFVtS1LT9H0+51bV763srGyhe4ubm4kEcUMSAszuzYCqACSTwAKAPlf8AaH8O/ETw58SfGXjP4X+FofHg8beBP+EW13QLG/hi1TS2H2j7LfpHIw82E+cyMgw2QGGRkDC+DHhL43fFG0+CnhDx18J77wF4P+DVnpt5eXOrTxm91rVrOx+zQLBEhJihVi0jM/LDaBg5rf8AilqHx88BftHy/FX4K/AP/hPNC8QeGbHStRuW8T2VjFdNHLJJA0BkO9HUSsCSHVwy42lST2Hg/wCN37TmueKdK0fxR+xrf+HdIvLqOG91Z/HGnXS2UJOGlMSLuk2jnavJoA9/ooooAKKK4D41/HH4e/s/+C38dfEbUpbaw89LaGK3i824uJWydsceQWIUM59FVielAHf0VyafFLwSnwwtvjFqWsJpnhW50eDXTeXo8vyrSWJZEZ15Iba6jaMnJwMmuD+Hn7W3wh+I/irTvBunt4j0bUdche50Qa9oVzp0WrxIoZmtZJVCyfKQ2MhiDkCgDov2kP8Ak3f4pf8AYl63/wCkM1J+zX/ybp8K/wDsStD/APSGGl/aQ/5N3+KX/Yl63/6QzUn7Nf8Aybp8K/8AsStD/wDSGGgD0eiiigAooooAK+fP2gNT0GP4/wD7P2j3lsZdUl17VLmzfy8iFEsWWRtx6Z8xVwMk7vTJr6Dr5c/aM/5O5/Zt/wCvrXv/AEnhrrwVCOJquE9uWT+6La/I7svw0MXWdOe3LN6d4xcl+K1PqOiiiuQ4QooooAKKKKACiiigAooooAKKKKACiiigAooooAKKKKACiiigAooooAKKKKACiiigCpGZf7UnBnUx/Z4tsW7lW3SZYjsDwM99p9Kt1Si8j+2rnaH877LBuJI27d8u3HfOd2fwq7QAUUUUAFFFFABRRRQAUUUUAFFFFABRRRQAUUUUAFFFFABRRRQAUUUUAFFFFABRRRQAVR0szk3vnXST/wClvs2vu8tcDCH0I9Per1Zui/Zt2ofZhKP9Ok8zeQfnwucY7dKANKiiigAooooAKKKKACiiigAooooAKKKKACiiigAooooAKKKKACiiigAooooAKKKKACiiigCjopnOnr9oukuH8yXMiPuBHmNgZ9hgfhV6s3w99mOlp9kEoi82fHmEFs+a+enbOce2K0qACiiigAooooAKKKKACiiigAooooAKKKKACiiigAooooAKKKKACiiigAooooAKKKKAKuqeaNMu/JnWCTyJNkrNtCNtOGJ7Adc1PFny03Nk7Rk+tVda8n+x7/7SHMP2aXzAhAbbsOcZ4zirUO3yU25xtGM+mKAH0UUUAFFFFABRRRQAUUUUAFFFFABRRRQAUUUUAFFFFABRRRQAUUUUAFFFFABRRRQAV5b8f/DXw28TaN4Zt/iZr0Ol2tp4lsrvT3kuxbiW8UOFjBIO4lDJhe+PavUq+Z/27P8AkUPh1/2UHTP/AEVcVxZjUVLCzm4p26Pbc+o4Lwc8fn2Gw1OrKm5N+9H4l7ren5H0xRRRXafLhRRRQAUUUUAFFFFABXl/7Uqs/wCzR8V1RSzHwVrQAAySfsUteoUhAIIIyD2oA/Pj4sftj/s9eJfh18INC0XxtPcXvhfxl4S1XVY/7JvF8i1spUa5fJiAbaAeFyT2Br6N8IftzfsyeOvFGl+DfDHxBmu9W1m6js7KA6PexiSZzhV3PEFXJ7kgV7v5EH/PFP8AvkUohhU5ESAjuFFAD6KKKAGySJEjSyuqIgLMzHAAHUk18EfGHX9H/aC+Gvxe+P2q6xZN4b0HwxrGgfDvTZZ13yfI0d5qwTOd07L5UXGREhP8dfetxBDdQSW1xGJIpkMboejKRgg/hXzN8Wv2CvgFr/wy8T6J8N/hB4U0rxTe6ZPBpF7Iska290yERuWG4qA2DkKfpQB5x8WZ9P8AEf7In7Nfg2S7hutH8Q674E0XW4I5AySwG3jZ4JMHuyJkHuBXo37ftpbWPwl8KeKrOJItV8L+OtAvdJlQAPFL9pEZVCOQCrHIHBwPSpT+xh4Zb9lmw+Cmhwaf4U8TwQaZq7avpoZkj8SWsMQN6CcFgzxlScAlGOADjEOo/Bz9pD42eIfBVj+0Hd+BNO8I+DdWg1+5tvDVxdTT65f24PkCTzo1WGEMSzIC2enoVAPWf2kP+Td/il/2Jet/+kM1eXfstfEP40XXwv8Ahj4ev/2fbiz8Op4U0yFPEB8TWTrJClgnlTfZx+8HmbU+U8rv56GvUf2kP+Td/il/2Jet/wDpDNSfs1/8m6fCv/sStD/9IYaAO4N5qnnQINGbZIqmV/PT90T1GO+PbrTVvtWInLaGwMf+qH2hP3vOPw455rRooAzmvtWEULrobF3J8xPtKfu+eOe+evFP+2an588f9jt5casYpPPT96R0GOoz71eooAzft+sfZhL/AGC3m+YVMX2lOFx97PTrxivmf9oaa5f9rv8AZxEtmYws+uFT5gO8m2hyOOmDx719VV8uftGf8nc/s2/9fWvf+k8NejlX+8P/AAz/APSJHrZL/vT/AMFT/wBNyPpFb/WDbvI2gsJVYBY/tKfMO5z0GP6043uqCS3UaKxSRVMrfaE/dEnkY/iwOeK0KK848kzxe6qfPzojDy/9V/pCfvecfhxzzSPfausULroTM758xPtKDy+eOe+RzxWjRQBR+2al9omj/shvKRWMcnnp+8I6DHUZ96j+36x9mEv9gt5u/b5X2lPu4+9np14xWlRQBSF3qJu1hOkkQlcmbz14O3ONvXrx+tRJf6wYJJG0FlkUqFj+0od4OcnPQY4/OtKigCgb3VN9uo0ZtsgBlb7Qn7o55H+1gc8UgvtVxPnRGHl/6r/SE/e84/DjnmtCigDNkv8AWFgikTQWeR92+P7Sg8vB456HPtUhu9SFzLENIYxIrFJfPX94QOBjqM+9XqKAM03+sfZhKNBYyl9pi+0pwuPvZ6e2KkW71I3aQnSWEDAFpvPX5TjJG3qcHir1FAGal/rDQSSPoLLIpUJH9pQ7wepz0GKf9s1TzLdf7GbbIAZW+0J+6JPIx/Fgc8VfooAzxfaqfPzojDyx+6/0hP3vOPw455prX2riCKRdCZpHLB4/tKDywOhz0Ofb0rSooAom81IXEsQ0hjEikpL56fvCBwMdRnpzUf2/V/sol/sFvO8zb5X2lPu4+9np14xWlRQBRF3qRuY4jpDCJlBeXz0+QkcjHU4PFRrf6uYJJG0FlkUgJH9pT5wepz0GK0qKAM83uqiSBRojFZAplb7Qn7ok4Ix3wOeKBe6rvnB0RgsYJiP2hP3pzgD2yOea0KKAM1r/AFcQxOuhM0jkh0+0oNg7HPQ59qkN3qQuZYhpDGJFYpL56/OQOBjqMnjmr1FAGJHfa99onmbQP4IlSL7RHuPMhZt3p90Y9zjvV0XepG5jiOksImUF5fPX5DjkY6nniliEP9tXLK7GU2sAZccBd8uCD653fkKu0AZqX+rmCWRtBZZEKhI/tKHeD1Oegx/WnG91UGADRGIkA80/aE/dc4/HjnitCigDP+26puuB/YrYjB8o/aE/e88f7vHPNNe/1hYIpE0Fnkfdvj+0oNmOnPQ59q0qKAKJu9SF1JCNJYwqpKTeevznGQNvUZPFR/b9Y+zeb/YLebv2+V9pT7uPvZ6deMVpUUAURd6kbqKI6SwhdQXl89fkJHIx1ODxUcd/rDQSyPoLJIm3ZH9pQ+Zk889Bj3rSooAz/tuq5tx/YrYk/wBaftCfuucf8C454oF7qhacHRWAjBMR+0J+9OeB/s8c81oUUAZr3+sLbxyJoLNIxYPH9pQbAOhz0Of6VKbvURdPCNJJhVSVm89fmOM4x1HPFXaKAM37frH2Xzf7BbzvM2+V9pT7uPvZ6deMVILzUvtMUR0hhE6qZJfPT92SORjqce1XqKAM1L/VzFM7aEyuhHlp9pQ+Zzzz2x7043uq7rcDRWIkA80/aE/dc4/4FxzxWhRQBni91QyTqdFYLGrGJvtCfvSDwMfw5HPNNa/1cW8ci6CxkZiGj+0p8oHQ56HP9K0qKAKJu9SF08Q0hjCqkrL56/McZAx1HPFR/b9Y+ymX+wW87zNvlfaU+7j72enXjFaVFAFEXmpmeGM6OwjdVMknnp+7J6jHU49qYt9q5hmdtCYOhAjT7Sn7wE8nPbHvWjRQBnNfasPIxojHzB+9/wBIT91zj8eOeKd9s1TzbhP7GbZGGMT+en70g8DH8Ofer9FAGa9/rAt45F0FmkYkNH9pQbQOhz0OagsLnWUvL2GbSVMH2iRoplljGV2jaCo5yTxk1s1m6Kturah9nkd830hk3LjD4XIHqOnNAAL/AFc2zSnQWEocKIvtKcrj72en4VILzUjcQxnSGETqpkk89P3ZPUY6nHtV6igDNS/1doZnfQmV02+Wn2lD5mTzz2wOeaU32rbYCNDYmTPmj7Qn7rnH48c8Vo0UAUPtmp+ZcL/YzbY1Jibz0/ekHgY/hz70xr/WBbpIugM0jMwaP7Sg2gYwc9Dnn8q0qKAKRu9RF2YRpJMAXIm89eTtzjb168frUQv9YNsZToLCUOFEX2lOVx97PT8K0qKAKP2zU/tEMf8AY7eW6qZJPPT92T1GOpx7daYl9qzRzs2hsrx48tftCHzOeee2BzzWjRQBnG+1UCAjRGJk/wBaPtCfuuf1454pwvdUMtwh0ZgkasYn+0J+9IPAx/Dkc81fooAzWv8AWBbrKNAYyliGi+0p8o4wc9OeePapfteo/ajD/ZJ8kLkTeevJxnG3r14q7RQBmC/1j7MZf7AbzQ4URfaU5XB+bPTrgY96k+2an50Cf2O3lyKplfz0/dE9Rjqce3Wr9FAGct9qxSZm0Ng0ePLX7Qn7zn17cc80NfasFgK6GzGT/Wj7Qn7rn9eOeK0aKAKAvNTM08Z0dhHGrGKTz0/ekdBjqM+/SmNf6wLdZRoLGUsQYvtKfKOxz0/CtKigCl9r1H7WYf7JPkAZE3nryducbevXiolv9YNu0p0FhKGAWL7SnzDuc9OPStKigCgLzU/OgT+x22SKplfz0/dE9Rjvj2pq32rGOdjobBoyPLX7Sn7znnntgc81o0UAZzX2rCOBl0NmaTPmL9pT93zgc98jnin/AGzU/Onj/sdvLjVjHJ56fvSOgx1Gfer1FAGFpt7r0elRvPoQa4M0oaNJ41CrvJU5HHQ/pV/7XqP2zyP7JbyMZ8/z1xnbnG3r14/Wo/Dy266UgtZHePzZ8M67TnzXzx9c1pUAZq3+sG3eVtBYSqwCxfaU+YdznoMU/wC2an50Ef8AY7eXIqmWTz0/dE9Rjqce1X6KAM5b7Vik5bQ2Vo8eWPtCfvecfhxzzQ19qwjhYaGxeQnzF+0p+754575HPFaNFAFH7ZqfnTp/Y7bI1YxP56fvSOgx2z71Gb/WBbLKNBYylypi+0pwuOGz0/CtKigCl9r1H7UIf7JbySoJm89eDjONvXrxUQv9YNu0p0FhKGAWL7SnzDuc9OPT3rSooAoG91QSwINGYpIqmV/tCfuiTyMfxY9utIL7VSJydEYGP/VD7Qn73nH4cc81oUUAZzX2rCOFl0NmaTPmL9pT93zxz3454p32zU/Pnj/sdvLjVjHJ56fvSOgx1GffpV+igDNN/rH2YS/2C3m79pi+0pwuPvZ6deMVKLvUftQhOksISuTN568HbnG3r14q7RQBmrf6wbd5G0FllVgFj+0p8wOcnPQY4/Onm91TzLdRozFZFBlb7Qn7ok8jH8WBzxV+igDPF9quJydEYGP/AFQ+0J+95x+HHPNI99q6wwumhMzyZ8xPtKDy8Hjnvkc8Vo0UAUftepfaJov7IbykVjHL56/vCBwMdRn3qM3+sC2Eo0FjKXKmL7SnC4+9np+FaVFAFEXepG8WA6SwgIBM3nrwducbevXio0v9YaCSRtAZZFKhI/tKHeDnJz0GOPzrSooAofbNU8y3X+xm2yAGVvPT90SeRj+LHtTRfasRPnQ2Hl/6r/SE/e84/DjnmtGigDG1O91w6S7WuhbriSKUFGnjIjOPlJzwwPp7c1ZS71QSPEdIOxIyUk89MSMBwMds0/WhC2jX63DskRtpQ7KMkLsOSB3OKtQ48lNpJG0Yz9KAKBv9Y+zCUaCxlLlTF9pThcfez068YqQXepG7SE6SwhYAtN56/KcZI29Tg8VeooAzVv8AVzBJI2gssisAkf2lPnB6nPQYp323VPNt0/sVtkgUyv8AaE/dEnkY/iwOeK0KKAM8X2qkzg6IwEYPlH7Qn73nH4cc801r7VxDE66ExkckOn2lP3YB4Oe+fatKigCibzUhcTRjSGMSKxjk89P3hA4GOoz71H9v1j7L5v8AYLed5m3yvtKfdx97PTrxitKigCiLvUjcxxHSGETKC0vnr8hxkjHU4PFRrf6uYJJG0FlkVgEj+0od4PU56DFaVFAGeb3VQ8AGisVkAMp+0J+6OeR74HPFH23VN1wP7FbEefKP2hP3vOB/u8c81oUUAZr3+rrDE6aEzSPu8xPtKDy8Hjnoc+1SG71IXUsQ0hjCisUl89fnIHAx1GTxV6igDN+36x9m83+wW83ft8r7Sn3cfez068YqQXeom6jhOksIWUFpvPX5TjJGOp54q9RQBmpf6w0Esj6CySIV2R/aUO/Oc89Bjjr6043uq7rcDRWxIB5p+0J+65/8e454rQooAzxe6rm4B0VsRg+UftCfvef/AB3jnmmvf6wsEUiaCzyOW3x/aUGzGMc9Dnnp6VpUUAUTd6l9qkhGksYVUlZvPX5jjIGOo54qP7frH2bzf7Bbzd+3yvtKfdx97PTrxitKigCiLvUjdRxHSGELqpeXz1+QkcjHU4PFRpf6u0Msj6EyyIV2J9pQ+Zk889Bj3rSooAz/ALbqm+3H9itiTHmn7Qn7rnB/3uOeK8w+PHxT034caXoF54q8Df2pb6l4ktNMs8+RMFmfeVkw/wBz5Ub5hyM16/Xz9+2R4Q8TeMPC/gS18MaLc6lLZeONNvLhIFyY4VSZS59gWUfiK48fOpTw0pUleXTS/XsfR8I4XCYzOqFDHy5aTb5nzctvdf2tLant7X+riCORdBZpGYh4/tKDYB0Oehz/AEqQ3epC5kiGkMYlUlJfPX5zjIGOoyeKvUV2Hzhm/b9Y+y+b/YLed5m3yvtKfdx97PTrxipFvNSNxDGdIYROqmSTz0/dkjkY6nHTir1FAGat/q5hldtCZZEICJ9pT94CeTnoMe9ON7qoMAGiMRIB5p+0J+65x+PHPFaFFAFa1nu5Zp0uLEwJG2InMit5oyecDp0HX1qzRRQAUUUUAFFFFABRRRQAUUUUAFFFFAHnP7SH/Ju/xS/7EvW//SGak/Zr/wCTdPhX/wBiVof/AKQw0v7SH/Ju/wAUv+xL1v8A9IZqT9mv/k3T4V/9iVof/pDDQB6PRRRQAUUUUAFfLn7Rn/J3P7Nv/X1r3/pPDX1HXy5+0Z/ydz+zb/19a9/6Tw16OVf7w/8ADP8A9Iketkv+9P8AwVP/AE3I+o6KKK848kKKKKACiiigAooooAKKKKACiiigAooooAKKKKACiiigAooooAKKKKACiiigAooooAqRl/7WuAbdQn2eHEu05Y7pMrnoccHHbcfWrdU4wP7XuD9oyfs0P7rn5fmk+b056f8AAfpVygAooooAKKKKACiiigAooooAKKKKACiiigAooooAKKKKACiiigAooooAKKKKACiiigAqhpJlJvvMtFgxduF2oV8xcD5znqT6+1X6z9IADX2Lvz83kh7/ALvhfk59PbjmgDQooooAKKKKACiiigAooooAKKKKACiiigAooooAKKKKACiiigAooooAKKKKACiiigAooooAoaGZG05TLaLbN5s37tUKgDzGwcH1HPvmr9Z+hADTUAu/tP72b95zz+8bjnnjp+FaFABRRRQAUUUUAFFFFABRRRQAUUUUAFFFFABRRRQAUUUUAFFFFABRRRQAUUUUAFFFFAFTVi40q8Mdus7i3k2xMpYSHacKQOTnpirEWfKTK7TtHHpVfVwDpN6DceQDbyfvef3fyn5uOeOvFWIf9UnzbvlHPrxQA+iiigAooooAKKKKACiiigAooooAKKKKACiiigAooooAKKKKACiiigAooooAKKKKACvFv2o/ij4k+Ffh/wAH6j4ahsJJdY8XWGk3AvIDKohkSViVAIw4Ma4Pb0r2mvJP2jfhLd/F3Q/Cum2mu2ulnRfFFlq7PcRM4mEayJ5S7ejEyDBPHFcmOVV4eSofF0t6n0PCk8vp5xQlmtvYXfNdXVrO10r9bHrdFFFdZ88FFFFABRRRQAUUUUAFFFFABRRRQAUUUUAFFFFABRRRQB5z+0h/ybv8Uv8AsS9b/wDSGak/Zr/5N0+Ff/YlaH/6Qw0v7SH/ACbv8Uv+xL1v/wBIZqT9mv8A5N0+Ff8A2JWh/wDpDDQB6PRRRQAUUUUAFfLn7Rn/ACdz+zb/ANfWvf8ApPDX1HXy5+0Z/wAnc/s2/wDX1r3/AKTw16OVf7w/8M//AEiR62S/70/8FT/03I+o6KKK848kKKKKACiiigAooooAKKKKACiiigAooooAKKKKACiiigAooooAKKKKACiiigAooooApxMh1i5QQYcW0BMuT8w3S4XHTjBP/AvpVyqsfm/2pPmdTF9nh2x7uVbdJlsdgRgZ77T6VaoAKKKKACiiigAooooAKKKKACiiigAooooAKKKKACiiigAooooAKKKKACiiigAooooAKztHeN2v/LtfJ23sgb5id5wvzc9M+g44rRqjpf2jN759yk3+lPs2vu2JgYU+hHPHvQBeooooAKKKKACiiigAooooAKKKKACiiigAooooAKKKKACiiigAooooAKKKKACiiigAooooAztAeN9MRorX7OvmzDy9xOD5rZOTzyefxrRqjovn/wBnr9puUuJPMlzIr7wR5jYGfYYHtjFXqACiiigAooooAKKKKACiiigAooooAKKKKACiiigAooooAKKKKACiiigAooooAKKKKAKesMiaRfNJB5yC2lLR5I3jacrkcjPSrMODEhC4G0cenFQap5v9mXfkTrDL5EmyRm2hG2nDE9sHnNTxZ8tNxydoyc9aAH0UUUAFFFFABRRRQAUUUUAFFFFABRRRQAUUUUAFFFFABRRRQAUUUUAFFFFABRRRQAV85fttaxq+jeFPh/Lo+q3li8/j3TIZWtp2iMkZjnJRipGVyAcHjgV9G15j8evDfw18TaP4at/iZrNtp1raeJLK7095737MJbxQ4WNT/ExQyYXvj2rjzCnKrhpwi7N9Xp1PpeD8ZRy/O8Pia8HOMW7xiuZv3WtF1PTqKKK7D5oKKKKACiiigAooooAKKKKACiiigAooooAKKKKACiiigDzn9pD/AJN3+KX/AGJet/8ApDNSfs1/8m6fCv8A7ErQ/wD0hhpf2kP+Td/il/2Jet/+kM1J+zX/AMm6fCv/ALErQ/8A0hhoA9HooooAKKKKACvlz9oz/k7n9m3/AK+te/8ASeGvqOvlz9oz/k7n9m3/AK+te/8ASeGvRyr/AHh/4Z/+kSPWyX/en/gqf+m5H1HRRRXnHkhRRRQAUUUUAFFFFABRRRQAUUUUAFFFFABRRRQAUUUUAFFFFABRRRQAUUUUAFFFFAFKIw/2zchVfzvssG4k/Lt3y7ce+d2fwq7VWMXH9pzlgvkeRFsPGd+6Td79NvXj071aoAKKKKACiiigAooooAKKKKACiiigAooooAKKKKACiiigAooooAKKKKACiiigAooooAKzdFNsW1D7MsgxeyeZvIOXwuSMdulaVUtMF2DefawoBun8rbt5jwMZx369eaALtFFFABRRRQAUUUUAFFFFABRRRQAUUUUAFFFFABRRRQAUUUUAFFFFABRRRQAUUUUAFFFFAGb4eNsdLQ2iyLH5s+BIQTnzWz09849q0qpaOLsWCi+CibzJchduNvmNt+7x93H9eau0AFFFFABRRRQAUUUUAFFFFABRRRQAUUUUAFFFFABRRRQAUUUUAFFFFABRRRQAUUUUAUtaMI0e/NyHMQtpfMCHDFdhzjPfFWoceSm3ONoxn6VDqYuDpt2LQAz+RJ5QbGN+04znjr68VPFu8tN/3toz9aAHUUUUAFFFFABRRRQAUUUUAFFFFABRRRQAUUUUAFFFFABRRRQAUUUUAFFFFABRRRQAV8z/ALdn/IofDr/soOmf+irivpivMvjv8TPDvww0fw3qHiPRJdSi1fxHZ6VAkcEUpilkDtvIkIA+VGGRyM8VxZjCNTCzjOXKn17an0/BmKr4LPcPXw1J1ZxbtBOzl7r6v7z02iiiu0+YCiiigAooooAKKKKACiiigAooooAKKKKACiiigAooooA85/aQ/wCTd/il/wBiXrf/AKQzUn7Nf/Junwr/AOxK0P8A9IYaX9pD/k3f4pf9iXrf/pDNSfs1/wDJunwr/wCxK0P/ANIYaAPR6KKKACiiigAr5c/aM/5O5/Zt/wCvrXv/AEnhr6jr5c/aM/5O5/Zt/wCvrXv/AEnhr0cq/wB4f+Gf/pEj1sl/3p/4Kn/puR9R0UUV5x5IUUUUAFFFFABRRRQAUUUUAFFFFABRRRQAUUUUAFFFFABRRRQAUUUUAFFFFABRRRQBSiWH+2rlg7GU2sAZdvAXfLg59zu/IetXaqR+Z/atxm3AT7PDiXbyx3SZXPfHBx/te9W6ACiiigAooooAKKKKACiiigAooooAKKKKACiiigAooooAKKKKACiiigAooooAKKKKACs3RVt1bUPIlZ830hfcuNr4XIHqOnNaVUNK83N75tosH+lvtwpHmLgYc+pPr7UAX6KKKACiiigAooooAKKKKACiiigAooooAKKKKACiiigAooooAKKKKACiiigAooooAKKKKAM3w8tumlIttK0kfmz4Zl2nPmvnj2ORWlVDRPN/s9fOtFtn8yX92qlQB5jYOD6jB/Gr9ABRRRQAUUUUAFFFFABRRRQAUUUUAFFFFABRRRQAUUUUAFFFFABRRRQAUUUUAFFFFAFLWlibRr9Z3ZIjbSh2VclV2HJA78Vahx5KbTkbRj8qg1Xf/Zd55VuJ3+zybYiu4SHacKR3z0xU8WfKTK7TtHHpQA+iiigAooooAKKKKACiiigAooooAKKKKACiiigAooooAKKKKACiiigAooooAKKKKACvAf2xPBnijxp4Y8C2vhbRp9RlsPG+m3tykWMxwKkylzkjgF1H4179XjH7T/xU8RfCjw/4Q1Hw5aadcS6z4tsdJnF7C0irDIsrFkCsuHBjXBOR14rizFU3hZqs2o9bb7n0/Bk8bDPcPLLoxlWu+VSuot8r3trtc9nooortPmAooooAKKKKACiiigAooooAKKKKACiiigAoor571b9tb4f6ZNfXlt8NPirqnhvS5ZIr/wAUWPhGZtKtvLYrK5kYrIyIQdzJGwAGaAPoSiuPn+Lvw3tvhifjLL4tsh4MGnjVP7WBJiNuRwwAG4sSQuzG7d8uM8V594E/a9+HPjbxXpHhG+8L+OPCFx4mDN4cufFGhPp9rrgC7v8ARZSzBiVwwV9jEMuAcgUAdX+0h/ybv8Uv+xL1v/0hmpP2a/8Ak3T4V/8AYlaH/wCkMNL+0h/ybv8AFL/sS9b/APSGak/Zr/5N0+Ff/YlaH/6Qw0Aej0UUUAFFFFABXy5+0Z/ydz+zb/19a9/6Tw19R18uftGf8nc/s2/9fWvf+k8NejlX+8P/AAz/APSJHrZL/vT/AMFT/wBNyPqOiiivOPJCiiigAooooAKKKKACiiigAooooAKKKKACiiigAooooAKKKKACiiigAooooAKKKKAKcQX+2LkifLfZoMxYPyjdL83pzyP+A/SrlUomj/ti5UQYcW0BMm4/MN8uFx04wT/wL2q7QAUUUUAFFFFABRRRQAUUUUAFFFFABRRRQAUUUUAFFFFABRRRQAUUUUAFFFFABRRRQAVnaOEDX+y68/N7ITwR5Zwvyc+ntxzWjWdozRM1/wCVbGHF7IG+Yne2Fy3PTPp7UAaNFFFABRRRQAUUUUAFFFFABRRRQAUUUUAFFFFABRRRQAUUUUAFFFFABRRRQAUUUUAFFFFAGdoAQaYgS6+0DzZv3mCM/vW45546fhWjWdoDRPpaNDbGBPNm+QsWwfNbJyfU5P41o0AFFFFABRRRQAUUUUAFFFFABRRRQAUUUUAFFFFABRRRQAUUUUAFFFFABRRRQAUUUUAU9YCnSL4PP5Cm2lzLgnYNp+bjnjrxVmH/AFSYbd8o59eKray0a6RfNLD5yC2lLR7iN42nK5HIz0qzDjykwMDaOPTigB9FFFABRRRQAUUUUAFFFFABRRRQAUUUUAFFFFABRRRQAUUUUAFFFFABRRRQAUUUUAFeS/tGfCa5+Lmh+FdNttet9KOi+KLLV2eaFpBMIxInlAL0JMg5PHHNetV85/ts61rOieFPh/LourXtg9x480yCVrWd4jJGY5yUYqRlcgHB44FcWYypxws3VV49Vt1Pp+DKWLr57h6eAqKnVbfLJrmS919Ouh9GUUUV2nzAUUUUAFFFFABRRRQAUUUUAFFFFABRRRQAV5H+0h8adN+EHglbCx0t9d8YeKvM0rwt4dt0LzaneMuMbR0iTcGkc4AXjOSAfXK+NfDnwM/bN8PfGDxJ8adQT4K+KfEmrs1rp17q+p6qP7I00H93a2sUdrtiGOXYEsxJyxySQDnvix8Jb/4T/skfAr4EeLruG8guPH/h/TPEaxnME0dxeS3E0OT96MSMFBIGQgOBXqH/AAUEghg+CGja7BGo1LQfGvh++0twMNFci7VAU9Dsdxx612/xB+Dnin4+/AKb4efGO60XRfFl032pb/wzJPNa6dewzl7WeBpgkjEKse8ELktIAcYNcPL8Cv2ivi3r3hG0/aO8ZeBZvCXgvVYNbWz8L210lxrt9bg+RJdmbCxIpO9o49ysSRwNu0A9W/aQ/wCTd/il/wBiXrf/AKQzV5p+y34q+Pc3wr+GGlal8H/DVt4WXwnpccesR+L2kuXgWwTyZDa/YwAz4TK+Ydu48tt59L/aQ/5N3+KX/Yl63/6QzUn7Nf8Aybp8K/8AsStD/wDSGGgDujcat5sKjTYPLYKZW+1HMZPUAbPmx9Rn2pq3GskTbtLtwV/1Q+1k7+e/yfLxz3q/RQBQa51oRxMulW5difNX7WQE54wdnzcfSnefqvnTL/Z0HlqrGJ/tJy57AjZ8ufXJx71dooAz/tOt/Zw/9k23nbyDH9sO3bjru2dc9sfjXzN+0PJdt+13+zgJraNALjXChEu7cTbQ7geBjB4zzn2r6pr5c/aM/wCTuf2bf+vrXv8A0nhr0cq/3h/4Z/8ApEj1sl/3p/4Kn/puR9Jrc62YHdtJthKGAVPthII7kts47cYpxuNX8yBRpluUcKZm+1HMZzyANnzYH0z7VeorzjySiLjWP32dMt/l/wBT/pR/ec9/k+XjnvSNc60I4mTSrYu2fNU3ZATnjB2fNx9Kv0UAUvP1Xz5U/s6DylVjG/2k5c9gV2fLn6nHvTPtOt/Z9/8AZNt52/Hl/bDt2467tnXPbH41oUUAUxPqhuljOnwiArlpPtB3A46bdvPPGc+/tUa3OtmB3fSbYSggIgvCQw7knZxjjsa0KKAKJuNX3wAabBtcDzj9qOYznkAbPm4+lILjWf32dLt/l/1P+ln95z3+T5eOe/pV+igDPe51sQxNHpNs0rbvMQ3hATnjB2c5HsMVIZ9U+0SoNPgMKqTHJ9pOXOOAV28ZPfJq5RQBnm51v7OHGk23nb8GP7YdoXHXds657Y/GpBPqhukjbT4BAQN0v2k7lOOcLt5546+9XKKAM9LnWzDIz6TbLKCNiC8JDDvk7OMfQ5p/2jV/MgH9mwbHA85vtRzGc84Gz5sD6VdooAoC41jM2dLtxtH7r/Sz8/Pf5Pl4570jXOtCGJl0q2MjE+YhuyAo7EHZznnsMVoUUAUjPqvnyoNOgMSqTG/2k5dscArs4575NM+0639mD/2Tbefvx5f2w7duOu7Z1z2x+NaFFAFMT6r9ojQ6dAISoLyfaTuU45AXZzzxnIqNbnWzDIzaVbCUEbEF2SGHck7OPyNaFFAFE3Gsb4QNMtyrAecftRzGc8gDZ82Bz2oFxrG6cHTLfagPkn7Uf3hzxkbPl4571eooAz2udbEUbLpVsZGJ8xTdkBR2wdnP5CpDPqv2iRBp0BhVSY5PtJ3MccArs4yfc1cooAxY7nX/ALXcObG1L+XCFtvtpwozJlydnGeBjHO088VeE+qfaI0OnwCEqC8n2k7lOOQF2888ZyKSIw/2zchVfzfssG4k/KV3y4AHrndn6irtAGetzrZhkZ9KthKpGxBeEhh3ydnGOOxzTjcaxmHGmW5DAeaftR/dnPOPk+bjntV6igCj9o1fdOP7Mt9qA+SftR/ec8Z+T5eOe9Ne51sQxsmk2zStu8xDeEBfTB2c5+gxWhRQBTM+qC5eMafAYACUk+0ncxxwCu3jnjqaj+0639n3/wBk23nb8eX9sO3bjru2dc9sfjWhRQBTE+qfaY0OnwCBlBeT7SdynHIC7eefcVGlzrZhlaTSbZZV2+WgvCQ3POTs4x9Dn2rQooAom41jMGNMt8P/AK7/AEo/u+e3yfNxz2oFxrG6cHTLcBAfJP2o/vDnjPyfLxz3q9RQBnvc62IY3TSbZpSW3obwgKO2Ds5zz2GKkM+qC5dBp8BgCkrJ9pO4nHQrt454zn39quUUAZ/2nW/s+/8Asm287fjy/th27cdd2zrntj8aeJ9V+0RIdOg8llUyP9pOUOOQF2c4+oz7VdooAz1udaMUrNpVsJFI8tRdkh+ecnZxx7GnG41jMAGmW+HA84/aj+755x8nzcc9qvUUAURcax5k4OmW4RAxhb7UcyHPAI2fLkc98e9Na51sQI66VbGUsQ6G8ICjsQdnPfsK0KKAKZn1X7S6DToPJCkpJ9pO5jjgFdvHPGc+9R/adb+zl/7JtvO34Ef2w7duOu7Z1z2x+NaFFAFIT6r50KnToBEyqZX+0nKN3AGz5seuRmmrc60YpWbSrYSKR5ai7JDjPOTs4x9DV+igCgbjWf3ONLtzuH73/Sz8nPb5Pm457U77Rq3mTr/ZsGxA3kt9qOZDngEbPlz+OPertFAGe1zrYgR10m2MpJDobwgKOxB2c/lVfTp9YF3exvHb3FuLiTy5BdfMg2jCFdvHPvxmtis3RTbFtQ+zpIuL2QSbyDl8Lkj0HSgBwudb+zlzpNsJg4Aj+2HaVxyd2zrntj8aeJ9V8+JDp0AiZQZH+0nKHuANnzY9cirtFAGelzrRilZ9KtlkXHlqLskPzzk7OMD2NKbnWdsJGl2+Wz5o+1n5Oe3yfNxz29Per9FAFL7Rq3mTj+zYNiA+S32k5kOeARs+Xj60xrnXBAjrpNsZSSHQ3hAUcYIOznPPatCigCmZ9U+1GMafAbfGRL9pO4nb027fXjr7+1Ri51v7OXOk23nbwBH9sOCuOu7Z19sVoUUAUvP1Xz4k/s6DymVTK/2k5Q9wBs+bHrkZ9qatzrJjmL6Xbh1x5Si7JD885Oz5eOe9X6KAKBuNZxCRpduS3+tH2s/Jz2+T5uOe1OFxq/mTqdNgCIrGFvtRzIc8AjZ8uR9ce9XaKAM83OtiBXXSbYyliGT7YcBex3bOe/GKk8/VPtJj/s+HyNuRJ9oO7OOm3b68Zz7+1XKKAM/7Trn2cudJtvO3gBPthwVxyd2zrnHGPxp/n6t5sK/2bB5bKplb7Scoe4A2fNj1yM+1XaKAKAudZKTFtLtwy48ofazh+ecnZ8vH1oa41kLCV0u3LN/rQbsjZz2+T5uOe1X6KAKQn1bzplOmweWqsYn+0nLkfdBGz5c+uTj3phudbECuuk2xmLEMn2w4C9ju2c/TFaFFAFPz9U+1GP8As+D7PjIl+0ndnHTbt9eOvv7VGLnWzAztpNsJgwCp9sOCvc7tnHbjFaFFAFLz9W82FTp0HlsoMrfaTmM9wBs+bH1GaaLnWikxbSrcOuPKX7WcPzzk7Pl4571fooAoNc60I4SulW5ds+apuyAnPGDs+bjntTvP1bzpl/s6Dy1VjE/2k5c9gRs+XP1OKu0UAYelXOvDSo3a2tbuczShiL07du84+bZyR93GP4a0PP1T7X5f9nwfZ8f637Sd2dv93b68dff2qHw8bZtLQ2iSLH5s+A5BOfNfPT3z+FaVAGetzrZgZ20m2EoYBU+2Egjud2zjtxin/aNW86Ff7Ng8tlUyv9pOUPcAbPmx9Rn2q7RQBQW51krMW0u3DLjygLsnfz3Oz5eOe9BudaEcJXSrcuxPmr9rOE54wdnzcfSr9FAFLz9V82Zf7Og8tVYxN9pOZG7AjZ8ufXJxTDc639nDjSbYzFyCn2w4C44O7Z168YrQooAp+fqn2kR/2fB5G3Jk+0ncDjpt2+vHX39qjFzrZgZzpNsJQwCp9sOCvc7tnHbjFaFFAFE3Gr+bAo02AxuF85vtRzGSfmAGz5sfUZ9qQXGsETZ0u3BX/Vf6Wfn57/J8vHPer9FAFBrnWhHCV0q3LtnzVN2QE54wdnzcfSnefq3nTL/Z0HlKrGJ/tJy5H3QRs+XPrk496u0UAZ/2nW/s4f8Asm287fgx/bDt2467tnXPbH41IJ9U+0iM6fD5G3Jk+0HcDjpt2+vGc+/tVyigDPW51swO7aTbCUMAqC8JBHcltnHbjFONxq++ADTYCjgGZvtRzGc8gDZ82B9KvUUAUBcaxibOl2+V/wBV/pZ+fnv8ny8c96R7nWhFEyaVbNI2fNU3ZATnjB2fNkc9BWhRQBT8/VfPlT+zoPKVWMb/AGk5c9gV2cZ9cnHvUZudb+zhxpNt52/Bj+2HAXHXds657YrQooApifVPtQjOnwC3IGZftJ3A46bdvrx19/ao1udcMMjPpNsJQV2ILwkMOcknZxjjsc5rQooApfaNW8yAf2bBscDzm+1HMZzzgbPm4+lNFxrOJs6Xbgr/AKr/AEs/Pz3+T5eOe/pV+igDH1S510aTK0NnawztDLvdrwqsHHysG2c+vbGKsxz6tvZPsEDRrHmOT7ScyNjjI2cA+uTTtaMI0e/NwrtELaXzAhwxXYcgH1xVqHHkptzjaMZ+lAFI3Ot/Zw40m287eQY/th2hcdd2zrntj8akE+qfaUjOnwCAgF5PtJ3KccgLt55461cooAz1udbMLs2k2wlBARBeEhh3JOzj8jTvtGr+ZAv9mW+xwvnN9qOYznnA2fNgfTPtV6igCgLjWMzZ0u3AUHyv9KPznPf5Pl4570jXOtCKJl0q2MjE+YpuyAg7YOzn8hWhRQBSM+q+fKg06AxKrGJ/tJy7Y4BGz5c+uTj3pn2nW/s+/wDsm287fjy/th27cdd2zrntj8a0KKAKYn1X7QiHToBCVBeT7SdynHIC7eeeM5FRrc62YJHbSbYSggIguyQw7knZxjjsa0KKAKJuNY3QgaZblWA84/aj+7OecDZ83HPaj7Rq+6cf2Zb7Uz5J+1H95zxn5Pl4571eooAz3udbEUTJpVs0jZ8xTdkBOeMHZzkewqQz6r9okQadAYVBKSfaTuY44BXbxk+5q5RQBn/adb+z7/7JtvO348v7Ydu3HXds657Y/GpBPqn2lEOnwCAqC8n2k7lOOQF2888ZyKuUUAZ6XOtmGRn0m2WVSvloLwkMO+Ts4xx2OfanG41jMAGmW+HA84/aj+7Oe3yfNxz2q9RQBRFxrGZ86Zb4QHyT9qP7znv8ny8c96a9zrYhjZNJtmlYt5iG8ICjtg7Oc89hj3rQooApmfVPtLoNPg8gKSkn2k7mOOAV28c8Zyaj+0639n3/ANk23nb8eX9sO3bjru2dc9sfjWhRQBTE+q/aI0OnQCFgC8n2k7lOOQF284PuKjS51sxSs+lWyyLjy1F2SH55ydnGPoa0KKAKP2jV90A/sy32vjzj9qP7vnnHyfNxz2rzH48aJ4L8S6VoNv8AFCbT9Ns7LxFaXekyTasbf7RfJvEcf3OrIZPl56V65XzP+3Z/yKHw6/7KDpn/AKKuK4sxqKlhZzcU7dHtufT8GYOeYZ7h8NTqypOTfvR0kvdb0/I+iGudbEMbLpVsZSSHQ3ZAUdiDs5zz2FSGfVftEiDToDCFJST7SdzHHAK7eOeM5NXKK7T5gz/tOt/Z9/8AZNt52/Hl/bDt2467tnXPbH408T6qZ4kbToBEyqZX+0nKNjkAbPmwe+Rn2q7RQBnrc60YpWbSrYSKR5ai7JDjvk7OPyNKbjWMw40u3IYDzT9qPyHPOPk+bjntV+igCvbyXryzLdWscUatiJlm3lxk8kbRt7cZPWrFFFABRRRQAUUUUAFFFFABRRRQAUUUUAec/tIf8m7/ABS/7EvW/wD0hmpP2a/+TdPhX/2JWh/+kMNL+0h/ybv8Uv8AsS9b/wDSGak/Zr/5N0+Ff/YlaH/6Qw0Aej0UUUAFFFFABXy5+0Z/ydz+zb/19a9/6Tw19R18uftGf8nc/s2/9fWvf+k8NejlX+8P/DP/ANIketkv+9P/AAVP/Tcj6jooorzjyQooooAKKKKACiiigAooooAKKKKACiiigAooooAKKKKACiiigAooooAKKKKACiiigCrH9o/tOfco8jyIthwMl90m736bfb071aqlEIf7ZuWV2MptYAy44C75cEH1zu/IVdoAKKKKACiiigAooooAKKKKACiiigAooooAKKKKACiiigAooooAKKKKACiiigAooooAKo6YLwG8+1oqj7U/lYCjMeBgnH49eavVm6Kturah9nkd83shk3LjD4XIHqOnNAGlRRRQAUUUUAFFFFABRRRQAUUUUAFFFFABRRRQAUUUUAFFFFABRRRQAUUUUAFFFFABRRRQBS0cXgsFF8irN5kuQoUDb5jbfu8fdx/+urtZvh5bddKQWsjvH5s+C64OfNbPH1zWlQAUUUUAFFFFABRRRQAUUUUAFFFFABRRRQAUUUUAFFFFABRRRQAUUUUAFFFFABRRRQBW1MXB027FooafyJPKBAIL7Tjrx1x14qePd5ab/vbRn61U1oQto9+tw7JEbaUOyjJC7DkgdzirUOPJTacjaMflQA+iiigAooooAKKKKACiiigAooooAKKKKACiiigAooooAKKKKACiiigAooooAKKKKACvL/j58TPD/wAMdG8M6h4h8PnVo9X8S2WlQoIYpPKlkDt5mJOBhUYZHIzxXqFfP/7Y3g7xP4y8L+BLXwvo1xqMtj44028uEhAJjhVJlLnJ6Aso/GuPHzqU8NKVJXl00v17H0fCWFweNzqhQzCXLSbfM+blt7r+1pbWx9AUUUV2HzgUUUUAFFFFABRRRQAUUUUAFFFFABRRRQAUUUUAFFFFAHnP7SH/ACbv8Uv+xL1v/wBIZqT9mv8A5N0+Ff8A2JWh/wDpDDS/tIf8m7/FL/sS9b/9IZqT9mv/AJN0+Ff/AGJWh/8ApDDQB6PRRRQAUUUUAFfLn7Rn/J3P7Nv/AF9a9/6Tw19R18uftGf8nc/s2/8AX1r3/pPDXo5V/vD/AMM//SJHrZL/AL0/8FT/ANNyPqOiiivOPJCiiigAooooAKKKKACiiigAooooAKKKKACiiigAooooAKKKKACiiigAooooAKKKKAKkfmf2rcA26iP7PDtl28sd0mVz3xwcdtx9at1TiA/te5bz8k20IMXPy/NL83pz0/4D9KuUAFFFFABRRRQAUUUUAFFFFABRRRQAUUUUAFFFFABRRRQAUUUUAFFFFABRRRQAUUUUAFUNKMxN751osH+lvs2pt8xcDDn1J9far9Z2jqqtf7brz83khPB/dnC/Jz6e3HNAGjRRRQAUUUUAFFFFABRRRQAUUUUAFFFFABRRRQAUUUUAFFFFABRRRQAUUUUAFFFFABRRRQBQ0QzHTlM9ots/mS/u1TYAPMbBx7jB985q/WdoKqumIFuhcDzZv3mDz+9bjnnjp+FaNABRRRQAUUUUAFFFFABRRRQAUUUUAFFFFABRRRQAUUUUAFFFFABRRRQAUUUUAFFFFAFXVTINLvDDAs8n2eTbEy7g52nCkd89MVPFnykyu07RkYxiq2sANpN6rT+QDbSgy8/J8p+bjnjrxVmHiJMNu+Uc+vFAD6KKKACiiigAooooAKKKKACiiigAooooAKKKKACiiigAooooAKKKKACiiigAooooAK8V/ak+KPib4WeHvB2o+GEsWl1jxdY6Tcfa7fzVEMiSsSoyMMCi4btXtVeSftG/Ca8+Lmh+FdNs9dtdLbRfFNlq7PcRu4lEayJ5S7ejEyDBPHFcmPVWWHkqHxdLep9DwpUy+lnNCea29gm+bmV1aztdK/Wx63RRRXWfPBRRRQAUUUUAFFFFABRRRQAUUUUAFFFFABRRRQAUUUUAec/tIf8AJu/xS/7EvW//AEhmpP2a/wDk3T4V/wDYlaH/AOkMNL+0h/ybv8Uv+xL1v/0hmpP2a/8Ak3T4V/8AYlaH/wCkMNAHo9FFFABRRRQAV8uftGf8nc/s2/8AX1r3/pPDX1HXy5+0Z/ydz+zb/wBfWvf+k8NejlX+8P8Awz/9Iketkv8AvT/wVP8A03I+o6KKK848kKKKKACiiigAooooAKKKKACiiigAooooAKKKKACiiigAooooAKKKKACiiigAooooApxFf7YuVEGGFtATLk/MN0uFx045P/AquVUj8z+1bjNwpj+zw7Yt3KndJlsds8DPfafSrdABRRRQAUUUUAFFFFABRRRQAUUUUAFFFFABRRRQAUUUUAFFFFABRVDWNSfTYIzBAJp7iVYIkLYBY+p9OKq58Y/3dG/OWgDZorG/4rH00b85aP8AisfTRvzloA2aKxv+Kx9NG/OWj/isfTRvzloA2aztHZGa/wBlqYcXsgbknecL83Pr/Sq//FY+mjfnLVe1i8ZQmfM+lS75Wcb2lOzOPlHoB/WgDoaKxv8AisfTRvzlo/4rH00b85aANmisb/isfTRvzlo/4rH00b85aANmisb/AIrH00b85aP+Kx9NG/OWgDZorG/4rH00b85aP+Kx9NG/OWgDZorG/wCKx9NG/OWj/isfTRvzloA2aKxv+Kx9NG/OWj/isfTRvzloA2aKxv8AisfTRvzlo/4rH00b85aANmisb/isfTRvzlo/4rH00b85aANmisb/AIrH00b85aP+Kx9NG/OWgDZorG/4rH00b85aP+Kx9NG/OWgDZorG/wCKx9NG/OWj/isfTRvzloA2aKxv+Kx9NG/OWj/isfTRvzloA2aKxv8AisfTRvzlo/4rH00b85aALGgMjaYhjtfs6+bN+7yTj962Tz69fxrRrn7KLxlBbiNp9KnIZzvdpSTlicZ9s4+gqf8A4rH00b85aANmisb/AIrH00b85aP+Kx9NG/OWgDZorG/4rH00b85aP+Kx9NG/OWgDZorCl1PXdLKT6xbWT2rOqPJbO4MWTgMQw5GT2rdoAKKKKACiiigAooooAKKKKACiiigAooooAKKKKACiiigAooooAp6wVXSL5ng85RbSkx5I3jaflyOeelWYceUmFx8o49OKg1XzP7LvPJnWCT7PJtlZtoQ7Thie2Ouaniz5SZbcdoyc9aAH0UUUAFFFFABRRRQAUUUUAFFFFABRRRQAUUUUAFFFFABRRRQAUUUUAFFFFABRRRQAV84ftvapqeleE/h9Jpeo3Vm83j3TIpGgmaMuhjnJUlSMjIBx7Cvo+vLfj/oHwy8QaN4Zg+J+sw6da2viWyudOeW5MAlvVD7IwQDuJQyYXviuLMKcquGnCLs31bt1PpuDsZSy/PMPia0HOMW7xiuZv3WtF1PUqKKK7T5kKKKKACiiigAooooAKKKKACiiigAooooAKKKKACiiigDzn9pD/k3f4pf9iXrf/pDNSfs1/wDJunwr/wCxK0P/ANIYaX9pD/k3f4pf9iXrf/pDNSfs1/8AJunwr/7ErQ//AEhhoA9HooooAKKKKACvlz9oz/k7n9m3/r617/0nhr6jr5c/aM/5O5/Zt/6+te/9J4a9HKv94f8Ahn/6RI9bJf8Aen/gqf8ApuR9R0UUV5x5IUUUUAFFFFABRRRQAUUUUAFFFFABRRRQAUUUUAFFFFABRRRQAUUUUAFFFFABRRRQBRi8n+2roKH837LBuJI27d8uMd853Z/Cr1VY/P8A7Tn3BfJ8iLZ0zu3SbvfGNvXjrjvVqgAooooAKKKKACiiigAooooAKKKKACiiigAooooAKKKKACiiigDH8Q/67Sf+whH/AOgtWxWP4h/12k/9hCP/ANBauH+OXwi8VfFmz0m18LfFzX/Aj6dLLJNLpLyK10HCgK+yWPhdpIzn7xrKtOdODlTjzPtdK/zeh3Zbh8Ni8VCji6yo03e83GUlHR9Ipyd3pouvY9Qor55+Gv7MfxH8C+N9K8V61+03408TWWnyO82lX0s5gug0bKA4a4YYBYNyp5UVb+LX7OHxB+I3ja78VeH/ANo7xh4RsriKGNNK02WdYIiiBSwCToMsRk/L1Ncv1nE+y5/YPmva3NHbve9v1PfeSZGscsMs0j7Llv7T2VW3Ne3Jy8vNe2t7cvS9z3uivJPgb8FfGHwmutXuPFPxq8SeO11KOFIY9WklYWhQuSU3yyctuAOMfdHWuH0b9lT4naX4xsfE1z+1V46vbO01OK/k0yWa48meNZQ5gYG5I2MBtPykYPTtTeJxKhGSou73XNHT8dfkRDJslliK9KWZRUIJOEvZVbVG1dpLlvHlel5WT3Wh9J1zXjrxxoPw18Fa9498RtMumaFby3lz5S75GCj7qDjLMcAAkckZIrpa5n4gaJ4P8SeB9d8P/ER7RPDmpW72uoNc3AgjEL4XJkyNhyRg5BBxXcfKnFeF/il8aNZvdJutY/Z6m03QdXliAu4/E9tcXdnDIRtluLbYoUAEFljkkYDPBxXa6B4g1XUvGfirQry40B7LR2shZx2V75t9H5sO9/tcX/LEluY/7yc185eKV8dfs0P4NvfBHx6v/GPhnVfEGn6InhfxF9nvbmW3uJBGTbXaBZj5anKg5UADOQMHM+Kd94j066/a3vPCstzFqEem+HP3ltnzY4Dp4E7IRyCITIcjkYyOlAH1Jb/Ef4eXcrwWvjzw7NJFex6a6R6pAzLePnZbkBuJW2thPvHBwOKdq3xB8BaC16mueN9A05tNkhivRd6lDCbZ5lLRLJuYbC6glQ2CwBIzXy98YvCfwJ0Cy+Adz8N9O8N2ly/jbQo9Ml0vyhLdWXJdmZPmlXIjJZifmIJOTz2Hgf4feCfGH7Uvxw1Dxb4W0zWpLSLw7bwLqFqlwkSSWLF9quCAW2qCQM4GKAPaPGPia/0i28PXWg3vh7ytW1qyspZNTv8AyEltpidwtiOJZyMeWn8XNeX61+0c+ofG9vhH4D1v4e7NIksodXn1rXxFcT3M80iPZ2UMYJlnjERDKSCHdFIHfyLQ0+yfAv4RaJE8jWui/G6HSrJXcuY7WDWLyOKPJ5IVAqj2AFetfD/wh4Tl/am+Ll5L4X0h7i1sfDF5BK1lEXiuHW9Z5VbblXZgCWHJIBJoA9T8A+J7/XvCba94ivfDpkjur2OSbR7/AO02axRTyIpMp6OEQeYP4XDjtV/w7418G+L4Li68J+LdF1uG1bZPJp1/FcrE3o5jYhTwevpXxfpps5/gP8M9J8WTNF4G1L4r6tbeJyzFYHg/tG/MEdy3QQNcCIPuwv3QTzX0Z8SZfhJ8Jvhh438YaH8PfC179j0CWS/0yxtLeL+0LXDBYpginMJ3MPmBABbjrQB6FoHjrwT4surqx8LeMdD1m5seLqHT9QhuHg5x86oxK8+uKi1P4h+ANEFy2s+OfD9gLO6WxuDdanBF5NyyB1hfcw2yFWVgp5IIOMGvkXVrbWvB3xO+B/iK5vfhLp+pa54khtoLDwZoT2tx/Z9xbSrMr3BnZZoBujHMS5fYy7cEV6T8LPhl4D8X/GH47az4t8Ladrcx8SW9giajbpcxwxf2Zas3lo4KoWLDcwGWCID90UAfRdxe2VpZyajdXcMNrFGZpJ5JAsaIBksWPAGOc9Kz/Dfi/wAJeMbWS+8I+KNI1y2ify5JtNvYrlEb+6WjYgH2r4v8KTWuq/BX9nXQviFciT4fT+KNQsdaN3JmCR7c3Y0u3nLHBgMsaKVb5TsQHjFew/tK6V4f8GfAH4h3nwe0fRNH1qXTrVdRl0S0jiuBYmcK7yCAByqwtcEHIIG8qRyaAPbNH8a+DfEOpXmjaB4t0bU7/Tji8tbO/immtjnGJERiyc8cgVF411PxlpOiG78C+FLLxFqglRRZXmq/2fGYznc3neVLyOONvOeor5w8OfBzWpdd+HfinTvF/wAEdE0/RdTt7qxuPCGgy2NzqNsUKPaLMbt1kSVG5Xa2SFPUV9XUAfPPhv8AaA+PHirxd4r8E6V+z14f/tLwbPaW+p+Z48Kxh7iATR7G+wfMNhGemDxXYeFvjnplz4m8e6R48v8AQvDVn4T1u10e1ubu/WFbh5rOKfaXkKqW3OwAHUDpXOfBD/k439oX/sK+H/8A01JWJ8LPhp4B8ZfG3476l4v8I6Vrk39vWVin9o2iXCxQnToC6oHBCbiRuK4LbVz90YAPoW/17QtK+xf2prVhZ/2lMLay+0XKR/aZipYRx7iN7FVZtoycKT0BrPi+IPgKfQbnxVD430CTRbORobnUl1KE2sMikAo8obYrAkZBOeRXxnomk23jr9nf9nDw54nea+sW+Jc2mSRySMTJZ20mqxRwMepTyoUjI7rkV23xp8JTw/tC+BvBXh3Tvh5onh5tAv77SrPxHorTaRcat50aSlYIZYUe6EGzaWLELv2jJyAD6n03XdE1rSo9d0fWbG+02VDJHeW1wksDoOrCRSVIGDzntWVpHxC8E+KLe+k8H+MdC12SwjZ5k07UYbkxkA8OI2O3kY5r51T4BX8/gr4q+FNf+K3gXQ4vGL6W5tPDlm1lp2mXMcg/1lvJcPgXWyOORQy+YN3Umt/4b6+fDXxJuvhb4o+FPw90XxDc+FrrUbXWvBhQwT2kckaPFLGYlltwWZGUMzISuAxIoA9A+Dfxs0P4i+BfB+s+INX0LSvEnirThfR6Mt8gmcbmBMUbt5jr8p5APQ13PiLxX4W8IWS6j4t8S6Volo8giWfUbyO2jZz0UNIQCfaviP8A4V94M0L/AIJ123j/AEzw3p8Piew0y21221pbdft0V5HeqySCfG8bQAgGcBBt6cV7HNpXhHxN+1/4o0/4pWWmagun+ENObwvZ6uiSW4hklm+2ywxyZQyb1RWcDcFAGcUAen/F/wCJc3w9+H0fjbQrez1MTanpNnFukJieK8vYLcyKynnCzFhjgkDtXU694t8K+Fvso8T+JtJ0j7dL5Nr9vvY7fz5P7ibyNzcjgZNfGqG1h+BHxF0vw3KH8Iad8YNNtvDYibdbR2g1fTy8dsfu+SsxlChflHOK9P0fRvBPin9qb4pQfFjTtH1KfTdI0dPD1trcccscemPDI1y8EcuV2mYMJHUcEAEjpQB6h8HfiTqHxKtPFlxqOnW9ofD3ivUvD8IhZj5sVs6qsjZ/iOeccVN8Q/iLd+FvEvgvwToFjb32t+L9UaFYpnZVg0+BDLeXJx/cTYqjjLyoK8v/AGH4vD9v8PvGlv4TnWbRIvH+tpp0iSmRWtg8YjKuSSy7cYOTkYNbXicPB+2N4FmvTi3uvBGtQWO7obhbm2aUL7+XtJ9hQBq+LPjX4gsfHF38Nfhd8NJvGet6PYx6nrHmarFp1vZRSs3kx+a6PvmcIxVAoGMEsK7D4W/EjRfix4KsvGmh213aR3DywXFleIEubK5ikaOaCZQTtdHVgR9D0Iryn4balYeHP2p/jZZ+Ib22sZ9YsfDurWJuJVj86zhtJIZHTcRlUkUhiOhPNM/Zi8QaFovw98e/E3XddsNK8K+JPiDres6ZqN/crbW72c10sMMu+QgKJJFO3ONxdcfeFAHc/Ej4w6j4V8YaP8NPA/gmTxb4v1iyn1RbE6gljb2tjE6o0887K5QF2CKAjFmyOOtY8f7RlrL8GvG3xOfwdd2ur+APttvrPh66ukSSK9tow7QidAylGVlKyBSCrA47VjXN3a+Hf22xc65NHbxeJPhwlppU8zBVea21B3ngQnq2yWOTA7D2rD+HGj+EPiR4i/aK1XXryA+BPFeu2mgGX7UIYpmtrCG2umSTIADSMFDA8kcHNAHqPw/8afGbxJqNq3jH4Q6H4e0a6t/P+3Wvi038qkqCi+T9kjznPJ38ehq94d+Itzf/ABW8VfCzWrCK1utItLPWNLmRj/punTgozlT0aOeOVGxxgoeCSK8U1Xw14d+B/wAavhhpfwe8Wa1JN4r1GfTtb8N3Gu3OpQT6aLd3a9KTyOYmhdEw4IB3lemRXba//pH7ZHhCPTB+/svAWrS6oy/8+0l5bLbqx95UkIH+y3oaAPVvGH/Iu3X1i/8ARi1s1jeMP+RduvrF/wCjFrZoAKKKKACiiigAooooAKKKKACiiigAooooAKKKKACiiigAooooApa15I0a/NwHMX2WXeEIDFdhzjPGcVahx5Me3ONoxn6VDqfn/wBm3f2UKZvIk8vdjG7acZzxjPrxU8e7y03ddoz9aAHUUUUAFFFFABRRRQAUUUUAFFFFABRRRQAUUUUAFFFFABRRRQAUUUUAFFFFABRRRQAV8z/t2f8AIofDr/soOmf+irivpivL/j78TtD+F+jeGdQ13w+dWj1fxLZ6VCgjjfypJA7eZ8/AwqMMjnniuLMYRqYWcZy5V3+Z9RwXia+Dz7D18NSdWabtBNJv3X1ei7nqFFFFdp8uFFFFABRRRQAUUUUAFFFFABRRRQAUUUUAFFFFABRVHW9b0jw1o974g8Qalb6fpunQPdXd1cSBIoIkBLOzHgAAE1434L/bJ+C3jbxLo/hq2m8RaQfErmPw/qGtaFc2FjrL9QtrPKoVywIKg4LZAGSQKAOs/aQ/5N3+KX/Yl63/AOkM1J+zX/ybp8K/+xK0P/0hhpf2kP8Ak3f4pf8AYl63/wCkM1J+zX/ybp8K/wDsStD/APSGGgD0eiiigAooooAK+XP2jP8Ak7n9m3/r617/ANJ4a+o6+XP2jP8Ak7n9m3/r617/ANJ4a9HKv94f+Gf/AKRI9bJf96f+Cp/6bkfUdFFFeceSFFFFABRRRQAUUUUAFFFFABRRRQAUUUUAFFFFABRRRQAUUUUAFFFFABRRRQAUUUUAUohD/bVyVZ/N+ywbgR8oXfLgg+ud35Crtc9Z+KtEu/HureCoLiM6vpmlWGpXMQhcMsFxLdJES5Gwgtby4AORg5xkV0NABRRRQAUUUUAFFFFABRRRQAUUUUAFFFFABRRRQAUUUUAFFFFAGP4h/wBdpP8A2EI//QWrYqhrGnSajDF9nnEM9vKs8TFcjcM8EenNVceMf72jflLQBs0Vjf8AFY+ujflLR/xWPro35S0AbNFY3/FY+ujflLR/xWPro35S0AbNZ2paNo3iHTL3RNd0y11LT70NFc2l3CssMqnGVZGBDD6iq/8AxWPro35S1zvg7x1eeN5Nej8OXuj3DeHdZn0PUMwXEfl3kKo0ifMBuwJF+Zcg54NADPCvwC+CfgfW4/EnhD4V+GNJ1WHd5V5a6bEkse4EHYwGVyCRxjgkV0beF9KsbnXtc0LRtOh1rXokF5cyRcXckURjh84jllVfl/3cinf8Vj66N+UtH/FY+ujflLQB886F+y/rl1418M6tqfw8+FPgjStC1aHXb5/Cazy3uqXUAYwxlpLeJYIQ7b2UFydoGR1r6MsPDWgaXrOqeIdO0i1t9T1ryf7Ruo4wJLryUKRbz/FtUkD0FQ/8Vj66N+UtH/FY+ujflLQBVT4c+BI9Ps9KTwppq2en6r/blrCIBsh1DzWl+0qO0nmO7bvVia0rTw7odhrWoeI7LSraHU9WjgivrtEAkuEhDCJXbuFDvj03Gq//ABWPro35S0f8Vj66N+UtAEEPw+8DweF7nwUnhPSjoF40z3Gmvao9tK0shkkLRkFTudmY5HU5rL8KfBf4S+BrTUrDwh8OPD2k22sxeRqMVtp8ardxYI8uUY+dcM3ynjk8c1t/8Vj66N+UtH/FY+ujflLQBzegfAT4LeFZYp/Dfwu8N6ZLBfRalG9rp8cbJcxBxHKCBncokfHpuPrXV6Z4c0LRbzU9Q0rSba0udZuBd6hLEgVrmYIsYdz3bYirn0UVB/xWPro35S0f8Vj66N+UtAFQfDfwCPB7fD9vB2kP4acMG0qS0R7U7pDIcxsCv3yW+vPWq/gn4T/DP4bQXlt4C8CaJoMeo7ReLYWaRfaAudocgfMBubAPA3H1rT/4rH10b8paP+Kx9dG/KWgDmNB/Z++B3hfX4/FPh34TeFdO1aCTzYbu20uFJIn/ALyEL8h9xivQKxv+Kx9dG/KWj/isfXRvyloAl03wv4e0fV9W1/S9GtbXUddeKXUrqKMLJdvEgjjMh/iKoAo9qdpfhvQNFv8AU9V0nSLa0vNanW51CaKMK91KqBFdz/EQiqufQCoP+Kx9dG/KWj/isfXRvyloAp2fw28A6fpuj6PY+EtMgsvD9++qaXAkACWd25kZpox/C5M0pJ/6aN61Y8Y+BfBnxC0n+wfHPhbS9e0/zBKLbULVJ0VwCA4DA4bBIyOcE+tSf8Vj66N+UtH/ABWPro35S0Ac/pvwM+DWj+Gr/wAHaZ8L/DFtomqsj31gmmReTdMhyhkXb85U8qTnB5GKs+Cvg/8ACz4cG7bwF8P9B0Fr9PLunsLJImmT+6zAZK+2cVr/APFY+ujflLR/xWPro35S0AVZPh14Fl8Ff8K4k8K6a3hfyBbf2SYB9m8oNuCbOmM84qLxz8Lvhz8TILW3+IPgnRvEMdkzNbDULRJjCWxu2Fhlc4GcdcDPSr//ABWPro35S0f8Vj66N+UtAELeAfBLeGbXwX/wiumLoNk0D22mpbKtvC0MiyxFUAwNsiqw9xmqXjb4TfDL4kzWdx4/8BaH4gl0/ItZNRso52iBOSFLAkAkDI6Vp/8AFY+ujflLR/xWPro35S0AO8N+EvDHg61uLHwroNlpNtd3Ul7NDaQiJHnfG9yBxk4H5Vk+Ovh7aeNNQ8Ma2uozabqnhTV01Sxu4UVmKlGjngbP/LOWJ3Ruf7p/hFan/FY+ujflLR/xWPro35S0AZPjH4U/DP4lxWZ8feBtF8Q/YGc2rajZJM0O4/MFLAkAkDI6HArS1bwJ4M13woPAureF9MufDojhiXS2tlFqqQurxKIwNoCMiEADA2isHwB46vPiP4Zi8V+Eb3R7rTJbq7tEkMFxFmW3uJIJRtcA8SROM4wcZGQQa6L/AIrH10b8paAK3jb4d+BPiRpsWkePvCOk+ILOCTzoodQtUmWOTGNy7h8pwcZFH/CufAI8G/8ACvB4N0YeGPL8n+xxZR/ZNm7fjysbfvfN0689as/8Vj66N+UtH/FY+ujflLQBi+CPgz8J/hteT6j4B+HXh/QLu4j8qW4sLCOKVkyCULgZ25AOM44HpU3h74d2Oh+PPFHxEmv5r3VfEq2lt86hUtLO2QiOCMc8b3lkYnq0nQACtT/isfXRvylo/wCKx9dG/KWgA8Yf8i7dfWL/ANGLWzWFNpmvaqFttXubFLXeryJbI5aTBztJboMgdK3aACiiigAooooAKKKKACiiigAooooAKKKKACiiigAooooAKKKKAKWtCE6Nfi4ZliNtLvKDLBdhyQO5xVqHHkx7ScbRjP0rF8eeJdI8G+CPEHi7xBOkOmaLpd1qF5JJE8ipDFEzuSiAsw2qeFBJ7Vq6fdwX9hbX1qwaG4hSWNgCAVZQQcHkcHvQBYooooAKKKKACiiigAooooAKKKKACiiigAooooAKKKKACiiigAooooAKKKKACiiigArwH9sTwZ4o8a+GPAtp4W0abUZbDxvpt7cpEVzHAqTKXOSOAXUfjXv1eK/tSfFDxL8LPD3g7UPDMdi8useLrDSrj7XB5oEMiSsSoyMMDGuD2rizFU3hZ+2vy9bb7n1HBcsbDPcO8uUXWu+VSuo35XvbXa57VRRRXafLhRRRQAUUUUAFFFFABRRRQAUUUUAFFFFABRRRQB8x/wDBRe8uk/ZmvtFiuZLe11/XtH0q/lRtpW1ku0L89gdgB9QSO9Rf8FDLCy0X9k3VNR0q0iguPCupaLe6MI0ANtNFewxxmP8AukIzKMdiRXsXx5+EGj/Hj4S+I/hVrd0bSHXLYJDdqm9rW4R1khmC5GdsiKSMjIBGRmvFNb+Cn7UHxn0/wx8OvjtrngG38GaLqNpqGtXWgyXct/r5tTuiidJkWOFXdVaTBY5Hy46UAe7/ABq8Oax4x+Dfjzwj4dtkuNV1vwzqmm2MLyCNZLia1kjjUs3CgswGTwOteB/DLxR+2r8PfAHhXwE/7K/hy+h8NaLZaQLj/hPreJ5xbwJEHK+UwUnZnGTjOMnrX1fRQB89f8LY/bI/6NF0H/w41t/8j0f8LY/bI/6NF0H/AMONbf8AyPX0LRQB89f8LZ/bI/6NF0H/AMONbf8AyPR/wtj9sj/o0XQf/DjW3/yPXvuoX9npVhc6nqNwkFrZwvPPK/3Y40UszH2ABNfKSftWfHvWPh9fftF+Gfgpok3wmsBNeJb3eqyx+Ib3S4WIkvo4whhQBVeQRu2SqHnkEgHYf8LZ/bI/6NF0H/w41t/8j15Z8R9G/bI+IHxe+HHxVP7NuiWH/CvpL2QWA8d20gvPtCKpHmeUPLxs/utn2r7B8I+KdF8ceFtI8ZeHLsXWla5YwahZzDjfDKgdDjscMMjsa8s+M/xz8UeF/H3hz4J/CLwtp3iPx/4ltJtUMepXb29jpOmxHabu6aNWcqz5jRVGSwPI4B0pVp0Jc1N2dmvk1Z/gzahXqYeXPSdnZr5NNP8ABmJ/wtn9sj/o0TQf/DjW3/yPR/wtj9sj/o0XQf8Aw41t/wDI9bnwZ+OPizxN498RfBX4v+ELHw3498OWkOqKNOunuNP1fTZWKrd2ruquFVxsZWGQ3c8heQP7Q3x0+JOt+Lrv9nf4X+Gta8K+B9Qn0m4vte1Sa2n1y9gGZ4bBY42VQpwgkkO1mYY4zjMxNP8A4Wz+2R/0aLoP/hxrb/5Ho/4Wz+2R/wBGi6D/AOHGtv8A5Hr0r4H/ABe8PfHX4ZaN8TfDcE1rb6ojrNZz/wCus7mNyk0En+0jqwzgZGD0Nd3QB89f8LY/bI/6NF0H/wAONbf/ACPR/wALZ/bI/wCjRdB/8ONbf/I9fQtFAHz3/wALY/bI/wCjRdB/8ONbf/I9J/wtn9sj/o0XQf8Aw41t/wDI9fQtFAHz1/wtj9sj/o0XQf8Aw41t/wDI9H/C2P2yP+jRdB/8ONbf/I9fQtFAHz1/wtn9sj/o0XQf/DjW3/yPS/8AC2P2yP8Ao0XQf/DjW3/yPX0JRQB89f8AC2f2yP8Ao0XQf/DjW3/yPR/wtj9sj/o0XQf/AA41t/8AI9fQtFAHz1/wtn9sj/o0XQf/AA41t/8AI9H/AAtj9sj/AKNF0H/w41t/8j19C0UAfPX/AAtn9sj/AKNF0H/w41t/8j0f8LZ/bI/6NF0H/wAONbf/ACPX0LRQB89/8LY/bI/6NF0H/wAONbf/ACPSf8LZ/bI/6NF0H/w41t/8j19C0UAfPf8Awtj9sj/o0XQf/DjW3/yPSf8AC2f2yP8Ao0XQf/DjW3/yPX0LRQB89f8AC2P2yP8Ao0XQf/DjW3/yPR/wtj9sj/o0XQf/AA41t/8AI9fQtcb8Yfin4c+Cnwz8QfFHxX5h0zQLX7RJHFjzJnZgkcSZ43PI6IM8ZYUAeWf8LZ/bI/6NF0H/AMONbf8AyPS/8LY/bI/6NF0H/wAONbf/ACPWHJ+0f8evh1/wi/jL48/CXw7o/gbxbfWunmfRtVluL/w9JdEC3N+kiKjrlgrtGflOepwG+oKAPkzTdZ/bH0/4ra/8T/8AhlnQpDrmhaXon2L/AIWBbARfY57yXzPM8j5t/wBsxt2jHl5yc4HX/wDC2P2yP+jRdB/8ONbf/I9P8V/HP4ueKPiv4h+Ev7PPgXw7qk/gqG3fxHrXiXUJbeyiuJ03xWcKQq0jyFMsX+6uCD2z1PwN+OVx8ZPAet6y/hCXSPFfhXUbzQtc8PPdo5g1O2ALRLL0KPldrkAcn0NAHJf8LZ/bI/6NF0H/AMONbf8AyPR/wtn9sj/o0XQf/DjW3/yPWZ8Lf2gfj7rX7Qln8HvjF8KPDng2HVPC9z4jtbez1Y6jdwrHcJCElmTERyWb7q9hzX0xQB89f8LZ/bI/6NF0H/w41t/8j0f8LZ/bI/6NF0H/AMONbf8AyPX0LRQB89f8LY/bI/6NF0H/AMONbf8AyPR/wtn9sj/o0XQf/DjW3/yPX0LRQB89f8LY/bI/6NF0H/w41t/8j0f8LZ/bI/6NF0H/AMONbf8AyPX0LRQB89f8LZ/bI/6NF0H/AMONbf8AyPR/wtj9sj/o0XQf/DjW3/yPX0LRQB89f8LZ/bI/6NF0H/w41t/8j0f8LY/bI/6NF0H/AMONbf8AyPX0LRQB89f8LZ/bI/6NF0H/AMONbf8AyPS/8LY/bI/6NF0H/wAONbf/ACPX0JRQB89f8LZ/bI/6NF0H/wAONbf/ACPR/wALZ/bI/wCjRdB/8ONbf/I9fQtFAHz1/wALY/bI/wCjRdB/8ONbf/I9H/C2f2yP+jRNB/8ADjW3/wAj19C0UAfPX/C2P2yP+jRdB/8ADjW3/wAj0f8AC2f2yP8Ao0XQf/DjW3/yPX0LRQB89f8AC2P2yP8Ao0XQf/DjW3/yPR/wtn9sj/o0XQf/AA41t/8AI9fQtFAHz1/wtn9sj/o0XQf/AA41t/8AI9H/AAtj9sj/AKNF0H/w41t/8j12P7QPxuk+DWiaJb6D4Xl8T+LvF+qx6H4c0WOYQi5u3BYvLIQfLhRQWdsHHA4zkcr4N+OvxQ8PfF3RPgt+0L4P8N6RqfjCyubzw1q3h2+mnsbyS3Aae0dZ0V0mVCHzyrAgcHigCD/hbP7ZH/Roug/+HGtv/keuG+Ft1+2N8NJ/GUy/sv6FqH/CXeKbzxMQfH1tF9mM6RL5P+pbft8rO7jOegxX16SAMk8V8tWv7THx4+I2neIviV8B/hH4c8Q/Dzw5eXVrbSX+rTQ6l4kW2YiaWwVI2jVCQypvyWK9AflAB0P/AAtn9sj/AKNF0H/w41t/8j0v/C2P2yP+jRdB/wDDjW3/AMj11EXxr1/x/wDBPw/8V/gF4Gj8X3ficQG1sL7UU09LQOSsz3EhDf6llZWVQSxXC5yDXGJ8evjb8MPH/g7wl+0T4E8I2+k+PtTXQ9J1vwrqVxNHa6i4zDb3EVwisfM5CupxkHI9AC1/wtn9sj/o0XQf/DjW3/yPR/wtj9sj/o0XQf8Aw41t/wDI9fQtFAHz1/wtj9sj/o0XQf8Aw41t/wDI9H/C2f2yP+jRdB/8ONbf/I9fQtFAHz3/AMLY/bI/6NF0H/w41t/8j0n/AAtn9sj/AKNF0H/w41t/8j19C0UAfPX/AAtj9sj/AKNF0H/w41t/8j0f8LZ/bI/6NF0H/wAONbf/ACPX0LRQB89f8LY/bI/6NF0H/wAONbf/ACPR/wALY/bI/wCjRdB/8ONbf/I9fQtFAHz1/wALZ/bI/wCjRNB/8ONbf/I9L/wtj9sj/o0XQf8Aw41t/wDI9fQlFAHz1/wtn9sj/o0XQf8Aw41t/wDI9H/C2P2yP+jRdB/8ONbf/I9fQtFAHz1/wtj9sj/o0XQf/DjW3/yPR/wtj9sj/o0XQf8Aw41t/wDI9fQtFAHz1/wtj9sj/o0XQf8Aw41t/wDI9H/C2f2yP+jRdB/8ONbf/I9fQtFAHz3/AMLY/bI/6NF0H/w41t/8j0n/AAtn9sj/AKNE0H/w41t/8j19C0UAfPX/AAtj9sj/AKNF0H/w41t/8j0f8LZ/bI/6NF0H/wAONbf/ACPX0LXjvx0+N/iDwB4h8J/DD4a+EIPE3j7xxJP/AGba3d19msrO1gUNPd3UgBYRoGGFUbmOQOcAgHOf8LZ/bI/6NF0H/wAONbf/ACPR/wALY/bI/wCjRdB/8ONbf/I9avwm+OXjjUvinqvwG+NfhPSNC8a2Okp4gsLjRbx59O1bTmk8tpIfNVZEdJPlZGB6Eg4FeyazrGmeHtIvtf1q9js9P022lu7u4kOEhhjUs7t7BQSfpQB8m/BW6/bG+D3w/t/Aifsv6Fqog1DU7/7UfH1tBn7XfT3W3Z5Lfd8/ZnPO3OBnA7r/AIWx+2R/0aLoP/hxrb/5Hrjk/ar+P938PJf2jdP+Bujv8KIQ96LSTVJl8RS6SjYbUFj8vyQuwGXyy2dgzuxhq9y8V+NfHmv+BNC8Vfs/aN4d8TN4hWC6t7rWNRls7OOxlhMi3B2RtI+fkAQAH5skjBoA89/4Wz+2R/0aJoP/AIca2/8Akej/AIWx+2R/0aLoP/hxrb/5HpPDfx3+L/hH4xeFfg1+0D4J8LWdx48gvZPD+s+GNQnmtWmtI/Mmt5op0V0bYQQwJBLKMcnH0NQB89f8LY/bI/6NF0H/AMONbf8AyPR/wtn9sj/o0XQf/DjW3/yPX0LRQB89f8LY/bI/6NF0H/w41t/8j0f8LZ/bI/6NF0H/AMONbf8AyPX0LRQB89/8LY/bI/6NF0H/AMONbf8AyPSf8LZ/bI/6NE0H/wAONbf/ACPX0LRQB89f8LY/bI/6NF0H/wAONbf/ACPR/wALY/bI/wCjRdB/8ONbf/I9fQtFAHz1/wALZ/bI/wCjRdB/8ONbf/I9H/C2P2yP+jRdB/8ADjW3/wAj19C0UAfPX/C2f2yP+jRdB/8ADjW3/wAj0v8Awtj9sj/o0XQf/DjW3/yPX0JRQB89f8LZ/bI/6NE0H/w41t/8j0f8LY/bI/6NF0H/AMONbf8AyPX0LRQB89f8LY/bI/6NF0H/AMONbf8AyPR/wtn9sj/o0XQf/DjW3/yPX0LRQB89/wDC2P2yP+jRdB/8ONbf/I9J/wALZ/bI/wCjRdB/8ONbf/I9fQtFAHz3/wALY/bI/wCjRdB/8ONbf/I9J/wtn9sj/o0XQf8Aw41t/wDI9fQtFAHz1/wtj9sj/o0XQf8Aw41t/wDI9H/C2P2yP+jRdB/8ONbf/I9W/H3x0+JGp/F6++Bv7P8A4R8P61r3h7ToNT8Sapr97NBp+mCfm3tiIUaR55F+cDgBeeecdF8Afjde/Fq28SeH/FvhU+F/G/gjUv7K8Q6P5/nxxyMu+K4hkwN8MqfMhIB4PUYYgHlXxT8Q/tj/ABM+Gfiv4dN+yvoWnDxRot7o5ux8QbaX7P8AaIWi8zZ5C7tu7OMjOMZFbuj/ABJ/bI0nSLHSh+yVoUv2K2it9/8AwsW2G/YoXOPs/GcV618afivoPwQ+GOu/E/xJbz3NnokKuLa3x5txNJIscUSZ4BaR0XPbOe1eNr+0R8ePh1qnhDVP2gvhX4a0bwl431G30mG60TV5Li60K8uP9RFfLIqo4JyrPEdqkHrxkA1f+Fs/tkf9Gi6D/wCHGtv/AJHo/wCFsftkf9Gi6D/4ca2/+R69j+Ifj3w38L/BWr+PvF18trpWi2zXM7/xMeixoP4ndiqKo5LMAOteSfsmfH34hfHWz8b/APCyPA9l4U1Twrro0v8As2B3eSFWhWXZMWPMq79rYCjIPAoAr/8AC2f2yP8Ao0XQf/DjW3/yPR/wtj9sj/o0XQf/AA41t/8AI9fQtFAHz1/wtn9sj/o0XQf/AA41t/8AI9H/AAtn9sj/AKNF0H/w41t/8j19C0UAfPf/AAtj9sj/AKNF0H/w41t/8j0n/C2f2yP+jRdB/wDDjW3/AMj19C0UAfPf/C2P2yP+jRdB/wDDjW3/AMj0n/C2f2yP+jRdB/8ADjW3/wAj19C0UAfPX/C2P2yP+jRdB/8ADjW3/wAj0f8AC2P2yP8Ao0XQf/DjW3/yPX0LRQB89f8AC2f2yP8Ao0XQf/DjW3/yPS/8LY/bI/6NF0H/AMONbf8AyPX0JRQB89f8LZ/bI/6NF0H/AMONbf8AyPR/wtj9sj/o0XQf/DjW3/yPX0LRQB89f8LZ/bI/6NF0H/w41t/8j0f8LZ/bI/6NF0H/AMONbf8AyPX0LRQB89f8LZ/bI/6NF0H/AMONbf8AyPR/wtn9sj/o0XQf/DjW3/yPX0LRQB89f8LY/bI/6NF0H/w41t/8j0f8LZ/bI/6NF0H/AMONbf8AyPX0LRQB89f8LY/bI/6NF0H/AMONbf8AyPR/wtn9sj/o0XQf/DjW3/yPX0LXzO37Q3x4+I+seLr79nv4V+G9Y8KeCNRuNInvNe1WW2udcvbf/j4hsUjRlQKcKskp2sWHTDYANP8A4Wx+2R/0aLoP/hxrb/5HrzT462P7Y3xq0jw7pTfszaFpH9geILXXRIPHltP53krIvlY8ldufM+9zjHQ19LfBH4ueH/jp8L9C+KPhmGa3s9ZhYtazEGW1mjdo5YXxxlXRhnuMHvWD8f8A44XHwhsvDuieF/DB8T+NvG2pjSPDmi/aPIWaXbulnlk2sUghXDOwB4I6AlhnWowrwdOorpnbl2Y4nKcVDG4OXLUhqnZO2ltmmtn2OS/4Wz+2R/0aLoP/AIca2/8Akel/4Wx+2R/0aLoP/hxrb/5Hqz4F+OnxK0f4uad8Ef2g/B/h/RNa8TWE+oeGdW8P3s0+namYMG4tMTIrxzxod5zlSp7HAbD1H4x/tLeLvjr8SPhX8H/D/wANzp3w+/sgS3PiKa+Sac31p5wx5GVO0pIOg429ea0OI0v+Fs/tkf8ARoug/wDhxrb/AOR6X/hbH7ZH/Roug/8Ahxrb/wCR69d+HT/EqTwxE3xYt/DkPiHzZPNTw+872fl5+TaZgH3Y654z0rp6APnr/hbP7ZH/AEaLoP8A4ca2/wDkej/hbP7ZH/Roug/+HGtv/kevoWigDyf4ZeOv2hPEfiQ6f8TvgJpfg/RxbPINRtvF0OpOZgRtj8lIUOCCx3Z4x716xRRQAUUUUAFFFFABRRRQAUUUUAFFFFABRRRQAUUUUAcN8dra8vfgh8QrPTlZrufwrq0UAX7xka0lC498kV5V8G9b8OW37Amg61ezwnSLT4bsbxiQUCx2TLMp98q4I9civo1lV1KOoZWGCCMgj0r5yu/2FvhhcW194btPHPxD03wPqV699deCbHXRDojl38x4hEI/MSJmJJjSQL6Y4oA2v2HLHUtO/ZK+GFvqyOs7aGkyh+vkySO8X4eWyY9sVyelyR2H/BSDW49SIjl1P4T2501n48xI9S/eohPU5G4gdgTXtXjT4VaV4wtPClhbeItf8N2vhHVrTVbWDQbwWkdytupVLScbTvtiD80YxnavIxWV8YPgH4R+Md3oOt6lrGv+HfEPhiWWXSNe8P3otL+0EqhZYw5VlZHAGVZSDj3OQDzO7dLr/gorp62bB2sfhNN9t2nOzfqY8sN6dCQD60z/AIJ6yRxfs+T6bM6/b9L8V69aakp+9Hci9dmD+h2uh57EV6d8IPgD4P8Ag5e69r2m6tr3iHxH4nmjl1fX/EF4t1qF2I12xxl1RFWNB0VVAH4DHJ+LP2PvBPiDxN4j8S+HfiD8QPBA8YP53iDTvC+sJZ2epTFdryyRtE5WRxw7IVLZJPJJIBzf7ATw3vwz8c67pozo2s/EjxFfaQ6/cks2uAEZO23KsOO4NfTlYHgPwN4X+Gfg7SfAXgvS007RNEtltbO3Qk7UHJJJ5ZiSWZjySSTya36ACiiigAooooAKKKKACiiigAooooAKKKKACiiigAooooAKKKKACvl//go7FIP2Z7rUZYnk03TfEOi3mqKqlgbRbxA2QOo3MlfUFY/i/wAJeHvHnhfVPBni3TI9R0bWrWSzvbWQkCWJxhhkEEH0IIIIBBBFAHz1/wAFFZorz9kvxBbWMqSXWqaho8GmlGyZJmv4CmzHUkAkY7V9O14D4a/Yz8CaLrHhu+1/4g/ELxjpvg+4S70HQ/EetJd6dYTICIpFjWJWdowcIZGbbxivTLv4aW158VbH4rnxd4linsNJfSBosd8F0mVWcv58kG3LTDdgPuHAAxQB4n+yKj2fxd/aS0vUcjUl+IJvHDfe+yTQBrY/TYDioP2Ukkvf2iv2nPEWnAnQrnxVplhbuv8AqzfW1q63gHbcGePP1Feh/EL9mLwp438cz/ErRPHHjXwJ4kv7NLDU77wnqiWZ1KFMiMXCvHIjsgJCvgMBgZ4GOs+Ffwg8H/BzwQPAnglL2G1aWe6uLy5uDPeXd1Mcy3M0rcvKx5zjHAAAAAoA8f13/lIh4W/7JXf/APpxSvpavmWb9hnTbjxdD49l/aX+ODeIreyfTYdSOv2Xnx2rPvaEN9jyELAHHrX0dpGntpOk2WlPqF3ftZ28dubq7cPPOUUL5kjAAF2xliAASTwKALlFFFABRRRQAUUUUAFFFFABRRRQAUUUUAFFFFABRRRQAUUUUAFFFFAHzN+0qwtf2m/2ZdRvGCWK67rtqzscL9plsVEA+pIYD3qv+1gyXvx4/Zp0PTvm1l/GlzfxqnLiygtt10f93aVz9K9q+L3we8GfG3wmPCXjSC6WOC7h1CxvrGfyLzT7yI5juLeUAmORecEdiQcg1y/w4/Zm8K+AfHR+Jmq+NfGfjjxTHYtptnqfirU0u5LC2YgvHAsccaJuwNzbSx555bIB6b4kgurrw7qtrY5+0zWU8cOOu8xkL+uK+ff+CfWoaWf2MvArRSxxJp9tqEN4rEKYZUvbgyBwfunPzc9iD3r2Xwz8OLbwx468WeO4vFfiPUJfFrWjSabf3wlsNP8AIi8sC0i2jyg/3n5bc3PFeV+JP2K/h/reoeJn0j4gfEPwvonjK6kvNe8O6FraW+mX00oxMzRtEzJ5n8YR1DA46cUAZP8AwT/vLXSv2RPD+s6ndRWemrc6zfCedxHFFa/b7hg7M3CqFGcngCsjw5/av7Y/xf8ADvxSS0ksfg78NNTa+8MvPEUn8Tayg2i9Ck5S2hOfLOMs2fUhPW/ih+zh4F+Jvwat/gSNR1vwt4VtktoEi8PXEdvIbeEYWBjIkitGeCwKnJUEmsTwp+zFqHhCbSF039pD4uSadozweRpcl9pq2bwxEbYGSOxUiIqu0qpX5eAR1oA9wooooAKKKKACiiigAooooAKKKKACiiigAooooAKKKKACiiigAooooAK+YvGKvaf8FD/h9dX5xbX/AMOdUtLDd0N1HdeZKF9/KIJ9q+na87+MPwL8HfGm30eTXb3WNH1jw7dm90bXdDu/smo6fKy7X8qXa3yuvDKwKtgZHAoA8f8AiUDqf/BQb4OWujAtdaN4Q16/1nZ1SxlUxQb8dvP6Z7mvVv2n7W8vf2cfida6ejvcSeE9UCKgyx/0Z8gY9s0z4T/s9eE/hR4h1rxqniLxP4r8Va/FHa3uveJdQF3eG2jJKQIVREjjBOdqIMnGc4GN34e/DCy+Hv8Awk6x+K/EniBPFGtXWtSprt6LpbMz4zbWw2r5duuPljOcZPJoA8v0DW/D5/YGstYN1btpUfwoUSOGBQKulbXQ+4IKkdcgjrWn+y1o2sXf7Hnw+0SLV7rR9QvfBltFb38MaPNZmW3/AHUyLICpZAysAwKnAyCOK59/2EfhY1lL4Wi8b/EKDwLPfnUJPBEWuKuiFjL5pi8ryvNERf5vLEmM89ea9U+JXwjtPiLpek6ZZeOPF3gs6LJ5lpceFdRWxkC7NojYFHR4wAMKVI4FAHzXr3hXxB8B/wBqP4T+LPib48v/AIqDxhdXXhjSLvVo1gvfDtzLEP3ttDAVt3jlDbJWMQdV2nceh+0a8X8FfsseEPC/xAsfij4m8ceN/H3iXSIZYdKvPFWqpdLpwlXbIYIoo440Zl4Lbc17RQAUUUUAFFFFABRRRQAUUUUAFFFFABRRRQAUUUUAFFFFABRRRQAUUUUAfL37Nbx2f7Vv7TelX5CanLq2gXqq/DSWjWT+Uy56qM446ZHrVr4FMt1+2L+0feWbB7VF8L2rspyv2hLKXeM+oBUGu9+Jv7NvhX4jeNbT4k2Pi/xf4K8V21idMk1fwvqKWk91abtwhmEkciSKGJIyuQe/AxofDv4BeCfhf8P9Z8A+FLzWYz4ie7uNV1ue883Vby7uFKyXUlwV5mGRtbGAQOPUA8p/4KIwzj4E6Tqsis2l6T400K91gAZH2MXO1tw7je8f6Uz/AIKOhr/9mO50fTTv1bWfEOiWejhOWe7a8jZAmO+1X6V7LbfBbwlL8HR8EfFV1qvizQZNObTbqfXLvz727jJJ3yzKFJkBIIcAEFVIwRmuE8LfsfeCtB8ReHde8Q/ET4h+NYPCEwuNA0vxNra3Vjp86qVjlSNYkLugJCNIzleMdBQB5x+0Z8UtOm/aI8PeCviN4T8YzfD/AMEQweImTSvD13qMWuay3NskhhQqIbcfvMEndIVBXC5rJ/Yn+M/hbxD8Z/jPodlpHiWKfxX40udWsnudEuIYoYVtlytw7KBBJ8pxG+GPHHNfa1cL8Ofg/wCG/hjr3jXxDoN/qdxceO9bbXtRS7kjZIrhkCFYQqKVTCjhixz3oA7qiiigAooooAKKKKACiiigAooooAKKKKACiiigAooooAKKKKACiiigAr5h/wCCd+bT9nifTb5guo6X4r1211MMfmS5W8dm3e+1lPNfT1eD+Kv2PvBWveJPEXiHw58QviD4Ij8Xyefr+meF9ZSzsdRmKhXleNonKSOBh2jKluc8k5AOU/4J5I0/wh8Xa5aqw0XW/iFr+oaGcYRrFplRSn+zvSXp3Bq38cZI7D9s39nLUNQkWK0li8UWcMkhwgunsF2Lk8bmHygdSTgV6brfwC8H3vwVh+BHhbV/EHgvQLS3tra0ufDl/wDZr+2SGVZPknZXOXKnexBLB3ycnNXPi18E/Bfxo8IWnhHxg2ooNMu7fUNN1OxufIv7C8h/1dxDMAdkg55wRyeKAPI/2lZIrj9p79mbS7Rg2o/27rd2EXlltksB5rH0Xp+XtXT+Lv2Pfhp4y8eeKfiReeJ/Hmma34sNq11Jo3iSfTo4WtrdYIWRINoYqqkgyb8F2xgHFbHwz/Zr8KfDrxvc/EvUPF/i/wAbeK57AaXFq/inUEu5rS03bjDAI440jVjySFyeeeTmp4t/Zql8T+I9X1+y+P8A8XvDsetS+bPpuj+IIo7OM4AIhSSB2hBx/Aw5oA5r9jTx74216w+Ivw28c+JrjxTc/DPxfdeHLPxBcYM1/aIAY/OYABpk5Dt1ORnJyT9GVxXwi+EHgj4IeDk8E+A7K4iszcS3tzPdXDT3N5dSkGS4nlbl5GwMnpgAAAACu1oAKKKKACiiigAooooAKKKKACiiigAooooAKKKKACiiigAooooAKKKKACiiigAooooAKKKKACiiigAooooAKKKKACiiigAooooAKKKKACiiigAooooAKKKKACiiigAooooAKKKKACiiigAooooAKKKKACiiigAooooAKKKKACiiigAooooAKKKKACiiigAooooAKKKKACiiigAooooAKKKKACiiigAooooA4bUfjt8D9H1e48P6t8ZPA1lqlpM1tPZXPiKzjuIpQcGN42kDKwPBUjNdrBcQXUEd1azRzQzKHjkjYMrqRkEEcEEd6+EPgcf2ax8Tv2jB8dT8OPtH/CxNQ8j/AISj7D532bb83l/aPm25z93v716T/wAE7tv/AAq3xifD41EeBT441X/hCftvm/8AIG/d+V5Xm/P5e7fjPfdnnNAH0vpnibw3reoalpOjeINNv77RpVg1G2tbuOWWykYZVJkUkxsRyAwBIpPEHinwz4TtYb7xV4i0vRra5uEtIZtQvI7dJJ3zsiVnIBdsHCjk44FfNniBl+CP7dWh6+k8lr4c+OmiPpN+G/1H9vWABtnJ6KzwN5ar/EzMeey/FhR8af2x/h38JY7b7RofwttH8e6+XbMTXz/utOix/fRsy89VY+hyAfU1Yvibxn4V8GLpj+KtfstKXWtSg0fTzcyBPtN7NnyoEz1dtrYHfBr5b+If7S37QXwvttU8UeKNW/Z5+z6JFJd3ng+HxTcLrphjBZoo5nxG0+Bwnk4J4GTjN/8Aay8Uad438Cfs4+NNH3/YNf8Ai14M1S13jDeTOksiZ99rCgD6vorybSfiz4jv/wBqDX/gpNZaaND0rwfZ+IIbhY5PtbXEt08TKzb9hjCqCAEBznk9Kg8N/GXXdS/aN+IXwm1a30q38P8Ag/w/per292EdbgvcCQy+a5coUUJxhFI5yTQB7BRXyXoX7SX7QvxX0Sb4mfCLRfhRp/g5pZ/7J07xRq1zHrOsW8UjJ5o8vEdr5mw7FkD9QTgEE+8/Az4s6T8c/hP4b+Kui2Ullb6/atK1rI4dreaORopoiwA3bZY3XdgZAzgZxQB3dFFFABRRRQAUUUUAFFFFABRRRQAUUUUAFFFFABRRRQAUUUUAFFFFABRRRQAUUUUAFFFFABRRRQAUUUUAFFFFABRRRQAUUUUAFFFFABRRRQAUUUUAFFFFABRRRQAUUUUAFFFFABRRRQAUUUUAFFFFABRRRQAUUUUAFFFFABRRRQAUUUUAFFFFABRRRQAUUUUAFFFFABRRRQAUUUUAFFFFABRRRQAUUUUAFFFFABRRRQAUUUUAFFFFABRRRQAUUUUAFFFFABRRRQAUUUUAFFFFABRRRQAUUUUAFFFFABRRRQAUUUUAFFFFABRRRQAUUUUAFFFFABRRRQAUUUUAFFFFABRRRQAUUUUAFFFFABRRRQAUUUUAFFFFABRRRQAUUUUAFFFFABRRRQAUUUUAfJX7OXwI0DU/ib8d/EHxV+DWn3Ul78Q7u60W+8QeHUkae0YZEltJPH80ROSGQ7c17n8TfgF8KvjBBo9t498PXV3DoKypp8dlq97pywrIIw4xaTRhhiJMBs7ccYyc+hUUAfOf7T3wKln/AGao/Dnwe066j1r4cXVr4m8J2/mT305u7KQyCIGRnlld0aVFBYks6jpWJ+yn4I+I2teB/ib8bPG+g6l4Y+I3xX1G8lhttThkguNLs4I2g0+Bo3VWQR/MQSAWUofSvqeigD81NN8GQaZ+zBq/wlj/AGFvFF18WYdAv7K/12/8JQTQvdGKQyXsOotuaeQ5JiWLc5k2qoxhq9j8eeBPHF5+zj+yZodp4N12fUvDnizwDc6zZx6dM0+mxW9mVuJLmMLuhWJuHZwAp4bFfZFFAHy/8Rrnxf8ABv8Aavb4z/8ACr/F3jDwn4n8Gw+HZpfC2nHULrT72C6aVTLApD+WyN98Z5+lY3wa0Xx78R/2j/jP4u8dfDTxJ4P0Dxn4T0vTtNGpWhjl8gJLGytIu6Lz8Eu0auxQOobkEV9c0UAfnh8M/hV8Nvg54UT4afHX9hrxD4v8S6DJPbxeJfDng9NXtNdg81zDP5qPmKQxlQVl24xyQcgfbHwW03Q9K+Gei23hv4aS/D/T2SWaLw5NDHFJY75XYh0jLIrMSXIBOC/rXb0UAFFFFABRRRQAUUUUAFFFFABRRRQAUUUUAFFFFABRRRQAUUUUAFFFFABRRRQAUUUUAFFFFABRRRQAUUUUAFFFFABRRRQAUUUUAFFFFABRRRQAUUUUAFFFFABRRRQAUUUUAFFFFABRRRQAUUUUAFFFFABRRRQAUUUUAFFFFABRRRQAUUUUAFFFFABRRRQAUUUUAFFFFABRRRQAUUUUAFFFFABRRRQAUUUUAFFFFABRRRQAUUUUAFFFFABRRRQAUUUUAFFFFABRRRQAUUUUAFFFFABRRRQAUUUUAFFFFABRRRQAUUUUAFFFFABRRRQAUUUUAFFFFABRRRQAUUUUAFFFFABRRRQAUUUUAFFFFABRRRQAUUUUAFFFFABRRRQAUUUUAFFFFABRRRQAUUUUAFFFFABRRRQAUUUUAFFFFABRRRQAUUUUAFFFFABRRRQAUUUUAFFFFABRRRQAUUUUAFFFFABRRRQAUUUUAFFFFABRRRQAUUUUAFFFFABRRRQAUUUUAFFFFABRRRQAUUUUAFFFFABRRRQAUUUUAFFFFABRRRQAUUUUAFFFFABRRRQAUUUUAFFFFABRRRQAUUUUAFFFFABRRRQAUUUUAFFFFAH/2Q==)"
      ],
      "metadata": {
        "id": "p4OcGoTO1dqR"
      }
    },
    {
      "cell_type": "code",
      "source": [
        "import numpy as np\n",
        "import scipy.stats as stats\n",
        "\n",
        "# Sample pass@k scores (replace with actual values from your results)\n",
        "llm_pass_k = np.array([75, 60])  # LLM-generated (Pass@1, Pass@10)\n",
        "human_pass_k = np.array([20, 40])  # Human-written (Pass@1, Pass@10)\n",
        "\n",
        "# T-Test (checks if means are significantly different)\n",
        "t_stat, p_value = stats.ttest_ind(llm_pass_k, human_pass_k)\n",
        "print(f\"T-Test: t-statistic={t_stat:.4f}, p-value={p_value:.4f}\")\n",
        "\n",
        "# Chi-Square Test (checks dependency between LLM & human pass rates)\n",
        "observed = np.array([llm_pass_k, human_pass_k])\n",
        "chi2_stat, chi2_p, dof, expected = stats.chi2_contingency(observed)\n",
        "print(f\"Chi-Square Test: chi2-stat={chi2_stat:.4f}, p-value={chi2_p:.4f}\")\n",
        "\n",
        "# Interpretation\n",
        "alpha = 0.05  # Significance level\n",
        "if p_value < alpha:\n",
        "    print(\"🔹 T-Test: Significant difference detected between LLM and human tests!\")\n",
        "else:\n",
        "    print(\"⚠️ T-Test: No significant difference detected.\")\n",
        "\n",
        "if chi2_p < alpha:\n",
        "    print(\"🔹 Chi-Square: LLM and human test pass rates are significantly different!\")\n",
        "else:\n",
        "    print(\"⚠️ Chi-Square: No significant difference in pass rates.\")\n"
      ],
      "metadata": {
        "colab": {
          "base_uri": "https://localhost:8080/"
        },
        "id": "nG94unCUbtw6",
        "outputId": "25288980-41e0-418f-d9b6-16fa5f5141f5"
      },
      "execution_count": null,
      "outputs": [
        {
          "output_type": "stream",
          "name": "stdout",
          "text": [
            "T-Test: t-statistic=3.0000, p-value=0.0955\n",
            "Chi-Square Test: chi2-stat=7.3451, p-value=0.0067\n",
            "⚠️ T-Test: No significant difference detected.\n",
            "🔹 Chi-Square: LLM and human test pass rates are significantly different!\n"
          ]
        }
      ]
    }
  ]
}